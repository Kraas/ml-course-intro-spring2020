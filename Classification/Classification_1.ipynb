{
 "cells": [
  {
   "cell_type": "markdown",
   "metadata": {
    "slideshow": {
     "slide_type": "slide"
    }
   },
   "source": [
    "# Задача классификации"
   ]
  },
  {
   "cell_type": "markdown",
   "metadata": {},
   "source": [
    "## Линейная классификация"
   ]
  },
  {
   "cell_type": "markdown",
   "metadata": {},
   "source": [
    "Закодируем виды цветков Ириса метками класса:\n",
    "\n",
    "iris setosa: -1\n",
    "\n",
    "iris virginica: 1\n",
    "\n",
    "Запишем метки класса в переменную $y$"
   ]
  },
  {
   "cell_type": "code",
   "execution_count": 7,
   "metadata": {},
   "outputs": [
    {
     "name": "stdout",
     "output_type": "stream",
     "text": [
      "[-1 -1 -1 -1 -1 -1 -1 -1 -1 -1 -1 -1 -1 -1 -1 -1 -1 -1 -1 -1 -1 -1 -1 -1\n",
      " -1 -1 -1 -1 -1 -1 -1 -1 -1 -1 -1 -1 -1 -1 -1 -1 -1 -1 -1 -1 -1 -1 -1 -1\n",
      " -1 -1  1  1  1  1  1  1  1  1  1  1  1  1  1  1  1  1  1  1  1  1  1  1\n",
      "  1  1  1  1  1  1  1  1  1  1  1  1  1  1  1  1  1  1  1  1  1  1  1  1\n",
      "  1  1  1  1]\n"
     ]
    }
   ],
   "source": [
    "y = kind_iris.copy() #!Зачем вызывается метод copy?\n",
    "y[y=='iris setosa'] = -1\n",
    "y[y=='iris virginica'] = 1\n",
    "y = y.astype(int)\n",
    "print(y)"
   ]
  },
  {
   "cell_type": "markdown",
   "metadata": {},
   "source": [
    "Отлично. Теперь у нас есть признаки и численная переменная, которую требуется предсказать"
   ]
  },
  {
   "cell_type": "code",
   "execution_count": 8,
   "metadata": {
    "scrolled": true
   },
   "outputs": [
    {
     "name": "stdout",
     "output_type": "stream",
     "text": [
      "    Длина чашелистника  Ширина чашелистника  Вид Ириса\n",
      "0                  5.1                  3.5       -1.0\n",
      "1                  4.9                  3.0       -1.0\n",
      "2                  4.7                  3.2       -1.0\n",
      "3                  4.6                  3.1       -1.0\n",
      "4                  5.0                  3.6       -1.0\n",
      "5                  5.4                  3.9       -1.0\n",
      "6                  4.6                  3.4       -1.0\n",
      "7                  5.0                  3.4       -1.0\n",
      "8                  4.4                  2.9       -1.0\n",
      "9                  4.9                  3.1       -1.0\n",
      "10                 5.4                  3.7       -1.0\n",
      "11                 4.8                  3.4       -1.0\n",
      "12                 4.8                  3.0       -1.0\n",
      "13                 4.3                  3.0       -1.0\n",
      "14                 5.8                  4.0       -1.0\n",
      "15                 5.7                  4.4       -1.0\n",
      "16                 5.4                  3.9       -1.0\n",
      "17                 5.1                  3.5       -1.0\n",
      "18                 5.7                  3.8       -1.0\n",
      "19                 5.1                  3.8       -1.0\n",
      "20                 5.4                  3.4       -1.0\n",
      "21                 5.1                  3.7       -1.0\n",
      "22                 4.6                  3.6       -1.0\n",
      "23                 5.1                  3.3       -1.0\n",
      "24                 4.8                  3.4       -1.0\n",
      "25                 5.0                  3.0       -1.0\n",
      "26                 5.0                  3.4       -1.0\n",
      "27                 5.2                  3.5       -1.0\n",
      "28                 5.2                  3.4       -1.0\n",
      "29                 4.7                  3.2       -1.0\n",
      "..                 ...                  ...        ...\n",
      "70                 6.9                  3.2        1.0\n",
      "71                 5.6                  2.8        1.0\n",
      "72                 7.7                  2.8        1.0\n",
      "73                 6.3                  2.7        1.0\n",
      "74                 6.7                  3.3        1.0\n",
      "75                 7.2                  3.2        1.0\n",
      "76                 6.2                  2.8        1.0\n",
      "77                 6.1                  3.0        1.0\n",
      "78                 6.4                  2.8        1.0\n",
      "79                 7.2                  3.0        1.0\n",
      "80                 7.4                  2.8        1.0\n",
      "81                 7.9                  3.8        1.0\n",
      "82                 6.4                  2.8        1.0\n",
      "83                 6.3                  2.8        1.0\n",
      "84                 6.1                  2.6        1.0\n",
      "85                 7.7                  3.0        1.0\n",
      "86                 6.3                  3.4        1.0\n",
      "87                 6.4                  3.1        1.0\n",
      "88                 6.0                  3.0        1.0\n",
      "89                 6.9                  3.1        1.0\n",
      "90                 6.7                  3.1        1.0\n",
      "91                 6.9                  3.1        1.0\n",
      "92                 5.8                  2.7        1.0\n",
      "93                 6.8                  3.2        1.0\n",
      "94                 6.7                  3.3        1.0\n",
      "95                 6.7                  3.0        1.0\n",
      "96                 6.3                  2.5        1.0\n",
      "97                 6.5                  3.0        1.0\n",
      "98                 6.2                  3.4        1.0\n",
      "99                 5.9                  3.0        1.0\n",
      "\n",
      "[100 rows x 3 columns]\n"
     ]
    }
   ],
   "source": [
    "print_data(X,y)"
   ]
  },
  {
   "cell_type": "markdown",
   "metadata": {},
   "source": [
    "Для предсказания меток класса по нашим двум признакам, попробуем воспользоваться уже известным нам методом *линейная регрессия*:\n",
    "\\begin{equation*}\n",
    "\\tilde{y} = \\theta_0 + \\theta_1 x_1 + \\theta_2 x_2.\n",
    "\\end{equation*}\n",
    "$\\tilde{y}$ - Ответ модели  \n",
    "$x_1$ - Длина чашелистника  \n",
    "$x_2$ - Ширина чашелистника  \n",
    "$\\theta_0, \\theta_1, \\theta_2$ - параметры модели (веса)"
   ]
  },
  {
   "cell_type": "markdown",
   "metadata": {},
   "source": [
    "Но как мы знаем, линейная регрессия выдает ответы в непрерывном диапазоне, а нам нужны ответы принимающие значения -1 или 1.\n",
    "\n",
    "Для решения этой проблемый воспользуемся функцией знака от ответов линейной регрессии:"
   ]
  },
  {
   "cell_type": "markdown",
   "metadata": {},
   "source": [
    "\\begin{equation*}\n",
    "\\tilde{y} = sign(\\theta_0 + \\theta_1 x_1 + \\theta_2 x_2), \\\\\n",
    " sign(t) = \n",
    " \\begin{cases}\n",
    "   1, &\\text{t > 0}\\\\\n",
    "   0, &\\text{t = 0}\\\\\n",
    "   -1, &\\text{t < 0}\n",
    " \\end{cases}\n",
    "\\end{equation*}"
   ]
  },
  {
   "cell_type": "markdown",
   "metadata": {},
   "source": [
    "\\begin{equation*}\n",
    " sign(t) = \n",
    " \\begin{cases}\n",
    "   1, &\\text{t > 0}\\\\\n",
    "   0, &\\text{t = 0}\\\\\n",
    "   -1, &\\text{t < 0}\n",
    " \\end{cases}\n",
    "\\end{equation*}"
   ]
  },
  {
   "cell_type": "code",
   "execution_count": 9,
   "metadata": {},
   "outputs": [
    {
     "data": {
      "image/png": "[encoded data removed]",
      "text/plain": [
       "<Figure size 800x400 with 1 Axes>"
      ]
     },
     "metadata": {},
     "output_type": "display_data"
    }
   ],
   "source": [
    "plot_sign()"
   ]
  },
  {
   "cell_type": "markdown",
   "metadata": {},
   "source": [
    "Избавимся от свободного члена $\\theta_0$  и запишим выражение в вектором виде:\n",
    "\n",
    "\\begin{equation*}\n",
    "{X} = \\begin{pmatrix} 1 & x_{1} & x_{2}\\end{pmatrix} \\\\\n",
    "\\Theta = \\begin{pmatrix}\\theta_0 &  \\theta_1 & \\theta_2\\end{pmatrix}^T \\\\\n",
    "\\tilde{y}= sign(\\begin{pmatrix} 1 & x_{1} & x_{2}\\end{pmatrix} \\begin{pmatrix}\n",
    "    \\theta_0\\\\\n",
    "    \\theta_1\\\\\n",
    "    \\theta_2\\\\\n",
    "  \\end{pmatrix}) =  sign(1 \\cdot \\theta_0 + \\theta_1 x_{1} + \\theta_2 x_{2}) \\\\\n",
    "\\tilde{y} = sign(X\\Theta)\n",
    "\\end{equation*}\n"
   ]
  },
  {
   "cell_type": "markdown",
   "metadata": {},
   "source": [
    "### Краткие сведения из линейной алгебры"
   ]
  },
  {
   "cell_type": "markdown",
   "metadata": {},
   "source": [
    "**Гиперплоскость** - подпространство векторного пространства, размерности на 1 меньше исходного пространства.\n",
    "\n",
    "Ненулевой вектор $\\overline{n}$, ортогональный гиперплоскости, называется нормальным вектором или **нормалью** к этой гиперплоскости.\n",
    "\n",
    "Пример:\n",
    "* Плоскость в трехмерном пространстве\n",
    "* Прямая на плоскости\n",
    "* Точка на прямой\n",
    "* Трехмерное пространство в четырехмерном\n",
    "\n",
    "Так как все векторы принадлежащие гиперплоскости - ортогональны вектору нормали, выпишим \n",
    "\n",
    "*общее уравнение гиперплоскости* в $n$ мерном пространстве:\n",
    "\\begin{equation*}\n",
    "\\sum_{i=0}^n A_ix_i = 0, \\\\\n",
    "x_0 = 1, \\\\\n",
    "\\sum_{i=1}^n A_i^2 \\neq 0.\n",
    "\\end{equation*}\n",
    "\n",
    "Вектором нормали $\\overline{n}$ к заданной таким образом гиперплоскости, будет вектор:\n",
    "\\begin{equation*}\n",
    "\\overline{n} = (A_1, A_2, ..., A_n)\n",
    "\\end{equation*}"
   ]
  },
  {
   "cell_type": "markdown",
   "metadata": {},
   "source": [
    "**Пример**: уравнение плоскости в трехмерном пространстве:\n",
    "\\begin{equation*}\n",
    "A_0 + A_1x_1 + A_2x_2 + A_3x_3 = 0, \\\\\n",
    "\\overline{n} = (A_1, A_2, A_3)\n",
    "\\end{equation*}"
   ]
  },
  {
   "cell_type": "markdown",
   "metadata": {},
   "source": [
    "![](gipyerploskosti.jpg?raw=true)"
   ]
  },
  {
   "cell_type": "markdown",
   "metadata": {},
   "source": [
    "**Расстояние от точки до гиперплоскости**:\n",
    "\n",
    "Длина ортогональной проекции вектора $\\overline{a}$ на вектор $\\overline{b}$, считается по формуле:\n",
    "\n",
    "\\begin{equation*}\n",
    "np_{\\overline{b}}\\overline{a} = \\| \\overline{a}\\|cos(\\widehat{ \\overline{a},\\overline{b}}) = \\dfrac{(\\overline{a}, \\overline{b})}{\\|\\overline{b}\\|}\n",
    "\\end{equation*}\n",
    "\n",
    "\n",
    "Пусть требуется посчитать расстояние от точки $M^*$ до гиперплоскости.\n",
    "\n",
    "Возьмем любую точку $M_0$ принадлежащую данной гиперплоскости.\n",
    "\n",
    "Тогда расстояние от точки $M^*$ до гиперплоскости будет равно длине ортогональной проекции вектора $\\overline{M_0M*}$ на вектор нормали $\\overline{n}$.\n",
    "\n",
    "\n",
    "\\begin{equation*}\n",
    "d = \\dfrac{(M^* - M_0,\\overline{n})}{\\|\\overline{n}\\|} = \\dfrac{(M^*,\\overline{n})}{\\|\\overline{n}\\|} - \\dfrac{(M_0,\\overline{n})}{\\|\\overline{n}\\|} \\\\\n",
    "d = \\dfrac{(M^*,\\overline{n}) + A_0}{\\|\\overline{n}\\|} \\\\\n",
    "\\end{equation*}"
   ]
  },
  {
   "cell_type": "markdown",
   "metadata": {},
   "source": [
    "### Геометрический смысл задачи классификации"
   ]
  },
  {
   "cell_type": "markdown",
   "metadata": {},
   "source": [
    "Мы остановились на том, что опрделили модель классификации, как знак от произведения матрицы признаков на матрицу весов\n",
    "\n",
    "\\begin{equation*}\n",
    "\\tilde{y} = sign(X\\Theta)\n",
    "\\end{equation*}"
   ]
  },
  {
   "cell_type": "markdown",
   "metadata": {},
   "source": [
    "Заметим, что под функцией знака стоит **скалярное произведение** вектора признаков $X$ на вектор весов $\\Theta$."
   ]
  },
  {
   "cell_type": "markdown",
   "metadata": {},
   "source": [
    "Уравнение $X\\Theta = 0$ задает гиперплоскость в пространстве признаков с вектором нормали $\\Theta$.\n",
    "\n",
    "\n",
    " * Если $X\\Theta > 0$, то признаки попали по одну сторону от гиперплоскости\n",
    "\n",
    " * Если $X\\Theta < 0$, то признаки попали по другую сторону от гиперплоскости."
   ]
  },
  {
   "cell_type": "markdown",
   "metadata": {},
   "source": [
    "А это значит, что наш *линейный классификатор*\n",
    "\\begin{equation*}\n",
    "\\tilde{y} = sign(X\\Theta),\n",
    "\\end{equation*}\n",
    "\n",
    "* будет давать метку -1, если точки лежат по одну сторону от гиперплосмкости\n",
    "* метку 1, если точки лежать по другую сторону от гиперплоскости"
   ]
  },
  {
   "cell_type": "markdown",
   "metadata": {},
   "source": [
    "Итак, *линейный классификатор* строит **разделяющую гиперплоскость** в пространстве признаков."
   ]
  },
  {
   "cell_type": "markdown",
   "metadata": {},
   "source": [
    "Посмотрим, как будет выглядеть разделяющая гиперплоскость для задачи кассификации цветков Ириса\n",
    "\n",
    "\n",
    "Уравнение гиперплоскости $X\\Theta = 0$"
   ]
  },
  {
   "cell_type": "code",
   "execution_count": 10,
   "metadata": {},
   "outputs": [
    {
     "data": {
      "application/vnd.jupyter.widget-view+json": {
       "model_id": "4ef3c27041544981bea8bfafdb504a4f",
       "version_major": 2,
       "version_minor": 0
      },
      "text/plain": [
       "interactive(children=(FloatSlider(value=-0.92533091, description='theta_0: ', max=0.0, min=-1.8, step=0.3), Fl…"
      ]
     },
     "metadata": {},
     "output_type": "display_data"
    }
   ],
   "source": [
    "plot_data_with_gip(X,kind_iris)"
   ]
  },
  {
   "cell_type": "markdown",
   "metadata": {},
   "source": [
    "Осталось научиться подбирать параметры $\\Theta$."
   ]
  },
  {
   "cell_type": "markdown",
   "metadata": {},
   "source": [
    "Как и в задачи регрессии, для поиска весов модели $\\Theta$, требуется задать функцию ошибки."
   ]
  },
  {
   "cell_type": "markdown",
   "metadata": {},
   "source": [
    "Введем следующие обозначения:"
   ]
  },
  {
   "cell_type": "markdown",
   "metadata": {},
   "source": [
    "$X$ - матрица признаков\n",
    "\n",
    "$y$ - истинные метки\n",
    "\n",
    "$X_i = \\begin{pmatrix} 1&  x_{i,1} & x_{i,2}\\end{pmatrix}$ - признаки $i$-го объекта ($i$-го цветка Ириса)\n",
    "\n",
    "$y_i \\in$ {-1,1} - истинная метка на $i$-м объекте\n",
    "\n",
    "$\\Theta = \\begin{pmatrix}\\theta_0 &  \\theta_1 & \\theta_2\\end{pmatrix}^T$"
   ]
  },
  {
   "cell_type": "markdown",
   "metadata": {},
   "source": [
    "Заметим, что произведение $X_i\\Theta$ пропорцианально расстоянию от $i$-го объекта до разделяющей гиперплоскости:"
   ]
  },
  {
   "cell_type": "markdown",
   "metadata": {},
   "source": [
    "\\begin{equation*}\n",
    "d = \\dfrac{X_i\\Theta}{\\|\\Theta\\|} \\sim X_i\\Theta\n",
    "\\end{equation*}"
   ]
  },
  {
   "cell_type": "markdown",
   "metadata": {},
   "source": [
    "Введем понятие отступа на $i$-ом объекте:\n",
    "\n",
    "\\begin{equation*}\n",
    "M_i = y_i \\cdot X_i\\Theta\n",
    "\\end{equation*}\n",
    "Замети, что\n",
    "* $M_i > 0$, классификатор дал верный ответ\n",
    "\n",
    "* $M_i < 0$, классификатор ошибся\n",
    "\n",
    "Причем абсолютное значение отступа $|M_i|$ характеризует уверенность классификатора в ответе,\n",
    "\n",
    "ведь чем больше $|M_i|$, тем дальше находятся признаки от разделяющей гиперплоскости."
   ]
  },
  {
   "cell_type": "markdown",
   "metadata": {},
   "source": [
    "Давайте оценивать ошибку классификации, как **долю неправильных ответв**:\n",
    "    \n",
    "\\begin{equation*}\n",
    "L = \\dfrac{1}{N}\\sum_{i=1}^N [M_i<0],\\\\\n",
    "\\begin{cases}\n",
    "[True] = 1, \\\\\n",
    "[False] = 0.\n",
    "\\end{cases}\n",
    "\\end{equation*}\n"
   ]
  },
  {
   "cell_type": "markdown",
   "metadata": {},
   "source": [
    "Но к сожалению функция $f(M_i) = [M_i < 0]$ разрывна и имеет нулевую производную всюду кроме нуля."
   ]
  },
  {
   "cell_type": "code",
   "execution_count": 11,
   "metadata": {},
   "outputs": [
    {
     "data": {
      "image/png": "[encoded data removed]",
      "text/plain": [
       "<Figure size 800x400 with 1 Axes>"
      ]
     },
     "metadata": {},
     "output_type": "display_data"
    }
   ],
   "source": [
    "plot_indent()"
   ]
  },
  {
   "cell_type": "markdown",
   "metadata": {},
   "source": [
    "Минимизировать такую функцию не просто."
   ]
  },
  {
   "cell_type": "markdown",
   "metadata": {},
   "source": [
    "Оценим сверху функцию $f(M_i) = [M_i < 0]$ гладкой функцией $g(M_i)$:\n",
    "    \n",
    "\\begin{equation*}\n",
    "f(M_i) \\leqslant g(M_i)\n",
    "\\end{equation*}\n",
    "\n",
    "Тогда минимизируя $g(M_i)$, должна минимизироваться и $f(M_i)$:\n",
    "\n",
    "\\begin{equation*}\n",
    "g(M_i) \\xrightarrow {\\Theta} min \\Rightarrow f(M_i) \\xrightarrow {\\Theta} min.\n",
    "\\end{equation*}"
   ]
  },
  {
   "cell_type": "markdown",
   "metadata": {},
   "source": [
    "Тогда суммарная ошибка по обучающей выборке:\n",
    "\\begin{equation*}\n",
    "L = \\dfrac{1}{N}\\sum_{i=1}^N [M_i<0] \\leqslant \\tilde L = \\dfrac{1}{N}\\sum_{i=1}^N g(M_i).\n",
    "\\end{equation*}\n",
    "\n"
   ]
  },
  {
   "cell_type": "markdown",
   "metadata": {},
   "source": [
    "Примеры гладкой функции $g(M_i)$:\n",
    "\n",
    "\n",
    "1. $[M_i<0] \\leqslant (1 - M_i)^2$ - квадратичная аппроксимация\n",
    "2. $[M_i<0] \\leqslant max(0,1 - M_i)$ - кусочно линейная (Hinge loss, метод опорных векторов)\n",
    "3. $[M_i<0] \\leqslant e^{-M_i}$ - экспоненциальная\n",
    "4. $[M_i<0] \\leqslant ln(1 + e^{-M_i})$ - логистическая (Log loss, логистическая регрессия) "
   ]
  },
  {
   "cell_type": "code",
   "execution_count": 12,
   "metadata": {},
   "outputs": [
    {
     "data": {
      "image/png": "[encoded data removed]",
      "text/plain": [
       "<Figure size 800x400 with 1 Axes>"
      ]
     },
     "metadata": {},
     "output_type": "display_data"
    }
   ],
   "source": [
    "plot_indent_with_maj()"
   ]
  },
  {
   "cell_type": "markdown",
   "metadata": {},
   "source": [
    "Рассмотрим логистичесскую аппроксимацию $g(M_i) = ln(1 + e^{-M_i})$:"
   ]
  },
  {
   "cell_type": "markdown",
   "metadata": {},
   "source": [
    "\\begin{equation*}\n",
    "\\tilde L = \\dfrac{1}{N}\\sum_{i=1}^N g(M_i)\\\\\n",
    "\\tilde L = \\dfrac{1}{N}\\sum_{i=1}^N ln(1 + e^{-M_i})\\\\\n",
    "\\tilde L = \\dfrac{1}{N}\\sum_{i=1}^N ln(1 + e^{-y_i \\cdot X_i\\Theta})\n",
    "\\end{equation*}"
   ]
  },
  {
   "cell_type": "markdown",
   "metadata": {},
   "source": [
    "Теперь наша функция гладкая, от нее можно брать производные и искать минимум.\n",
    "\n",
    "Расчитаем частную производную по всесу $\\theta_j$:"
   ]
  },
  {
   "cell_type": "markdown",
   "metadata": {},
   "source": [
    "\\begin{equation*}\n",
    "\\dfrac{\\partial \\tilde L(\\Theta)}{\\partial \\theta_j} = \\dfrac{\\partial}{\\partial \\theta_j}(\\dfrac{1}{N} \\sum_{i=1}^{N}ln(1 + e^{- y_i \\cdot X_i\\Theta})\n",
    "\\end{equation*}\n",
    "\n",
    "\\begin{equation*}\n",
    "\\dfrac{\\partial \\tilde L(\\Theta)}{\\partial \\theta_j} = \\dfrac{1}{N} \\sum_{i=1}^{N}\\dfrac{1}{1 + e^{-y_i \\cdot X_i\\Theta}}\\dfrac{\\partial (1 + e^{-y_i \\cdot X_i\\Theta})}{\\partial \\theta_j}\n",
    "\\end{equation*}\n",
    "\n",
    "\\begin{equation*}\n",
    "\\dfrac{\\partial \\tilde L(\\Theta)}{\\partial \\theta_j} = \\dfrac{1}{N} \\sum_{i=1}^{N}\\dfrac{-y_ie^{-y_i \\cdot X_i \\Theta }}{1 + e^{-y_i \\cdot X_i\\Theta}}\\dfrac{\\partial X_i\\Theta}{\\partial \\theta_j}\n",
    "\\end{equation*}\n",
    "\n",
    "\\begin{equation*}\n",
    "\\dfrac{\\partial \\tilde L(\\Theta)}{\\partial \\theta_j} = \\dfrac{1}{N} \\sum_{i=1}^{N}\\dfrac{-y_ie^{-y_i \\cdot X_i \\Theta }}{1 + e^{-y_i \\cdot X_i\\Theta}}x_{i,j}\n",
    "\\end{equation*}"
   ]
  },
  {
   "cell_type": "markdown",
   "metadata": {},
   "source": [
    "Применим алгоритм градинтного спуска для поиска оптимальных весов"
   ]
  },
  {
   "cell_type": "markdown",
   "metadata": {},
   "source": [
    "$\\theta_{j_{new}} = \\theta_j - \\alpha \\dfrac{\\partial \\tilde L(\\Theta)}{\\partial \\theta_j}$  \n",
    "$\\theta_{j_{new}} = \\theta_j - \\alpha  \\dfrac{1}{N} \\sum_{i=1}^{N}\\dfrac{y_ie^{y_i \\cdot X_i \\Theta }}{1 + e^{y_i \\cdot X_i\\Theta}}x_{i,j}$\n",
    "\n",
    "$x_{i, 0} = 1$\n",
    "\n",
    "Тогда обновление вектора $\\Theta$ будет выглядеть следующим образом:\n",
    " \n",
    "\\begin{equation*}\n",
    "   \\theta_{0_{new}} = \\theta_0 - \\alpha \\dfrac{1}{N} \\sum_{i=1}^{N}\\dfrac{-y_ie^{-y_i \\cdot X_i \\Theta }}{1 + e^{-y_i \\cdot X_i\\Theta}}x_{i,0}\\\\\n",
    "   \\theta_{1_{new}} = \\theta_1 - \\alpha  \\dfrac{1}{N} \\sum_{i=1}^{N}\\dfrac{-y_ie^{-y_i \\cdot X_i \\Theta }}{1 + e^{-y_i \\cdot X_i\\Theta}}x_{i,1}\\\\\n",
    "   \\theta_{2_{new}} = \\theta_2 - \\alpha  \\dfrac{1}{N} \\sum_{i=1}^{N}\\dfrac{-y_ie^{-y_i \\cdot X_i \\Theta }}{1 + e^{-y_i \\cdot X_i\\Theta}}x_{i,2}\n",
    "\\end{equation*}\n",
    "\n",
    "Выполняем данную процедуру в цикле заданное число раз, либо пока наши параметры не перестанут изменяться на величину меньшую, чем некоторая нами заданная величина."
   ]
  },
  {
   "cell_type": "markdown",
   "metadata": {},
   "source": [
    "Реализуем градиентный спуск с такой функцией ошибки.\n",
    "\n",
    "Для начала добавим столбец единиц к матрице признаков."
   ]
  },
  {
   "cell_type": "code",
   "execution_count": 13,
   "metadata": {},
   "outputs": [],
   "source": [
    "def create_data(X):\n",
    "    X_ones = np.ones(X.shape[0])\n",
    "    return np.column_stack([X_ones, X])\n",
    "\n",
    "X_train = create_data(X)"
   ]
  },
  {
   "cell_type": "markdown",
   "metadata": {},
   "source": [
    "Зададим начальные параметры весов случайными значениями от 0 до 1:"
   ]
  },
  {
   "cell_type": "code",
   "execution_count": 14,
   "metadata": {},
   "outputs": [
    {
     "name": "stdout",
     "output_type": "stream",
     "text": [
      "[0.40051444 0.35968246 0.95746832]\n"
     ]
    }
   ],
   "source": [
    "Theta = np.random.random_sample(size=(X_train.shape[1],))\n",
    "print(Theta)"
   ]
  },
  {
   "cell_type": "markdown",
   "metadata": {},
   "source": [
    "Реализуем подсчет градиента: $\\dfrac{\\partial \\tilde L(\\Theta)}{\\partial \\theta_j} = \\dfrac{1}{N} \\sum_{i=1}^{N}\\dfrac{-y_ie^{-y_i \\cdot X_i \\Theta }}{1 + e^{-y_i \\cdot X_i\\Theta}}x_{i,j}$"
   ]
  },
  {
   "cell_type": "code",
   "execution_count": 15,
   "metadata": {},
   "outputs": [],
   "source": [
    "def gradient_function(Theta, X_train, y):\n",
    "    grad = np.zeros_like(Theta)\n",
    "    for j in range(Theta.shape[0]):       \n",
    "        grad[j] = np.mean(X_train[:, j] * (-y)*np.e**(-y * (X_train.dot(Theta)))/(1 + np.e** (-y * (X_train.dot(Theta)))))\n",
    "    return grad"
   ]
  },
  {
   "cell_type": "markdown",
   "metadata": {},
   "source": [
    "Градиентный спуск"
   ]
  },
  {
   "cell_type": "code",
   "execution_count": 16,
   "metadata": {},
   "outputs": [],
   "source": [
    "def gradient_descent(Theta, X_train, y, alpha, iters):        \n",
    "    theta = Theta\n",
    "    for i in range (iters):\n",
    "        theta = theta - alpha * gradient_function(theta, X_train, y)\n",
    "    return theta"
   ]
  },
  {
   "cell_type": "code",
   "execution_count": 17,
   "metadata": {},
   "outputs": [],
   "source": [
    "theta_opt = gradient_descent(Theta, X_train, y, 0.01, 1000)"
   ]
  },
  {
   "cell_type": "code",
   "execution_count": 18,
   "metadata": {},
   "outputs": [
    {
     "data": {
      "text/plain": [
       "array([-0.07056268,  0.80785022, -1.39828368])"
      ]
     },
     "execution_count": 18,
     "metadata": {},
     "output_type": "execute_result"
    }
   ],
   "source": [
    "theta_opt"
   ]
  },
  {
   "cell_type": "markdown",
   "metadata": {},
   "source": [
    "Реализуем линейную модель классификации от наших параметров и данных"
   ]
  },
  {
   "cell_type": "code",
   "execution_count": 19,
   "metadata": {},
   "outputs": [],
   "source": [
    "def predict_function(X_train, theta):\n",
    "    y_pred = np.dot(X_train, theta) #X @ Theta\n",
    "    return np.sign(y_pred)\n",
    "\n",
    "y_pred = predict_function(X_train, theta_opt)"
   ]
  },
  {
   "cell_type": "markdown",
   "metadata": {},
   "source": [
    "Реализуем подсчет ошибки (доля неверно классифицированных объектов)"
   ]
  },
  {
   "cell_type": "code",
   "execution_count": 20,
   "metadata": {},
   "outputs": [
    {
     "data": {
      "text/plain": [
       "0.01"
      ]
     },
     "execution_count": 20,
     "metadata": {},
     "output_type": "execute_result"
    }
   ],
   "source": [
    "def error(y, y_pred):\n",
    "    return np.mean(y_pred != y)\n",
    "error(y, y_pred)"
   ]
  },
  {
   "cell_type": "markdown",
   "metadata": {},
   "source": [
    "Итак, мы обучили модель линейной классификации:\n",
    "\\begin{equation*}\n",
    "y = sign(X\\Theta) = sign(\\theta_0 + \\theta_1x_1 + \\theta_2x_2)\n",
    "\\end{equation*}\n",
    "\n",
    "Модель задает разделяющую гиперплоскость:\n",
    "\\begin{equation*}\n",
    "\\theta_0 + \\theta_1x_1 + \\theta_2x_2 = 0\n",
    "\\end{equation*}\n",
    "В случае, когда у нас всего два признака $x_1,x_2$, гиперплоскостью является прямая на плоскости.\n",
    "\n",
    "Запишем уравнение прямой в привычном виде и построим ее график:\n",
    "\n",
    "\\begin{equation*}\n",
    "\\theta_0 + \\theta_1x_1 + \\theta_2x_2 = 0 \\\\\n",
    "x_2 = \\dfrac{-x_1}{\\theta_2} - \\dfrac{\\theta_0}{\\theta_2} \n",
    "\\end{equation*}"
   ]
  },
  {
   "cell_type": "code",
   "execution_count": 21,
   "metadata": {
    "scrolled": false
   },
   "outputs": [
    {
     "data": {
      "image/png": "[encoded data removed]",
      "text/plain": [
       "<Figure size 800x600 with 1 Axes>"
      ]
     },
     "metadata": {},
     "output_type": "display_data"
    }
   ],
   "source": [
    "plot_finaly_trained_model(X, kind_iris, theta_opt)"
   ]
  },
  {
   "cell_type": "markdown",
   "metadata": {},
   "source": [
    "### ДЗ\n",
    "Реализовать Hinge loss"
   ]
  },
  {
   "cell_type": "markdown",
   "metadata": {},
   "source": [
    "### Вывод\n",
    "1. Линейный классификатор проводит разделяющую гиперплоскость в пространстве признаков.\n",
    "2. При обучении классификатора мы минимизируем долю неверных ответов, но такая функция ошибки разрывна, поэтому мы ее оцениваем сверху гладкой функцией g($\\cdot$) и надеемся, что минимизировав g($\\cdot$), мы минимизируем и долю неверных ответов.\n",
    "3. Если ответ классификатора $X\\Theta$ > 0 мы ставим метку 1, если $X\\Theta$ < 0 ставим метку -1."
   ]
  }
 ],
 "metadata": {
  "celltoolbar": "Slideshow",
  "kernelspec": {
   "display_name": "Python 3",
   "language": "python",
   "name": "python3"
  },
  "language_info": {
   "codemirror_mode": {
    "name": "ipython",
    "version": 3
   },
   "file_extension": ".py",
   "mimetype": "text/x-python",
   "name": "python",
   "nbconvert_exporter": "python",
   "pygments_lexer": "ipython3",
   "version": "3.6.5"
  }
 },
 "nbformat": 4,
 "nbformat_minor": 2
}
