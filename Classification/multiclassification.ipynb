{
 "cells": [
  {
   "cell_type": "markdown",
   "metadata": {},
   "source": [
    "# Задача мультиклассификации\n",
    "### От бинарной классификации к мультиклассификации "
   ]
  },
  {
   "cell_type": "markdown",
   "metadata": {},
   "source": [
    "К этому моменту Вы, так или иначе, научились решать задачу классификации для случая, когда имеется два класса: отрицательный/положительный, черный/белый и т.п. Но часто встречаются ситуации, когда классов может быть несколько, например, три. Как применить наши знания о методах классификации? Как проверить качество полученных результатов классификации? Эти вопросы приводят нас к понятию **Мультиклассификации**. Оговоримся, что зачастую используется термин **Многоклассовая классификация**.\n",
    "\n",
    "Итак, **мультиклассификация** это задача предсказания класса для объекта в случае, когда классов больше двух.\n",
    "\n",
    "Вообще говоря, принято считать, что в задаче мультиклассфикации один объект принадлежит только одному классу, что не всегда верно. Подобные задачи называются задачами **множественной классификации**. Техника их решения имеет много общего с решениями задач мультиклассификации. "
   ]
  },
  {
   "cell_type": "markdown",
   "metadata": {},
   "source": [
    "### Постановка задачи"
   ]
  },
  {
   "cell_type": "markdown",
   "metadata": {},
   "source": [
    "$X$ - множество описаний объектов (признаки)\n",
    "\n",
    "$y$ - истинная метка класса для каждого объекта (обычно метка обозначается целыми числами:..0,1,2,3...)\n",
    "\n",
    "Как и в задаче бинарной классификации, наша цель найти зависимость между $Х$ и $y$, а именно: по имеющимся данным (обучающая выборка)<br> найти соответствие между множеством объектов $X$ и множество классов $y$\n",
    "\n"
   ]
  },
  {
   "cell_type": "markdown",
   "metadata": {},
   "source": [
    "### Пример"
   ]
  },
  {
   "cell_type": "markdown",
   "metadata": {},
   "source": [
    "Обратимся к классическому примеру классификации - классификации цветков Ириса. Данные о цветках Ириса стали, в некотором роде, <br>\n",
    "\"джазовым стандартом\" данных для задачи классификации. Впервые были использованы в 1936 году (**!**) Рональдом Фишером для демонстрации работы разработанного им метода дискриминантного анализа - прародителя многих методов машинного обучения.<br>\n",
    "\n",
    "**Классификация цветков Ириса**\n",
    "\n",
    "Требуется классифицировать цветки Ириса по трём (ср. с бинарной классификацией) видам:\n",
    "\n",
    "* iris setosa\n",
    "* iris versicolor\n",
    "* iris virginica\n",
    "\n",
    "\n",
    "В качестве признаков рассмотрим два параметра: длину и ширину лепестка (ср. с бинарной классификацией)"
   ]
  },
  {
   "cell_type": "code",
   "execution_count": 1,
   "metadata": {},
   "outputs": [],
   "source": [
    "from classification_helper import * # Подгружаем функции\n",
    "from sklearn.linear_model import LogisticRegression\n",
    "from sklearn.metrics import precision_score,recall_score,f1_score\n",
    "import numpy as np"
   ]
  },
  {
   "cell_type": "code",
   "execution_count": 2,
   "metadata": {},
   "outputs": [],
   "source": [
    "X, kind_iris = get_data([\"iris setosa\",\"iris versicolor\",\"iris virginica\"])"
   ]
  },
  {
   "cell_type": "markdown",
   "metadata": {},
   "source": [
    "$X$ - двумерный массив признаков"
   ]
  },
  {
   "cell_type": "markdown",
   "metadata": {},
   "source": [
    "$kind\\_iris$ - вектор истинных видов цветков (*target*)"
   ]
  },
  {
   "cell_type": "code",
   "execution_count": 3,
   "metadata": {},
   "outputs": [
    {
     "data": {
      "text/html": [
       "<div>\n",
       "<style scoped>\n",
       "    .dataframe tbody tr th:only-of-type {\n",
       "        vertical-align: middle;\n",
       "    }\n",
       "\n",
       "    .dataframe tbody tr th {\n",
       "        vertical-align: top;\n",
       "    }\n",
       "\n",
       "    .dataframe thead th {\n",
       "        text-align: right;\n",
       "    }\n",
       "</style>\n",
       "<table border=\"1\" class=\"dataframe\">\n",
       "  <thead>\n",
       "    <tr style=\"text-align: right;\">\n",
       "      <th></th>\n",
       "      <th>Длина лепестка</th>\n",
       "      <th>Ширина лепестка</th>\n",
       "      <th>Вид Ириса</th>\n",
       "    </tr>\n",
       "  </thead>\n",
       "  <tbody>\n",
       "    <tr>\n",
       "      <th>0</th>\n",
       "      <td>1.4</td>\n",
       "      <td>0.2</td>\n",
       "      <td>iris setosa</td>\n",
       "    </tr>\n",
       "    <tr>\n",
       "      <th>1</th>\n",
       "      <td>1.4</td>\n",
       "      <td>0.2</td>\n",
       "      <td>iris setosa</td>\n",
       "    </tr>\n",
       "    <tr>\n",
       "      <th>2</th>\n",
       "      <td>1.3</td>\n",
       "      <td>0.2</td>\n",
       "      <td>iris setosa</td>\n",
       "    </tr>\n",
       "    <tr>\n",
       "      <th>3</th>\n",
       "      <td>1.5</td>\n",
       "      <td>0.2</td>\n",
       "      <td>iris setosa</td>\n",
       "    </tr>\n",
       "    <tr>\n",
       "      <th>4</th>\n",
       "      <td>1.4</td>\n",
       "      <td>0.2</td>\n",
       "      <td>iris setosa</td>\n",
       "    </tr>\n",
       "    <tr>\n",
       "      <th>5</th>\n",
       "      <td>1.7</td>\n",
       "      <td>0.4</td>\n",
       "      <td>iris setosa</td>\n",
       "    </tr>\n",
       "    <tr>\n",
       "      <th>6</th>\n",
       "      <td>1.4</td>\n",
       "      <td>0.3</td>\n",
       "      <td>iris setosa</td>\n",
       "    </tr>\n",
       "    <tr>\n",
       "      <th>7</th>\n",
       "      <td>1.5</td>\n",
       "      <td>0.2</td>\n",
       "      <td>iris setosa</td>\n",
       "    </tr>\n",
       "    <tr>\n",
       "      <th>8</th>\n",
       "      <td>1.4</td>\n",
       "      <td>0.2</td>\n",
       "      <td>iris setosa</td>\n",
       "    </tr>\n",
       "    <tr>\n",
       "      <th>9</th>\n",
       "      <td>1.5</td>\n",
       "      <td>0.1</td>\n",
       "      <td>iris setosa</td>\n",
       "    </tr>\n",
       "    <tr>\n",
       "      <th>10</th>\n",
       "      <td>1.5</td>\n",
       "      <td>0.2</td>\n",
       "      <td>iris setosa</td>\n",
       "    </tr>\n",
       "    <tr>\n",
       "      <th>11</th>\n",
       "      <td>1.6</td>\n",
       "      <td>0.2</td>\n",
       "      <td>iris setosa</td>\n",
       "    </tr>\n",
       "    <tr>\n",
       "      <th>12</th>\n",
       "      <td>1.4</td>\n",
       "      <td>0.1</td>\n",
       "      <td>iris setosa</td>\n",
       "    </tr>\n",
       "    <tr>\n",
       "      <th>13</th>\n",
       "      <td>1.1</td>\n",
       "      <td>0.1</td>\n",
       "      <td>iris setosa</td>\n",
       "    </tr>\n",
       "    <tr>\n",
       "      <th>14</th>\n",
       "      <td>1.2</td>\n",
       "      <td>0.2</td>\n",
       "      <td>iris setosa</td>\n",
       "    </tr>\n",
       "    <tr>\n",
       "      <th>15</th>\n",
       "      <td>1.5</td>\n",
       "      <td>0.4</td>\n",
       "      <td>iris setosa</td>\n",
       "    </tr>\n",
       "    <tr>\n",
       "      <th>16</th>\n",
       "      <td>1.3</td>\n",
       "      <td>0.4</td>\n",
       "      <td>iris setosa</td>\n",
       "    </tr>\n",
       "    <tr>\n",
       "      <th>17</th>\n",
       "      <td>1.4</td>\n",
       "      <td>0.3</td>\n",
       "      <td>iris setosa</td>\n",
       "    </tr>\n",
       "    <tr>\n",
       "      <th>18</th>\n",
       "      <td>1.7</td>\n",
       "      <td>0.3</td>\n",
       "      <td>iris setosa</td>\n",
       "    </tr>\n",
       "    <tr>\n",
       "      <th>19</th>\n",
       "      <td>1.5</td>\n",
       "      <td>0.3</td>\n",
       "      <td>iris setosa</td>\n",
       "    </tr>\n",
       "    <tr>\n",
       "      <th>20</th>\n",
       "      <td>1.7</td>\n",
       "      <td>0.2</td>\n",
       "      <td>iris setosa</td>\n",
       "    </tr>\n",
       "    <tr>\n",
       "      <th>21</th>\n",
       "      <td>1.5</td>\n",
       "      <td>0.4</td>\n",
       "      <td>iris setosa</td>\n",
       "    </tr>\n",
       "    <tr>\n",
       "      <th>22</th>\n",
       "      <td>1.0</td>\n",
       "      <td>0.2</td>\n",
       "      <td>iris setosa</td>\n",
       "    </tr>\n",
       "    <tr>\n",
       "      <th>23</th>\n",
       "      <td>1.7</td>\n",
       "      <td>0.5</td>\n",
       "      <td>iris setosa</td>\n",
       "    </tr>\n",
       "    <tr>\n",
       "      <th>24</th>\n",
       "      <td>1.9</td>\n",
       "      <td>0.2</td>\n",
       "      <td>iris setosa</td>\n",
       "    </tr>\n",
       "    <tr>\n",
       "      <th>25</th>\n",
       "      <td>1.6</td>\n",
       "      <td>0.2</td>\n",
       "      <td>iris setosa</td>\n",
       "    </tr>\n",
       "    <tr>\n",
       "      <th>26</th>\n",
       "      <td>1.6</td>\n",
       "      <td>0.4</td>\n",
       "      <td>iris setosa</td>\n",
       "    </tr>\n",
       "    <tr>\n",
       "      <th>27</th>\n",
       "      <td>1.5</td>\n",
       "      <td>0.2</td>\n",
       "      <td>iris setosa</td>\n",
       "    </tr>\n",
       "    <tr>\n",
       "      <th>28</th>\n",
       "      <td>1.4</td>\n",
       "      <td>0.2</td>\n",
       "      <td>iris setosa</td>\n",
       "    </tr>\n",
       "    <tr>\n",
       "      <th>29</th>\n",
       "      <td>1.6</td>\n",
       "      <td>0.2</td>\n",
       "      <td>iris setosa</td>\n",
       "    </tr>\n",
       "    <tr>\n",
       "      <th>...</th>\n",
       "      <td>...</td>\n",
       "      <td>...</td>\n",
       "      <td>...</td>\n",
       "    </tr>\n",
       "    <tr>\n",
       "      <th>120</th>\n",
       "      <td>5.7</td>\n",
       "      <td>2.3</td>\n",
       "      <td>iris virginica</td>\n",
       "    </tr>\n",
       "    <tr>\n",
       "      <th>121</th>\n",
       "      <td>4.9</td>\n",
       "      <td>2.0</td>\n",
       "      <td>iris virginica</td>\n",
       "    </tr>\n",
       "    <tr>\n",
       "      <th>122</th>\n",
       "      <td>6.7</td>\n",
       "      <td>2.0</td>\n",
       "      <td>iris virginica</td>\n",
       "    </tr>\n",
       "    <tr>\n",
       "      <th>123</th>\n",
       "      <td>4.9</td>\n",
       "      <td>1.8</td>\n",
       "      <td>iris virginica</td>\n",
       "    </tr>\n",
       "    <tr>\n",
       "      <th>124</th>\n",
       "      <td>5.7</td>\n",
       "      <td>2.1</td>\n",
       "      <td>iris virginica</td>\n",
       "    </tr>\n",
       "    <tr>\n",
       "      <th>125</th>\n",
       "      <td>6.0</td>\n",
       "      <td>1.8</td>\n",
       "      <td>iris virginica</td>\n",
       "    </tr>\n",
       "    <tr>\n",
       "      <th>126</th>\n",
       "      <td>4.8</td>\n",
       "      <td>1.8</td>\n",
       "      <td>iris virginica</td>\n",
       "    </tr>\n",
       "    <tr>\n",
       "      <th>127</th>\n",
       "      <td>4.9</td>\n",
       "      <td>1.8</td>\n",
       "      <td>iris virginica</td>\n",
       "    </tr>\n",
       "    <tr>\n",
       "      <th>128</th>\n",
       "      <td>5.6</td>\n",
       "      <td>2.1</td>\n",
       "      <td>iris virginica</td>\n",
       "    </tr>\n",
       "    <tr>\n",
       "      <th>129</th>\n",
       "      <td>5.8</td>\n",
       "      <td>1.6</td>\n",
       "      <td>iris virginica</td>\n",
       "    </tr>\n",
       "    <tr>\n",
       "      <th>130</th>\n",
       "      <td>6.1</td>\n",
       "      <td>1.9</td>\n",
       "      <td>iris virginica</td>\n",
       "    </tr>\n",
       "    <tr>\n",
       "      <th>131</th>\n",
       "      <td>6.4</td>\n",
       "      <td>2.0</td>\n",
       "      <td>iris virginica</td>\n",
       "    </tr>\n",
       "    <tr>\n",
       "      <th>132</th>\n",
       "      <td>5.6</td>\n",
       "      <td>2.2</td>\n",
       "      <td>iris virginica</td>\n",
       "    </tr>\n",
       "    <tr>\n",
       "      <th>133</th>\n",
       "      <td>5.1</td>\n",
       "      <td>1.5</td>\n",
       "      <td>iris virginica</td>\n",
       "    </tr>\n",
       "    <tr>\n",
       "      <th>134</th>\n",
       "      <td>5.6</td>\n",
       "      <td>1.4</td>\n",
       "      <td>iris virginica</td>\n",
       "    </tr>\n",
       "    <tr>\n",
       "      <th>135</th>\n",
       "      <td>6.1</td>\n",
       "      <td>2.3</td>\n",
       "      <td>iris virginica</td>\n",
       "    </tr>\n",
       "    <tr>\n",
       "      <th>136</th>\n",
       "      <td>5.6</td>\n",
       "      <td>2.4</td>\n",
       "      <td>iris virginica</td>\n",
       "    </tr>\n",
       "    <tr>\n",
       "      <th>137</th>\n",
       "      <td>5.5</td>\n",
       "      <td>1.8</td>\n",
       "      <td>iris virginica</td>\n",
       "    </tr>\n",
       "    <tr>\n",
       "      <th>138</th>\n",
       "      <td>4.8</td>\n",
       "      <td>1.8</td>\n",
       "      <td>iris virginica</td>\n",
       "    </tr>\n",
       "    <tr>\n",
       "      <th>139</th>\n",
       "      <td>5.4</td>\n",
       "      <td>2.1</td>\n",
       "      <td>iris virginica</td>\n",
       "    </tr>\n",
       "    <tr>\n",
       "      <th>140</th>\n",
       "      <td>5.6</td>\n",
       "      <td>2.4</td>\n",
       "      <td>iris virginica</td>\n",
       "    </tr>\n",
       "    <tr>\n",
       "      <th>141</th>\n",
       "      <td>5.1</td>\n",
       "      <td>2.3</td>\n",
       "      <td>iris virginica</td>\n",
       "    </tr>\n",
       "    <tr>\n",
       "      <th>142</th>\n",
       "      <td>5.1</td>\n",
       "      <td>1.9</td>\n",
       "      <td>iris virginica</td>\n",
       "    </tr>\n",
       "    <tr>\n",
       "      <th>143</th>\n",
       "      <td>5.9</td>\n",
       "      <td>2.3</td>\n",
       "      <td>iris virginica</td>\n",
       "    </tr>\n",
       "    <tr>\n",
       "      <th>144</th>\n",
       "      <td>5.7</td>\n",
       "      <td>2.5</td>\n",
       "      <td>iris virginica</td>\n",
       "    </tr>\n",
       "    <tr>\n",
       "      <th>145</th>\n",
       "      <td>5.2</td>\n",
       "      <td>2.3</td>\n",
       "      <td>iris virginica</td>\n",
       "    </tr>\n",
       "    <tr>\n",
       "      <th>146</th>\n",
       "      <td>5.0</td>\n",
       "      <td>1.9</td>\n",
       "      <td>iris virginica</td>\n",
       "    </tr>\n",
       "    <tr>\n",
       "      <th>147</th>\n",
       "      <td>5.2</td>\n",
       "      <td>2.0</td>\n",
       "      <td>iris virginica</td>\n",
       "    </tr>\n",
       "    <tr>\n",
       "      <th>148</th>\n",
       "      <td>5.4</td>\n",
       "      <td>2.3</td>\n",
       "      <td>iris virginica</td>\n",
       "    </tr>\n",
       "    <tr>\n",
       "      <th>149</th>\n",
       "      <td>5.1</td>\n",
       "      <td>1.8</td>\n",
       "      <td>iris virginica</td>\n",
       "    </tr>\n",
       "  </tbody>\n",
       "</table>\n",
       "<p>150 rows × 3 columns</p>\n",
       "</div>"
      ],
      "text/plain": [
       "    Длина лепестка Ширина лепестка       Вид Ириса\n",
       "0              1.4             0.2     iris setosa\n",
       "1              1.4             0.2     iris setosa\n",
       "2              1.3             0.2     iris setosa\n",
       "3              1.5             0.2     iris setosa\n",
       "4              1.4             0.2     iris setosa\n",
       "5              1.7             0.4     iris setosa\n",
       "6              1.4             0.3     iris setosa\n",
       "7              1.5             0.2     iris setosa\n",
       "8              1.4             0.2     iris setosa\n",
       "9              1.5             0.1     iris setosa\n",
       "10             1.5             0.2     iris setosa\n",
       "11             1.6             0.2     iris setosa\n",
       "12             1.4             0.1     iris setosa\n",
       "13             1.1             0.1     iris setosa\n",
       "14             1.2             0.2     iris setosa\n",
       "15             1.5             0.4     iris setosa\n",
       "16             1.3             0.4     iris setosa\n",
       "17             1.4             0.3     iris setosa\n",
       "18             1.7             0.3     iris setosa\n",
       "19             1.5             0.3     iris setosa\n",
       "20             1.7             0.2     iris setosa\n",
       "21             1.5             0.4     iris setosa\n",
       "22             1.0             0.2     iris setosa\n",
       "23             1.7             0.5     iris setosa\n",
       "24             1.9             0.2     iris setosa\n",
       "25             1.6             0.2     iris setosa\n",
       "26             1.6             0.4     iris setosa\n",
       "27             1.5             0.2     iris setosa\n",
       "28             1.4             0.2     iris setosa\n",
       "29             1.6             0.2     iris setosa\n",
       "..             ...             ...             ...\n",
       "120            5.7             2.3  iris virginica\n",
       "121            4.9             2.0  iris virginica\n",
       "122            6.7             2.0  iris virginica\n",
       "123            4.9             1.8  iris virginica\n",
       "124            5.7             2.1  iris virginica\n",
       "125            6.0             1.8  iris virginica\n",
       "126            4.8             1.8  iris virginica\n",
       "127            4.9             1.8  iris virginica\n",
       "128            5.6             2.1  iris virginica\n",
       "129            5.8             1.6  iris virginica\n",
       "130            6.1             1.9  iris virginica\n",
       "131            6.4             2.0  iris virginica\n",
       "132            5.6             2.2  iris virginica\n",
       "133            5.1             1.5  iris virginica\n",
       "134            5.6             1.4  iris virginica\n",
       "135            6.1             2.3  iris virginica\n",
       "136            5.6             2.4  iris virginica\n",
       "137            5.5             1.8  iris virginica\n",
       "138            4.8             1.8  iris virginica\n",
       "139            5.4             2.1  iris virginica\n",
       "140            5.6             2.4  iris virginica\n",
       "141            5.1             2.3  iris virginica\n",
       "142            5.1             1.9  iris virginica\n",
       "143            5.9             2.3  iris virginica\n",
       "144            5.7             2.5  iris virginica\n",
       "145            5.2             2.3  iris virginica\n",
       "146            5.0             1.9  iris virginica\n",
       "147            5.2             2.0  iris virginica\n",
       "148            5.4             2.3  iris virginica\n",
       "149            5.1             1.8  iris virginica\n",
       "\n",
       "[150 rows x 3 columns]"
      ]
     },
     "metadata": {},
     "output_type": "display_data"
    }
   ],
   "source": [
    "print_data(X,kind_iris,columns = [\"Длина лепестка\", \"Ширина лепестка\"])"
   ]
  },
  {
   "cell_type": "markdown",
   "metadata": {},
   "source": [
    "Как и в задаче бинарной классификации визуализируем данные:"
   ]
  },
  {
   "cell_type": "code",
   "execution_count": 4,
   "metadata": {},
   "outputs": [
    {
     "data": {
      "image/png": "[encoded data removed]",
      "text/plain": [
       "<Figure size 800x600 with 1 Axes>"
      ]
     },
     "metadata": {
      "needs_background": "light"
     },
     "output_type": "display_data"
    }
   ],
   "source": [
    "plot_data(X,kind_iris,columns = [\"Длина лепестка\", \"Ширина лепестка\"])"
   ]
  },
  {
   "cell_type": "markdown",
   "metadata": {},
   "source": [
    "Три класса довольно сильно различаются, поэтому, кажется, задача мультиклассификации решается. Но как же именно решать задачу мультиклассификации?"
   ]
  },
  {
   "cell_type": "markdown",
   "metadata": {},
   "source": [
    "Попробуем прийти к ответу:\n",
    "\n",
    "1. в бинарной классификации строится, в общем случае, разделяющая два класса поверхность $S(\\theta)$ (в случае логистической регрессии - гиперплоскость). Параметры поверхности $\\theta$ подбираются исходя из решения какой-либо задачи оптимизации функции ошибок $L(\\theta,X,y)$:\n",
    "\\begin{equation*}\n",
    "S(\\theta): L(\\theta,X,y) \\xrightarrow {\\theta} min\n",
    "\\end{equation*}\n",
    "\n",
    "2. особенность функции ошибок $L(\\theta,X,y)$ в том, что она, строго говоря, не всегда подбирается таким образом, чтобы из ее минимизации явно следовало решение задачи классификации. Например, в логистической регрессии оптимизируется кросс-энтропия, при этом, как известно, кросс-энтропия позволяет находить оптимальные вероятности принадлежности объекта классам, но не сами метки класса. После, в зависимости от конечной цели (максимизация метрик качества), полученную гиперплоскость можно сдвигать параллельным переносом. То есть решение задачи оптимизации кросс-энтропии **это еще не конечный шаг поиска оптимальной гиперплоскости в задаче бинарной классификации**.\n",
    "\n",
    "3. Глядя на график сверху, мы можем мысленно отделить каждый класс от двух других своей собственной гиперплоскостью. Мы умеем это делать с помощью всё той же бинарной классификации.\n",
    "\n",
    "Все это может навести на следующие соображения:\n",
    "\n",
    "* Для решения задачи мультиклассификации необходимо строить разделяющую поверхность (пусть и довольно причудливую);\n",
    "* Разделяющую поверхность можно строить в несколько этапов;\n",
    "* Для мультиклассификации нам могут понадобиться несколько бинарных классификаторов!"
   ]
  },
  {
   "cell_type": "markdown",
   "metadata": {},
   "source": [
    "### Решение задачи мультиклассификации."
   ]
  },
  {
   "cell_type": "markdown",
   "metadata": {},
   "source": [
    "#### One vs Rest (Один против остальных)\n",
    "\n",
    "Мы приходим к очевидному, но весьма распространенному методу мультиклассификации **One vs Rest**. Смысл его весьма прост: строятся $K$ классификаторов, каждый из которых отделяет назначенный ему класс от всех остальных. Окончательное решение принадлежности классу сводится к поиску класса с максимальным значением (вероятности) классификатора.\n",
    "\n",
    "#### Классификация ирисов"
   ]
  },
  {
   "cell_type": "markdown",
   "metadata": {},
   "source": [
    "Реализуем простой метод **One vs Rest** с использованием ранее классификатров линейной регрессии из sklearn"
   ]
  },
  {
   "cell_type": "code",
   "execution_count": 5,
   "metadata": {},
   "outputs": [],
   "source": [
    "class multiclassification_One_vs_all:\n",
    "    def __init__(self,classmodel = LogisticRegression):\n",
    "        self.classmodel = classmodel\n",
    "        self.models = {}        \n",
    "        \n",
    "    def fit(self,X,y):\n",
    "        dict_iris = {0:\"iris setosa\",1:\"iris versicolor\",2:\"iris virginica\"}        \n",
    "        labels = set(y)\n",
    "        models = []\n",
    "        for label in labels:\n",
    "            print(f\"Обучение модели, отделяющей {dict_iris[label]} от остальных\")\n",
    "            model = self.classmodel(C = 100,solver = \"lbfgs\")\n",
    "            y_label = y == label\n",
    "            model.fit(X,y_label)\n",
    "            self.models[label] = model\n",
    "            print(\"Готово!\")\n",
    "    \n",
    "    def predict(self,X):        \n",
    "        labels = np.sort(list(self.models.keys()))\n",
    "        predictions = np.zeros((len(X),3))\n",
    "        for label in labels:\n",
    "            model = self.models[label]\n",
    "            predictions[:,label] = model.predict_proba(X)[:,1]\n",
    "        return np.argmax(predictions,axis=1)"
   ]
  },
  {
   "cell_type": "code",
   "execution_count": 6,
   "metadata": {},
   "outputs": [
    {
     "name": "stdout",
     "output_type": "stream",
     "text": [
      "Обучение модели, отделяющей iris setosa от остальных\n",
      "Готово!\n",
      "Обучение модели, отделяющей iris versicolor от остальных\n",
      "Готово!\n",
      "Обучение модели, отделяющей iris virginica от остальных\n",
      "Готово!\n"
     ]
    }
   ],
   "source": [
    "dict_iris = {\"iris setosa\":0,\"iris versicolor\":1,\"iris virginica\":2}\n",
    "Y = np.array([dict_iris[iris] for iris in kind_iris])\n",
    "columns = [\"Длина лепестка\", \"Ширина лепестка\"]\n",
    "dict_param = {\"Длина чашелистника\":0, \"Ширина чашелистника\":1,\"Длина лепестка\":2,\"Ширина лепестка\":3}\n",
    "N = [dict_param[par] for par in columns]\n",
    "model_One_vs_all = multiclassification_One_vs_all()\n",
    "model_One_vs_all.fit(X[:,[N[0],N[1]]],Y)"
   ]
  },
  {
   "cell_type": "markdown",
   "metadata": {},
   "source": [
    "Отобразим полученную разделяющую поверхность:"
   ]
  },
  {
   "cell_type": "code",
   "execution_count": 7,
   "metadata": {},
   "outputs": [
    {
     "data": {
      "image/png": "[encoded data removed]",
      "text/plain": [
       "<Figure size 800x600 with 1 Axes>"
      ]
     },
     "metadata": {
      "needs_background": "light"
     },
     "output_type": "display_data"
    }
   ],
   "source": [
    "plot_decision_regions(X, Y, classifier=model_One_vs_all , test_idx=None, resolution=0.02,columns = columns)"
   ]
  },
  {
   "cell_type": "markdown",
   "metadata": {},
   "source": [
    "Как и ожидалось, разделяющая поверхность оказалась совокупностью линейных разделяющих поверхностей."
   ]
  },
  {
   "cell_type": "markdown",
   "metadata": {},
   "source": [
    "#### One vs One (Один против одного)\n",
    "\n",
    "Еще один популярный метод мультиклассификации - это метод **One vs One** (Один против одного).\n",
    "Суть его в слеудующем: выделяются все пары классов, и на каждой паре обучается свой собственный классификатор.\n",
    "Класс для конкретного объекта определяется голосованием.\n",
    "\n",
    "#### Классификация ирисов"
   ]
  },
  {
   "cell_type": "markdown",
   "metadata": {},
   "source": [
    "Реализуем простой метод **One vs One** с использованием встроенных в sklearn классификатров логистической регрессии"
   ]
  },
  {
   "cell_type": "code",
   "execution_count": 8,
   "metadata": {},
   "outputs": [],
   "source": [
    "class multiclassification_One_vs_one:\n",
    "    def __init__(self,classmodel = LogisticRegression):\n",
    "        self.classmodel = classmodel\n",
    "        self.models = {}        \n",
    "        \n",
    "    def fit(self,X,y):\n",
    "        dict_iris = {0:\"iris setosa\",1:\"iris versicolor\",2:\"iris virginica\"}        \n",
    "        labels = set(y)\n",
    "        labels_dual = []\n",
    "        for label_1 in labels:\n",
    "            for label_2 in labels:\n",
    "                if label_1 != label_2:\n",
    "                    labels_dual.append(tuple(np.sort([label_1,label_2])))\n",
    "        \n",
    "        labels_dual = set(labels_dual)        \n",
    "        models = []\n",
    "        for label_d in labels_dual:\n",
    "            print(f\"Обучение модели, отделяющей {dict_iris[label_d[0]]} от {dict_iris[label_d[1]]}\")\n",
    "            model = self.classmodel(C = 10, solver = \"lbfgs\")\n",
    "            X_ = X[(y == label_d[0]) | (y == label_d[1])]\n",
    "            y_ = y[(y == label_d[0]) | (y == label_d[1])]\n",
    "            y_label = y_ == label_d[1]\n",
    "            model.fit(X_,y_label)\n",
    "            self.models[label_d] = model\n",
    "            print(\"Готово!\")\n",
    "    \n",
    "    def predict(self,X):        \n",
    "        labels = self.models.keys()\n",
    "        predictions = np.zeros((len(X),3))        \n",
    "        for label in labels:\n",
    "            model = self.models[label]\n",
    "            predictions[:,label[0]] = predictions[:,label[0]] + np.invert(model.predict(X))\n",
    "            predictions[:,label[1]] = predictions[:,label[1]] + model.predict(X)\n",
    "        return np.argmax(predictions,axis=1)"
   ]
  },
  {
   "cell_type": "code",
   "execution_count": 9,
   "metadata": {},
   "outputs": [
    {
     "name": "stdout",
     "output_type": "stream",
     "text": [
      "Обучение модели, отделяющей iris setosa от iris versicolor\n",
      "Готово!\n",
      "Обучение модели, отделяющей iris setosa от iris virginica\n",
      "Готово!\n",
      "Обучение модели, отделяющей iris versicolor от iris virginica\n",
      "Готово!\n"
     ]
    }
   ],
   "source": [
    "dict_iris = {\"iris setosa\":0,\"iris versicolor\":1,\"iris virginica\":2}\n",
    "Y = np.array([dict_iris[iris] for iris in kind_iris])\n",
    "columns = [\"Длина лепестка\", \"Ширина лепестка\"]\n",
    "dict_param = {\"Длина чашелистника\":0, \"Ширина чашелистника\":1,\"Длина лепестка\":2,\"Ширина лепестка\":3}\n",
    "N = [dict_param[par] for par in columns]\n",
    "model_One_vs_one = multiclassification_One_vs_one()\n",
    "model_One_vs_one.fit(X[:,[N[0],N[1]]],Y)"
   ]
  },
  {
   "cell_type": "markdown",
   "metadata": {},
   "source": [
    "Отобразим полученную разделяющую поверхность:"
   ]
  },
  {
   "cell_type": "code",
   "execution_count": 10,
   "metadata": {},
   "outputs": [
    {
     "data": {
      "image/png": "[encoded data removed]",
      "text/plain": [
       "<Figure size 800x600 with 1 Axes>"
      ]
     },
     "metadata": {
      "needs_background": "light"
     },
     "output_type": "display_data"
    }
   ],
   "source": [
    "plot_decision_regions(X, Y, classifier=model_One_vs_one , test_idx=None, resolution=0.02,columns = columns)"
   ]
  },
  {
   "cell_type": "markdown",
   "metadata": {},
   "source": [
    "Как и в предыдущем случае, разделяющая поверхность оказалась совокупностью линейных разделяющих поверхностей."
   ]
  },
  {
   "cell_type": "markdown",
   "metadata": {},
   "source": [
    "### Недостатки методов\n",
    "#### Недостатки One vs Rest\n",
    "\n",
    "Основным недостатком **One vs Rest** является равный учет выходных значений (вероятностей) всех моделей, и для выбора соответствующего класса объекта необходимо просто найти максимальную вероятность по всем классификаторам. Однако в действительности может случиться, что предсказанная вероятность $P$ классификаторами $A$ и $B$ означает разную степень уверенности в своем предсказании. Поэтому часто приходится как-то совместно калибровать значения предсказанных вероятностей разных кассификаторов, например, с помощью весовых коэффициентов и т.п. Так или иначе, совместная калибровка это дополнительная и не простая задача.\n",
    "\n",
    "#### Недостатки One vs One\n",
    "\n",
    "Метод **One vs One** позволяет калибровать каждый классфикатор отдельно, что немного исправляет недостатки метода **One vs Rest**. Однако у **One vs One** есть свои собственные, довольно существенные, недостатки. Одним из главных недостатков является значительное требование к ресурсам в случае большого количества классов. Действительно, если классов $K$, то **One vs Rest** требует обучения N классификаторов, тогда как **One vs One** требует по крайней мере $K(K-1)/2$ классифакторов. Если для задачи с тремя классами разницы никакой нет, то для, например, $K=10$ количество классификаторов равно, соответсвенно $10$ и $45$. Хотя надо заметить, классификаторы в **One vs One** строятся по *меньшим* объемам выборок, так что скорость обучения может компенсировать количество классификаторов, в свою очередь, сами классификаторы являются менее \"мощными\". Здесь **One vs One** проявляет довольно распространенную в машинном обучении ситуацию: окончательная модель строится с использованием довольно большого числа не очень мощных классификаторов.\n",
    "\n",
    "Еще одним недостатком **One vs One** является наличие коллизий, то есть когда за два класса проголосовало одикавое число классификаторов. Для небольшого числа классов это может быть серьезным препятствием. Можно ради любопытства изменить параметр $C=10$ на $C=100$ в реализованном выше классе multiclassification_One_vs_one в методе fit и снова построить разделяющую поверхность. Появятся артефакты - это и есть коллизии"
   ]
  },
  {
   "cell_type": "markdown",
   "metadata": {},
   "source": [
    "### Softmax.\n",
    "\n",
    "Как уже многократно отмечалось, модель бинарной классификации часто возвращает вероятность принадлежности классу $1$. Однако в рассмотренных моделях мультиклассификации вероятность принадлежности к классам в явном виде не фигурирует: в **One vs Rest** каждому классу соотвествует оценка из соотвествующего бинарного классификатора, что не может являться вероятностью принадлежности, так как набор оценок не нормированный; в **One vs One** каждому классу соответсвует количество голосов в пользу этого класса, что также не может быть интерпретировано как вероятность. Очевидная идея - это применить преобразование к набору соответсвующих классам чисел, такое, чтобы полученный набор чисел можно было рассматривать как вероятности, то есть были бы неотрицательными в сумме давали бы единицу. Озвученным требованиям соответсвует функция, называемая *softmax*, выглядящая следующим образом:\n",
    "\\begin{equation*}\n",
    "softmax(x)_i = \\dfrac{e^{x_i}}{\\sum_{j=1}^{N}e^{x_j}}\n",
    "\\end{equation*}\n",
    "\n",
    "Набор чисел $softmax(x)_i$ уже можно интерпретировать как вероятность принадлежности классу $i$."
   ]
  },
  {
   "cell_type": "markdown",
   "metadata": {},
   "source": [
    "### Softmax как расширение логистической регрессии до задачи мультиклассификации.\n",
    "\n",
    "Функция *softmax* интерпретируется как вероятность принадлежности к классу для многоклассовых задач, отсюда возникает вопрос: можно ли использовать ее точно так же, как сигмоиду в логистической регрессии? Ответ: конечно можно. Вычисление вероятности в логистической регрессии происходит в соответсвуюем порядке:\n",
    "1. вычисление скалярного произведения вектора весов и вектора признаков $z_i=w^Tx_i$;\n",
    "2. вычисление вероятности принадлежнсти $p(X_i \\in {1})=\\sigma(z_i)$.\n",
    "\n",
    "Применим эту схему ко многоклассовой задаче, сделав несколько модификаций:\n",
    "1. вычисление скалярного произведения вектора весов класса $k$ и вектора признаков $z_i^k=w_k^Tx_i$;\n",
    "2. вычисление вероятности принадлежнсти $p(X_i \\in {k})=softmax(z_i)_k$\n",
    "\n",
    "Почти ничего не изменилось. Добавились только несколько дополнительных векторов весов. Если объединить все веса в матрицу, то первый шаг можно заменить на матричное произведение $z_i(W) = Wx_i$. Матрица весов $W$ имеет размерность $K*M$, где $M$ - это количество признаков (или размерность вектора $x_i$).\n",
    "\n",
    "Теперь остается вопрос, как обучить такую модель? Ответ также находится в логистической регрессии: минимизация кросс-энтропии. Для мультиклассификации кросс-энтропия играет ту же вероятностную роль, что и для бинарной классификации. Тогда можно немедленно записать:\n",
    "\n",
    "\\begin{equation*}\n",
    "crossentropy(W,X,y) = -\\dfrac{1}{N}\\sum_{k=1}^{K}{\\sum_{i: y_i \\in k}ln(softmax(z_i(W))_k)}\n",
    "\\end{equation*}\n",
    "\n",
    "Внешняя сумма это суммирование по всем классам, внутренняя сумма производит суммирование только по тем примерам X, которые принадлежат классу $k$.\n",
    "\n",
    "Чтобы избежать двойного суммирования, используем следующий прием, который далее будет называться *one hot encoding*: вместа метки $k$-того класса $y_i=k$ введем вектор $Y_i$, состоящий из нулей и единицы, стоящей на $k$-том месте.\n",
    "Так, теперь можем записать:\n",
    "\\begin{equation*}\n",
    "L(W) = crossentropy(W,X,Y) = -\\dfrac{1}{N}\\sum_{i=1}^{N}Y_i^Tln(softmax(z_i(W)))\n",
    "\\end{equation*}\n",
    "\n",
    "Здесь $ln(softmax(z_i))$ - это вектор логарифмов каждого компонента вектора $softmax(z_i)$. Для использования градиентого спуска необходимо знать производные по всем параметрам $W$ от кросс-энтропии. Эта задача вполне решается:\n",
    "\n",
    "\\begin{equation*}\n",
    "\\dfrac{\\partial L(W)}{\\partial w_{kj}} = -\\dfrac{1}{N}\\sum_{i=1}^{N}Y_i^T \\dfrac{\\partial ln(softmax(z_i(W)))}{\\partial w_{kj}}\n",
    "\\end{equation*}\n",
    "\n",
    "$s$-тый компонент вектора $ln(softmax(z_i(W)))$ может быть выражен как:\n",
    "\n",
    "\\begin{equation*}\n",
    "ln(softmax(z_i(W))_s) = W_sx_i - ln(\\sum_{k=1}^{K}e^{W_kx_i})\n",
    "\\end{equation*}\n",
    "$W_s$ - $s$-тая строка матрицы $W$.\n",
    "\n",
    "Тогда производная каждого $s$-того компонента вектора $W_sx_i - ln(\\sum_{k=1}^{K}e^{W_kx_i})$ по $w_{kj}$ может быть выражена как:\n",
    "\\begin{equation*}\n",
    "\\dfrac{\\partial (W_sx_i - ln(\\sum_{k=1}^{K}e^{W_kx_i}))}{\\partial w_{kj}} = \\begin{cases}\n",
    "x_{i,j} - \\dfrac{x_{i,j}e^{W_kx_i}}{\\sum_{k=1}^{K}e^{W_kx_i}}, s = k, \\\\\n",
    "- \\dfrac{x_{i,j}e^{W_kx_i}}{\\sum_{k=1}^{K}e^{W_kx_i}}, s \\neq k\n",
    "\\end{cases}\n",
    "= \\begin{cases}\n",
    "x_{i,j} - x_{i,j}softmax(Wx_i)_k, s = k, \\\\\n",
    "- x_{i,j}softmax(Wx_i)_k, s \\neq k\n",
    "\\end{cases}\n",
    "\\end{equation*}\n",
    "\n",
    "Введем единичный вектор $e_k$ - вектор из нулей, кроме $k$-того элемента, который равен единице. Тогда производная вектора $Wx_i - ln(\\sum_{k=1}^{K}e^{W_kx_i})$ по $w_{kj}$  может быть выражена как:\n",
    "\\begin{equation*}\n",
    "\\dfrac{\\partial Wx_i - ln(\\sum_{k=1}^{K}e^{W_kx_i})}{\\partial w_{kj}} = x_{ij}(e_k - softmax(Wx_i)_k)\n",
    "\\end{equation*}\n",
    "\n",
    "\n",
    "Тогда производная функции $L(W)$ может быть записана:\n",
    "\\begin{equation*}\n",
    "\\dfrac{\\partial L(W)}{\\partial w_{kj}} = -\\dfrac{1}{N}\\sum_{i=1}^{N}Y_i^Tx_{ij}(e_k - softmax(Wx_i)_k)\n",
    "\\end{equation*}\n",
    "\n",
    "\n",
    "Раз получена формула для производной по каждому весу, то можно немедленно воспользоваться уже знакомым градиентным спуском для обучения многоклассовой логистической регрессии.\n"
   ]
  },
  {
   "cell_type": "code",
   "execution_count": 11,
   "metadata": {},
   "outputs": [],
   "source": [
    "# Вспомогательные функции\n",
    "\n",
    "# реализуем softmax:\n",
    "def Loss(X,W,Y):      \n",
    "    return -np.mean(np.sum(Y * np.log(softmax(X,W).T),axis = 1))\n",
    "\n",
    "# реализуем softmax:\n",
    "def softmax(X,W):\n",
    "    return np.exp(W @ X.T) / np.sum(np.exp(W @ X.T),axis = 0)\n",
    "\n",
    "# реализуем one hot encoding:\n",
    "def one_hot_encoding(Y):\n",
    "    Y_ = np.zeros((len(Y),3))\n",
    "    Y_[Y == 0,0] = 1\n",
    "    Y_[Y == 1,1] = 1\n",
    "    Y_[Y == 2,2] = 1\n",
    "    return Y_\n",
    "\n",
    "# реализуем вычисление градиента:\n",
    "def gradient_function(W, X, Y):\n",
    "    grad = np.zeros_like(W)\n",
    "    soft = softmax(X,W)\n",
    "    for k in range(W.shape[0]):\n",
    "        ek = np.zeros((W.shape[0],1))\n",
    "        ek[k] = 1\n",
    "        ek_softmax = ek - soft[k,:]\n",
    "        for j in range(W.shape[1]):\n",
    "            sum_ = np.sum(Y * ek_softmax.T,axis = 1)\n",
    "            grad[k,j] = -np.mean(X[:, j] * sum_)\n",
    "    return grad\n",
    "\n",
    "# Добавление единичного столбца\n",
    "def create_data(X):\n",
    "    X_ones = np.ones(X.shape[0])\n",
    "    return np.column_stack([X_ones, X])\n",
    "\n",
    "# Градиентный спуск\n",
    "def gradient_descent(W, X, y, alpha, iters):        \n",
    "    w = W\n",
    "    for i in range(iters):\n",
    "        w = w - alpha * gradient_function(w, X, y)\n",
    "        if i % 400 == 0:\n",
    "            print(\"Loss функция:\",Loss(X,w,y))        \n",
    "    return w"
   ]
  },
  {
   "cell_type": "markdown",
   "metadata": {},
   "source": [
    "Классификация осуществляется так же как и обычно - поиском класса, соответствующего максимальной вероятности в векторе softmax."
   ]
  },
  {
   "cell_type": "markdown",
   "metadata": {},
   "source": [
    "#### Классификация ирисов\n",
    "Реализуем простой метод softmax:"
   ]
  },
  {
   "cell_type": "code",
   "execution_count": 12,
   "metadata": {},
   "outputs": [],
   "source": [
    "class multiclassification_softmax:\n",
    "    def __init__(self):\n",
    "        self.W = None\n",
    "        \n",
    "    def fit(self,X,y):\n",
    "        W = np.random.randn(3,3)*0.1\n",
    "        self.W = gradient_descent(W, X, y, alpha=0.1, iters=4000)\n",
    "        print(\"Готово!\")\n",
    "    \n",
    "    def predict(self,X):        \n",
    "        predictions = softmax(X,self.W)\n",
    "        return np.argmax(predictions,axis=0)"
   ]
  },
  {
   "cell_type": "code",
   "execution_count": 13,
   "metadata": {},
   "outputs": [
    {
     "name": "stdout",
     "output_type": "stream",
     "text": [
      "Loss функция: 1.0426377613788178\n",
      "Loss функция: 0.42013381852774245\n",
      "Loss функция: 0.32993796364058214\n",
      "Loss функция: 0.2840396882320562\n",
      "Loss функция: 0.2541406925480202\n",
      "Loss функция: 0.2325170746663137\n",
      "Loss функция: 0.21593296590943922\n",
      "Loss функция: 0.202715286084157\n",
      "Loss функция: 0.1918849441956655\n",
      "Loss функция: 0.18282074830158626\n",
      "Готово!\n"
     ]
    }
   ],
   "source": [
    "dict_iris = {\"iris setosa\":0,\"iris versicolor\":1,\"iris virginica\":2}\n",
    "Y = np.array([dict_iris[iris] for iris in kind_iris])\n",
    "Y_ = one_hot_encoding(Y)\n",
    "columns = [\"Длина лепестка\", \"Ширина лепестка\"]\n",
    "dict_param = {\"Длина чашелистника\":0, \"Ширина чашелистника\":1,\"Длина лепестка\":2,\"Ширина лепестка\":3}\n",
    "N = [dict_param[par] for par in columns]\n",
    "model_softmax = multiclassification_softmax()\n",
    "X_ = create_data(X)\n",
    "X_train = X_[:,[0,N[0]+1,N[1]+1]]\n",
    "model_softmax.fit(X_train,Y_)"
   ]
  },
  {
   "cell_type": "markdown",
   "metadata": {},
   "source": [
    "Отобразим полученную разделяющую поверхность:"
   ]
  },
  {
   "cell_type": "code",
   "execution_count": 14,
   "metadata": {},
   "outputs": [
    {
     "data": {
      "image/png": "[encoded data removed]",
      "text/plain": [
       "<Figure size 800x600 with 1 Axes>"
      ]
     },
     "metadata": {
      "needs_background": "light"
     },
     "output_type": "display_data"
    }
   ],
   "source": [
    "plot_decision_regions_softmax(X, Y, classifier=model_softmax , test_idx=None, resolution=0.02,columns = columns)"
   ]
  },
  {
   "cell_type": "markdown",
   "metadata": {},
   "source": [
    "Softmax также довольно неплохо справился с разделением классов.\n",
    "\n",
    "Модель softmax по своему построению сглаживает недостаток One vs All в том смысле, что все набор весов подбираются зависимо и с большей уверенностью отвечают требованию равномерности оценок.\n",
    "\n",
    "\n",
    "Необходимо отметить, что softmax играет важнейшую роль в более сложных моделях мультиклассификации (например, в нейронных сетях)"
   ]
  },
  {
   "cell_type": "markdown",
   "metadata": {},
   "source": [
    "### Метрики качества в задаче мультиклассификации\n",
    "\n",
    "Метрики качества задачи мультиклассификации мало чем отличаются от бинарной классификации. \n",
    "Метрика *accuracy* считает долю верных ответов.\n",
    "\n",
    "Для наших моделей:"
   ]
  },
  {
   "cell_type": "code",
   "execution_count": 15,
   "metadata": {},
   "outputs": [],
   "source": [
    "y_pred_One_vs_all = model_One_vs_all.predict(X[:,[N[0],N[1]]])\n",
    "y_pred_One_vs_one = model_One_vs_one.predict(X[:,[N[0],N[1]]])\n",
    "y_pred_softmax = model_softmax.predict(X_train)"
   ]
  },
  {
   "cell_type": "code",
   "execution_count": 16,
   "metadata": {},
   "outputs": [
    {
     "name": "stdout",
     "output_type": "stream",
     "text": [
      "Метрика Accuracy для модели One vs All на тренировочных данных: 0.96\n",
      "Метрика Accuracy для модели One vs One на тренировочных данных: 0.9666666666666667\n",
      "Метрика Accuracy для модели softmax на тренировочных данных: 0.9666666666666667\n"
     ]
    }
   ],
   "source": [
    "print(\"Метрика Accuracy для модели One vs All на тренировочных данных:\",np.mean(Y == y_pred_One_vs_all))\n",
    "print(\"Метрика Accuracy для модели One vs One на тренировочных данных:\",np.mean(Y == y_pred_One_vs_one))\n",
    "print(\"Метрика Accuracy для модели softmax на тренировочных данных:\",np.mean(Y == y_pred_softmax))"
   ]
  },
  {
   "cell_type": "markdown",
   "metadata": {},
   "source": [
    "precision, recall и f1-score также считаюся в мультиклассификации. Традиоционно они считаются в двух направлениях:\n",
    "1. macro-метрики;\n",
    "2. micro-метрики.\n",
    "\n",
    "macro-метрики рассчитываются по каждому классу отдельно и усредняются"
   ]
  },
  {
   "cell_type": "code",
   "execution_count": 102,
   "metadata": {},
   "outputs": [],
   "source": [
    "def precision_score_macro(y_pred,y_true):\n",
    "    P = 0\n",
    "    for y in set(y_true):\n",
    "        P = P + precision_score(y_true=y_true==y,y_pred=y_pred==y)\n",
    "    return P/3\n",
    "\n",
    "def recall_score_macro(y_pred,y_true):\n",
    "    P = 0\n",
    "    for y in set(y_true):\n",
    "        P = P + recall_score(y_true=y_true==y,y_pred=y_pred==y)\n",
    "    return P/3\n",
    "\n",
    "\n",
    "def f1_score_macro(y_pred,y_true):\n",
    "    P = 0\n",
    "    for y in set(y_true):\n",
    "        P = P + f1_score(y_true=y_true==y,y_pred=y_pred==y)\n",
    "    return P/3"
   ]
  },
  {
   "cell_type": "code",
   "execution_count": 103,
   "metadata": {},
   "outputs": [
    {
     "name": "stdout",
     "output_type": "stream",
     "text": [
      "Метрика precision-macro для модели One vs All на тренировочных данных: 0.96\n",
      "Метрика precision-macro для модели One vs One на тренировочных данных: 0.9667867146858743\n",
      "Метрика precision-macro для модели softmax на тренировочных данных: 0.9667867146858743\n",
      "\n",
      "Метрика recall-macro для модели One vs All на тренировочных данных: 0.96\n",
      "Метрика recall-macro для модели One vs One на тренировочных данных: 0.9666666666666667\n",
      "Метрика recall-macro для модели softmax на тренировочных данных: 0.9666666666666667\n",
      "\n",
      "Метрика f1_score-macro для модели One vs All на тренировочных данных: 0.96\n",
      "Метрика f1_score-macro для модели One vs One на тренировочных данных: 0.9666633329999667\n",
      "Метрика f1_score-macro для модели softmax на тренировочных данных: 0.9666633329999667\n"
     ]
    }
   ],
   "source": [
    "print(\"Метрика precision-macro для модели One vs All на тренировочных данных:\",precision_score_macro(y_pred_One_vs_all,Y))\n",
    "print(\"Метрика precision-macro для модели One vs One на тренировочных данных:\",precision_score_macro(y_pred_One_vs_one,Y))\n",
    "print(\"Метрика precision-macro для модели softmax на тренировочных данных:\",precision_score_macro(y_pred_softmax,Y))\n",
    "print()\n",
    "print(\"Метрика recall-macro для модели One vs All на тренировочных данных:\",recall_score_macro(y_pred_One_vs_all,Y))\n",
    "print(\"Метрика recall-macro для модели One vs One на тренировочных данных:\",recall_score_macro(y_pred_One_vs_one,Y))\n",
    "print(\"Метрика recall-macro для модели softmax на тренировочных данных:\",recall_score_macro(y_pred_softmax,Y))\n",
    "print()\n",
    "print(\"Метрика f1_score-macro для модели One vs All на тренировочных данных:\",f1_score_macro(y_pred_One_vs_all,Y))\n",
    "print(\"Метрика f1_score-macro для модели One vs One на тренировочных данных:\",f1_score_macro(y_pred_One_vs_one,Y))\n",
    "print(\"Метрика f1_score-macro для модели softmax на тренировочных данных:\",f1_score_macro(y_pred_softmax,Y))\n"
   ]
  },
  {
   "cell_type": "markdown",
   "metadata": {},
   "source": [
    "micro-метрики рассчитываются по всем ответам в соответствии с формулами precision, recall или f1-score:\n",
    "1. Precision = TP/(TP + FP)\n",
    "2. Recall = TP/(TP + FN)\n",
    "3. f1-score = 2 * Precision * Recall / (Precision+Recall)"
   ]
  },
  {
   "cell_type": "code",
   "execution_count": 108,
   "metadata": {},
   "outputs": [],
   "source": [
    "def precision_score_micro(y_pred,y_true):\n",
    "    TP = 0\n",
    "    FP = 0\n",
    "    for y in set(y_true):\n",
    "        TP = TP + (y_pred[y_true==y] == y).sum()\n",
    "        FP = FP + (y_pred[y_true != y] == y).sum()    \n",
    "    return TP/(FP+TP)\n",
    "\n",
    "def recall_score_micro(y_pred,y_true):\n",
    "    TP = 0\n",
    "    FN = 0\n",
    "    for y in set(y_true):\n",
    "        TP = TP + (y_pred[y_true==y] == y).sum()\n",
    "        FN = FN + (y_pred[y_true == y] != y).sum()    \n",
    "    return TP/(FN+TP)\n",
    "\n",
    "\n",
    "def f1_score_micro(y_pred,y_true):\n",
    "    pr = precision_score_micro(y_pred,y_true)\n",
    "    re = recall_score_micro(y_pred,y_true)\n",
    "    return 2*pr*re/(pr + re)"
   ]
  },
  {
   "cell_type": "code",
   "execution_count": 109,
   "metadata": {},
   "outputs": [
    {
     "name": "stdout",
     "output_type": "stream",
     "text": [
      "Метрика precision-micro для модели One vs All на тренировочных данных: 0.96\n",
      "Метрика precision-micro для модели One vs One на тренировочных данных: 0.9666666666666667\n",
      "Метрика precision-micro для модели softmax на тренировочных данных: 0.9666666666666667\n",
      "\n",
      "Метрика recall-micro для модели One vs All на тренировочных данных: 0.96\n",
      "Метрика recall-micro для модели One vs One на тренировочных данных: 0.9666666666666667\n",
      "Метрика recall-micro для модели softmax на тренировочных данных: 0.9666666666666667\n",
      "\n",
      "Метрика f1_score-micro для модели One vs All на тренировочных данных: 0.96\n",
      "Метрика f1_score-micro для модели One vs One на тренировочных данных: 0.9666666666666667\n",
      "Метрика f1_score-micro для модели softmax на тренировочных данных: 0.9666666666666667\n"
     ]
    }
   ],
   "source": [
    "print(\"Метрика precision-micro для модели One vs All на тренировочных данных:\",precision_score_micro(y_pred_One_vs_all,Y))\n",
    "print(\"Метрика precision-micro для модели One vs One на тренировочных данных:\",precision_score_micro(y_pred_One_vs_one,Y))\n",
    "print(\"Метрика precision-micro для модели softmax на тренировочных данных:\",precision_score_micro(y_pred_softmax,Y))\n",
    "print()\n",
    "print(\"Метрика recall-micro для модели One vs All на тренировочных данных:\",recall_score_micro(y_pred_One_vs_all,Y))\n",
    "print(\"Метрика recall-micro для модели One vs One на тренировочных данных:\",recall_score_micro(y_pred_One_vs_one,Y))\n",
    "print(\"Метрика recall-micro для модели softmax на тренировочных данных:\",recall_score_micro(y_pred_softmax,Y))\n",
    "print()\n",
    "print(\"Метрика f1_score-micro для модели One vs All на тренировочных данных:\",f1_score_micro(y_pred_One_vs_all,Y))\n",
    "print(\"Метрика f1_score-micro для модели One vs One на тренировочных данных:\",f1_score_micro(y_pred_One_vs_one,Y))\n",
    "print(\"Метрика f1_score-micro для модели softmax на тренировочных данных:\",f1_score_micro(y_pred_softmax,Y))"
   ]
  },
  {
   "cell_type": "markdown",
   "metadata": {},
   "source": [
    "macro-метрики более чувствительны к серьезным ошибкам в маленьких классах, в точности как метрика f1-score чувствительна для малого положительного класса в бинарной классификации."
   ]
  },
  {
   "cell_type": "code",
   "execution_count": null,
   "metadata": {},
   "outputs": [],
   "source": []
  }
 ],
 "metadata": {
  "kernelspec": {
   "display_name": "Python 3",
   "language": "python",
   "name": "python3"
  },
  "language_info": {
   "codemirror_mode": {
    "name": "ipython",
    "version": 3
   },
   "file_extension": ".py",
   "mimetype": "text/x-python",
   "name": "python",
   "nbconvert_exporter": "python",
   "pygments_lexer": "ipython3",
   "version": "3.7.3"
  }
 },
 "nbformat": 4,
 "nbformat_minor": 2
}
