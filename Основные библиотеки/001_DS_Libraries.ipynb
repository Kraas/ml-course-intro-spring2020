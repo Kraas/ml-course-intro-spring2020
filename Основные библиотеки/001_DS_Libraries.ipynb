{
  "nbformat": 4,
  "nbformat_minor": 0,
  "metadata": {
    "colab": {
      "name": "001_DS_Libraries.ipynb",
      "provenance": [],
      "collapsed_sections": [
        "Xj_UrzGxAr0j",
        "fFIP27E0EMiz",
        "IB4Bng8udPLm",
        "sLsKTOGJgIA6",
        "TkeNoFU_O1sQ",
        "Fiu7O2mCX7IX",
        "AwG2vjM1Xc2O",
        "emKRAj6QcmKD",
        "ET7A7W7ahdMU",
        "1gvm52UsikMK",
        "NVBQupIVtoL_",
        "V-nv0-gE_aEd"
      ],
      "include_colab_link": true
    },
    "kernelspec": {
      "name": "python3",
      "display_name": "Python 3"
    }
  },
  "cells": [
    {
      "cell_type": "markdown",
      "metadata": {
        "id": "view-in-github",
        "colab_type": "text"
      },
      "source": [
        "<a href=\"https://colab.research.google.com/github/mts-machines-learn/ml-course-intro-spring2020/blob/lesson3/%D0%9E%D1%81%D0%BD%D0%BE%D0%B2%D0%BD%D1%8B%D0%B5%2520%D0%B1%D0%B8%D0%B1%D0%BB%D0%B8%D0%BE%D1%82%D0%B5%D0%BA%D0%B8/001_DS_Libraries.ipynb\" target=\"_parent\"><img src=\"https://colab.research.google.com/assets/colab-badge.svg\" alt=\"Open In Colab\"/></a>"
      ]
    },
    {
      "cell_type": "markdown",
      "metadata": {
        "id": "nLXVxiHfKmOK",
        "colab_type": "text"
      },
      "source": [
        "# Вектор. Теория\n",
        "Вектором называется направленный отрезок, для которого указано его начало и конец. Направление принято указывать стрелкой.\n",
        "\n",
        "Рассмотрим пример вектора на плоскости. Координаты данного вектора: $(2, 3)$\n",
        "\n",
        "![](https://raw.githubusercontent.com/mts-machines-learn/ml-course-intro-spring2020/lesson3/%D0%9E%D1%81%D0%BD%D0%BE%D0%B2%D0%BD%D1%8B%D0%B5%20%D0%B1%D0%B8%D0%B1%D0%BB%D0%B8%D0%BE%D1%82%D0%B5%D0%BA%D0%B8/images/vector1.png)\n",
        "\n",
        "\n",
        "Тот же самый вектор $(2,3)$, который отложен не от начала координат, а от точки $(2,1)$\n",
        "\n",
        "![](https://raw.githubusercontent.com/mts-machines-learn/ml-course-intro-spring2020/lesson3/%D0%9E%D1%81%D0%BD%D0%BE%D0%B2%D0%BD%D1%8B%D0%B5%20%D0%B1%D0%B8%D0%B1%D0%BB%D0%B8%D0%BE%D1%82%D0%B5%D0%BA%D0%B8/images/vector2.png)\n",
        "\n",
        "Аналогично выглядят векторы в трехмерном пространстве. Единичные векторы принято обозночать буквами $i, j, k$.\n",
        "\n",
        "\n",
        "![](https://raw.githubusercontent.com/mts-machines-learn/ml-course-intro-spring2020/lesson3/%D0%9E%D1%81%D0%BD%D0%BE%D0%B2%D0%BD%D1%8B%D0%B5%20%D0%B1%D0%B8%D0%B1%D0%BB%D0%B8%D0%BE%D1%82%D0%B5%D0%BA%D0%B8/images/vector3.jpg)\n",
        "\n",
        "$\\bar{p} = x\\bar{i} + y\\bar{j} + z\\bar{k} $\n",
        "\n",
        "\n",
        "В общем виде вектор размерности $n$ записывается как \n",
        "$\\bar{x} = \\begin{pmatrix}\n",
        "  x_1 \\\\\n",
        "  x_2 \\\\\n",
        "  \\vdots \\\\\n",
        "  x_n \\end{pmatrix}$\n",
        "\n",
        "\n"
      ]
    },
    {
      "cell_type": "markdown",
      "metadata": {
        "id": "O5IzmFSupnpw",
        "colab_type": "text"
      },
      "source": [
        "## Операции над векторами\n",
        "\n"
      ]
    },
    {
      "cell_type": "markdown",
      "metadata": {
        "id": "QxfIGx8CRgE0",
        "colab_type": "text"
      },
      "source": [
        "### Сложение, умножение вектора и скаляра\n",
        "\n",
        "$\\begin{pmatrix}\n",
        "  1 \\\\\n",
        "  2 \\\\\n",
        "  3 \\end{pmatrix} + 4  = \\begin{pmatrix}\n",
        "  1 + 4 \\\\\n",
        "  2 + 4\\\\\n",
        "  3 + 4 \\end{pmatrix} = \\begin{pmatrix}\n",
        "  5 \\\\\n",
        "  6 \\\\\n",
        "  7 \\end{pmatrix}$\n",
        "\n",
        "\n",
        "$\\begin{pmatrix}\n",
        "  1 \\\\\n",
        "  2 \\\\\n",
        "  3 \\end{pmatrix} \\times 4  = \\begin{pmatrix}\n",
        "  1 \\times 4 \\\\\n",
        "  2 \\times 4\\\\\n",
        "  3 \\times 4 \\end{pmatrix} = \\begin{pmatrix}\n",
        "  4 \\\\\n",
        "  8 \\\\\n",
        "  12 \\end{pmatrix}$\n",
        "\n",
        "  Вычитание, умножение и деление производятся также поэлементно.\n",
        "\n"
      ]
    },
    {
      "cell_type": "markdown",
      "metadata": {
        "id": "NhfsJrtURk7U",
        "colab_type": "text"
      },
      "source": [
        "### Сложение вектора и вектора\n",
        "\n",
        "Векторы складываются по правилу \"параллелограмма\"\n",
        "\n",
        "![](https://raw.githubusercontent.com/mts-machines-learn/ml-course-intro-spring2020/lesson3/%D0%9E%D1%81%D0%BD%D0%BE%D0%B2%D0%BD%D1%8B%D0%B5%20%D0%B1%D0%B8%D0%B1%D0%BB%D0%B8%D0%BE%D1%82%D0%B5%D0%BA%D0%B8/images/vector4.png)\n",
        "\n",
        "\n",
        "$\\begin{pmatrix}\n",
        "  2 \\\\\n",
        "  1 \\end{pmatrix} + \n",
        "  \\begin{pmatrix}\n",
        "  1 \\\\\n",
        "  3 \\end{pmatrix} = \\begin{pmatrix}\n",
        "  3 \\\\\n",
        "  4 \\end{pmatrix}$\n"
      ]
    },
    {
      "cell_type": "markdown",
      "metadata": {
        "id": "Od3d0mCsRokW",
        "colab_type": "text"
      },
      "source": [
        "### Скалярное умножение двух векторов\n",
        "\n",
        "$\\bar{v} = \\begin{pmatrix}\n",
        "  1 \\\\\n",
        "  2 \\\\\n",
        "  3 \\end{pmatrix}, \\bar{u} =  \n",
        "  \\begin{pmatrix}\n",
        "  3 \\\\\n",
        "  2 \\\\\n",
        "  1 \\end{pmatrix}$ \n",
        "  \n",
        "$(v, u) = v_1 \\times u_1 + v_2 \\times u_2 + v_3 \\times u_3 = 1 \\times 3 + 2 \\times 2 + 3 \\times 1 = 10$\n",
        "\n",
        "  Получили скаляр, а не вектор!\n"
      ]
    },
    {
      "cell_type": "markdown",
      "metadata": {
        "id": "FmHa22APU65U",
        "colab_type": "text"
      },
      "source": [
        "# Вектор. Практика"
      ]
    },
    {
      "cell_type": "code",
      "metadata": {
        "colab_type": "code",
        "id": "zSbC_W_S_BQw",
        "colab": {}
      },
      "source": [
        "import numpy as np"
      ],
      "execution_count": 0,
      "outputs": []
    },
    {
      "cell_type": "markdown",
      "metadata": {
        "id": "T2WYhRwqTXwH",
        "colab_type": "text"
      },
      "source": [
        "#### Инициализация векторов, операции с векторами"
      ]
    },
    {
      "cell_type": "code",
      "metadata": {
        "id": "ro6Jq5FlolHW",
        "colab_type": "code",
        "colab": {}
      },
      "source": [
        "a = np.array([1,3,5])\n",
        "b = np.array([2,4,6])"
      ],
      "execution_count": 0,
      "outputs": []
    },
    {
      "cell_type": "markdown",
      "metadata": {
        "id": "c8Ajw3_jv_p4",
        "colab_type": "text"
      },
      "source": [
        "Вектор суммы a и b"
      ]
    },
    {
      "cell_type": "code",
      "metadata": {
        "id": "F9sy-KaeolFX",
        "colab_type": "code",
        "outputId": "ab5e61ec-aa19-4962-cbce-fbe1287d5433",
        "colab": {
          "base_uri": "https://localhost:8080/",
          "height": 35
        }
      },
      "source": [
        "a + b"
      ],
      "execution_count": 3,
      "outputs": [
        {
          "output_type": "execute_result",
          "data": {
            "text/plain": [
              "array([ 3,  7, 11])"
            ]
          },
          "metadata": {
            "tags": []
          },
          "execution_count": 3
        }
      ]
    },
    {
      "cell_type": "markdown",
      "metadata": {
        "id": "0G2WAJZXwXsV",
        "colab_type": "text"
      },
      "source": [
        "Сложение вектора и скаляра\n",
        "\n",
        "\n"
      ]
    },
    {
      "cell_type": "code",
      "metadata": {
        "id": "k_AEMPIt_w60",
        "colab_type": "code",
        "outputId": "bf503628-5ac4-402e-985a-b8f657999cd0",
        "colab": {
          "base_uri": "https://localhost:8080/",
          "height": 35
        }
      },
      "source": [
        "a + 2"
      ],
      "execution_count": 4,
      "outputs": [
        {
          "output_type": "execute_result",
          "data": {
            "text/plain": [
              "array([3, 5, 7])"
            ]
          },
          "metadata": {
            "tags": []
          },
          "execution_count": 4
        }
      ]
    },
    {
      "cell_type": "markdown",
      "metadata": {
        "id": "prk5p8KBwJw8",
        "colab_type": "text"
      },
      "source": [
        "Скалярное произведение <a,b>"
      ]
    },
    {
      "cell_type": "code",
      "metadata": {
        "id": "VxBWN101wM3B",
        "colab_type": "code",
        "outputId": "95b43b99-f674-44cc-9e64-dddf8834c557",
        "colab": {
          "base_uri": "https://localhost:8080/",
          "height": 35
        }
      },
      "source": [
        "np.dot(a, b)  # 1*2 + 3*4 + 5*6 = 2 + 12 + 30 = 44"
      ],
      "execution_count": 5,
      "outputs": [
        {
          "output_type": "execute_result",
          "data": {
            "text/plain": [
              "44"
            ]
          },
          "metadata": {
            "tags": []
          },
          "execution_count": 5
        }
      ]
    },
    {
      "cell_type": "code",
      "metadata": {
        "id": "80oMpZ7Q_UOr",
        "colab_type": "code",
        "outputId": "39ef66db-a0ee-41ce-dbe5-50a716a5626d",
        "colab": {
          "base_uri": "https://localhost:8080/",
          "height": 35
        }
      },
      "source": [
        "a @ b"
      ],
      "execution_count": 6,
      "outputs": [
        {
          "output_type": "execute_result",
          "data": {
            "text/plain": [
              "44"
            ]
          },
          "metadata": {
            "tags": []
          },
          "execution_count": 6
        }
      ]
    },
    {
      "cell_type": "markdown",
      "metadata": {
        "id": "hukwP3ntwSPB",
        "colab_type": "text"
      },
      "source": [
        "Покомпонентное умножение векторов"
      ]
    },
    {
      "cell_type": "code",
      "metadata": {
        "id": "fnJwcKioolBN",
        "colab_type": "code",
        "outputId": "ac5fba3f-b399-4bc5-a82d-d744b18445f1",
        "colab": {
          "base_uri": "https://localhost:8080/",
          "height": 35
        }
      },
      "source": [
        "a * b"
      ],
      "execution_count": 7,
      "outputs": [
        {
          "output_type": "execute_result",
          "data": {
            "text/plain": [
              "array([ 2, 12, 30])"
            ]
          },
          "metadata": {
            "tags": []
          },
          "execution_count": 7
        }
      ]
    },
    {
      "cell_type": "markdown",
      "metadata": {
        "id": "r6qgbOAdTyqn",
        "colab_type": "text"
      },
      "source": [
        "#### Индексация"
      ]
    },
    {
      "cell_type": "code",
      "metadata": {
        "id": "QRG9TKA4_g5M",
        "colab_type": "code",
        "colab": {}
      },
      "source": [
        "a = np.array([1,3,5])"
      ],
      "execution_count": 0,
      "outputs": []
    },
    {
      "cell_type": "markdown",
      "metadata": {
        "id": "TLX_-5GuwqKt",
        "colab_type": "text"
      },
      "source": [
        "Обращение ко второму элементу вектора:"
      ]
    },
    {
      "cell_type": "code",
      "metadata": {
        "id": "avVmz1ezwiSk",
        "colab_type": "code",
        "outputId": "2dd543ff-251a-4cd2-e441-d39686a83507",
        "colab": {
          "base_uri": "https://localhost:8080/",
          "height": 35
        }
      },
      "source": [
        "a[2]"
      ],
      "execution_count": 9,
      "outputs": [
        {
          "output_type": "execute_result",
          "data": {
            "text/plain": [
              "5"
            ]
          },
          "metadata": {
            "tags": []
          },
          "execution_count": 9
        }
      ]
    },
    {
      "cell_type": "markdown",
      "metadata": {
        "id": "-lLil8cTw3UI",
        "colab_type": "text"
      },
      "source": [
        "Изменение второго элемента вектора:"
      ]
    },
    {
      "cell_type": "code",
      "metadata": {
        "id": "yRBb5dN8_YHc",
        "colab_type": "code",
        "colab": {}
      },
      "source": [
        "a[2] = 7"
      ],
      "execution_count": 0,
      "outputs": []
    },
    {
      "cell_type": "code",
      "metadata": {
        "id": "CXrOuEEZ_dbt",
        "colab_type": "code",
        "outputId": "4f45d626-e767-4cd1-a10a-3ec522b1eab2",
        "colab": {
          "base_uri": "https://localhost:8080/",
          "height": 35
        }
      },
      "source": [
        "print(a)"
      ],
      "execution_count": 11,
      "outputs": [
        {
          "output_type": "stream",
          "text": [
            "[1 3 7]\n"
          ],
          "name": "stdout"
        }
      ]
    },
    {
      "cell_type": "markdown",
      "metadata": {
        "id": "TfZiDZw2xcGl",
        "colab_type": "text"
      },
      "source": [
        "Копирование вектора"
      ]
    },
    {
      "cell_type": "code",
      "metadata": {
        "id": "Wt4dM1tmw8sx",
        "colab_type": "code",
        "colab": {}
      },
      "source": [
        "b = a\n",
        "b[2] = 10"
      ],
      "execution_count": 0,
      "outputs": []
    },
    {
      "cell_type": "code",
      "metadata": {
        "id": "9iqbyaPCxAuH",
        "colab_type": "code",
        "outputId": "be49b1a9-e873-416b-c541-ee1b4110bb98",
        "colab": {
          "base_uri": "https://localhost:8080/",
          "height": 35
        }
      },
      "source": [
        "print(a)"
      ],
      "execution_count": 13,
      "outputs": [
        {
          "output_type": "stream",
          "text": [
            "[ 1  3 10]\n"
          ],
          "name": "stdout"
        }
      ]
    },
    {
      "cell_type": "code",
      "metadata": {
        "id": "bGryoG2axUoI",
        "colab_type": "code",
        "colab": {}
      },
      "source": [
        "a = np.array([1,3,5])"
      ],
      "execution_count": 0,
      "outputs": []
    },
    {
      "cell_type": "code",
      "metadata": {
        "id": "WT15MiSbxPtj",
        "colab_type": "code",
        "colab": {}
      },
      "source": [
        "b = a.copy()\n",
        "b[2] = 10"
      ],
      "execution_count": 0,
      "outputs": []
    },
    {
      "cell_type": "code",
      "metadata": {
        "id": "jIiXyfXzxWfk",
        "colab_type": "code",
        "outputId": "ee43e6be-4bc2-495d-f703-fbbde70bdc17",
        "colab": {
          "base_uri": "https://localhost:8080/",
          "height": 35
        }
      },
      "source": [
        "print(a)"
      ],
      "execution_count": 16,
      "outputs": [
        {
          "output_type": "stream",
          "text": [
            "[1 3 5]\n"
          ],
          "name": "stdout"
        }
      ]
    },
    {
      "cell_type": "markdown",
      "metadata": {
        "id": "qKey6mV2xlhC",
        "colab_type": "text"
      },
      "source": [
        "np.arange"
      ]
    },
    {
      "cell_type": "code",
      "metadata": {
        "id": "2XxnvGogADda",
        "colab_type": "code",
        "outputId": "16f455f6-0876-4900-c944-6e94641a6a78",
        "colab": {
          "base_uri": "https://localhost:8080/",
          "height": 71
        }
      },
      "source": [
        "range_50 = np.arange(100,150,1)\n",
        "print(range_50)"
      ],
      "execution_count": 17,
      "outputs": [
        {
          "output_type": "stream",
          "text": [
            "[100 101 102 103 104 105 106 107 108 109 110 111 112 113 114 115 116 117\n",
            " 118 119 120 121 122 123 124 125 126 127 128 129 130 131 132 133 134 135\n",
            " 136 137 138 139 140 141 142 143 144 145 146 147 148 149]\n"
          ],
          "name": "stdout"
        }
      ]
    },
    {
      "cell_type": "code",
      "metadata": {
        "id": "BjYzElMiAGBX",
        "colab_type": "code",
        "outputId": "e8571c7d-5b1f-46ba-bb62-7689fc6467c4",
        "colab": {
          "base_uri": "https://localhost:8080/",
          "height": 71
        }
      },
      "source": [
        "np.arange(1,100,2)"
      ],
      "execution_count": 18,
      "outputs": [
        {
          "output_type": "execute_result",
          "data": {
            "text/plain": [
              "array([ 1,  3,  5,  7,  9, 11, 13, 15, 17, 19, 21, 23, 25, 27, 29, 31, 33,\n",
              "       35, 37, 39, 41, 43, 45, 47, 49, 51, 53, 55, 57, 59, 61, 63, 65, 67,\n",
              "       69, 71, 73, 75, 77, 79, 81, 83, 85, 87, 89, 91, 93, 95, 97, 99])"
            ]
          },
          "metadata": {
            "tags": []
          },
          "execution_count": 18
        }
      ]
    },
    {
      "cell_type": "markdown",
      "metadata": {
        "id": "ZQkK7yPixuIe",
        "colab_type": "text"
      },
      "source": [
        "Индексы и срезы"
      ]
    },
    {
      "cell_type": "code",
      "metadata": {
        "id": "7ZWltBu1AWlH",
        "colab_type": "code",
        "outputId": "b2d2ecee-8823-4a9e-e97a-c0017b78f7d3",
        "colab": {
          "base_uri": "https://localhost:8080/",
          "height": 35
        }
      },
      "source": [
        "range_50[6:14]"
      ],
      "execution_count": 19,
      "outputs": [
        {
          "output_type": "execute_result",
          "data": {
            "text/plain": [
              "array([106, 107, 108, 109, 110, 111, 112, 113])"
            ]
          },
          "metadata": {
            "tags": []
          },
          "execution_count": 19
        }
      ]
    },
    {
      "cell_type": "code",
      "metadata": {
        "id": "0uOTVeCcAT3b",
        "colab_type": "code",
        "outputId": "7d39d597-398a-44bd-aa44-76760d607fa7",
        "colab": {
          "base_uri": "https://localhost:8080/",
          "height": 35
        }
      },
      "source": [
        "range_50[[6,8,10,12]]"
      ],
      "execution_count": 20,
      "outputs": [
        {
          "output_type": "execute_result",
          "data": {
            "text/plain": [
              "array([106, 108, 110, 112])"
            ]
          },
          "metadata": {
            "tags": []
          },
          "execution_count": 20
        }
      ]
    },
    {
      "cell_type": "code",
      "metadata": {
        "id": "RYGdAEBvAZmf",
        "colab_type": "code",
        "outputId": "ff4d5b99-ce3f-499e-a057-d411bb81b4a7",
        "colab": {
          "base_uri": "https://localhost:8080/",
          "height": 35
        }
      },
      "source": [
        "range_50[6:14:2]"
      ],
      "execution_count": 21,
      "outputs": [
        {
          "output_type": "execute_result",
          "data": {
            "text/plain": [
              "array([106, 108, 110, 112])"
            ]
          },
          "metadata": {
            "tags": []
          },
          "execution_count": 21
        }
      ]
    },
    {
      "cell_type": "code",
      "metadata": {
        "id": "sB_gZ7hdAkDY",
        "colab_type": "code",
        "outputId": "2d41f914-eb02-48f8-fd96-35c28c904493",
        "colab": {
          "base_uri": "https://localhost:8080/",
          "height": 89
        }
      },
      "source": [
        "range_50[::]"
      ],
      "execution_count": 22,
      "outputs": [
        {
          "output_type": "execute_result",
          "data": {
            "text/plain": [
              "array([100, 101, 102, 103, 104, 105, 106, 107, 108, 109, 110, 111, 112,\n",
              "       113, 114, 115, 116, 117, 118, 119, 120, 121, 122, 123, 124, 125,\n",
              "       126, 127, 128, 129, 130, 131, 132, 133, 134, 135, 136, 137, 138,\n",
              "       139, 140, 141, 142, 143, 144, 145, 146, 147, 148, 149])"
            ]
          },
          "metadata": {
            "tags": []
          },
          "execution_count": 22
        }
      ]
    },
    {
      "cell_type": "code",
      "metadata": {
        "id": "d9TKK17xAn-_",
        "colab_type": "code",
        "outputId": "11d8f373-0a13-47c7-9a5e-46c939d4ef3a",
        "colab": {
          "base_uri": "https://localhost:8080/",
          "height": 89
        }
      },
      "source": [
        "range_50[::-1]"
      ],
      "execution_count": 23,
      "outputs": [
        {
          "output_type": "execute_result",
          "data": {
            "text/plain": [
              "array([149, 148, 147, 146, 145, 144, 143, 142, 141, 140, 139, 138, 137,\n",
              "       136, 135, 134, 133, 132, 131, 130, 129, 128, 127, 126, 125, 124,\n",
              "       123, 122, 121, 120, 119, 118, 117, 116, 115, 114, 113, 112, 111,\n",
              "       110, 109, 108, 107, 106, 105, 104, 103, 102, 101, 100])"
            ]
          },
          "metadata": {
            "tags": []
          },
          "execution_count": 23
        }
      ]
    },
    {
      "cell_type": "markdown",
      "metadata": {
        "id": "Xj_UrzGxAr0j",
        "colab_type": "text"
      },
      "source": [
        "### Задача 1. Создать вектор длины n из чисел вида 0, 3, 6, 9, ..."
      ]
    },
    {
      "cell_type": "code",
      "metadata": {
        "id": "plYf9OqgArkU",
        "colab_type": "code",
        "colab": {}
      },
      "source": [
        "n = 100\n",
        "range_3k = np.arange(0,n,3) "
      ],
      "execution_count": 0,
      "outputs": []
    },
    {
      "cell_type": "code",
      "metadata": {
        "id": "QiYdBGQHBFiK",
        "colab_type": "code",
        "outputId": "91ff9805-0926-4732-c4b5-1cab8256722c",
        "colab": {
          "base_uri": "https://localhost:8080/",
          "height": 53
        }
      },
      "source": [
        "range_3k"
      ],
      "execution_count": 25,
      "outputs": [
        {
          "output_type": "execute_result",
          "data": {
            "text/plain": [
              "array([ 0,  3,  6,  9, 12, 15, 18, 21, 24, 27, 30, 33, 36, 39, 42, 45, 48,\n",
              "       51, 54, 57, 60, 63, 66, 69, 72, 75, 78, 81, 84, 87, 90, 93, 96, 99])"
            ]
          },
          "metadata": {
            "tags": []
          },
          "execution_count": 25
        }
      ]
    },
    {
      "cell_type": "markdown",
      "metadata": {
        "id": "fFIP27E0EMiz",
        "colab_type": "text"
      },
      "source": [
        "### Задача 2. Заменить в массиве случайные k элементов на 0.\n"
      ]
    },
    {
      "cell_type": "code",
      "metadata": {
        "id": "Qf4IeztTBQFJ",
        "colab_type": "code",
        "colab": {}
      },
      "source": [
        "def random_zeros(array, k):\n",
        "  random_ind = np.random.choice(np.arange(len(array)), size=k, replace=False)\n",
        "  print(np.sort(random_ind))\n",
        "  array[random_ind] = 0\n",
        "  return array"
      ],
      "execution_count": 0,
      "outputs": []
    },
    {
      "cell_type": "code",
      "metadata": {
        "id": "Hf63kVW4E4GV",
        "colab_type": "code",
        "outputId": "a624c57a-62e0-4f66-dd8f-0d51f1dadccf",
        "colab": {
          "base_uri": "https://localhost:8080/",
          "height": 53
        }
      },
      "source": [
        "random_zeros(np.array([1,2,3,4,5,6,7,8,9,10]), 5)"
      ],
      "execution_count": 27,
      "outputs": [
        {
          "output_type": "stream",
          "text": [
            "[2 3 4 5 9]\n"
          ],
          "name": "stdout"
        },
        {
          "output_type": "execute_result",
          "data": {
            "text/plain": [
              "array([1, 2, 0, 0, 0, 0, 7, 8, 9, 0])"
            ]
          },
          "metadata": {
            "tags": []
          },
          "execution_count": 27
        }
      ]
    },
    {
      "cell_type": "markdown",
      "metadata": {
        "id": "IB4Bng8udPLm",
        "colab_type": "text"
      },
      "source": [
        "### Функции агрегирования для вектора"
      ]
    },
    {
      "cell_type": "code",
      "metadata": {
        "id": "KRN9vtmrdVxA",
        "colab_type": "code",
        "colab": {}
      },
      "source": [
        "inflation = np.array([8.78, 6.1, 6.58, 6.45, 11.36, 12.91, 5.38, 2.52, 4.27, 2.68])"
      ],
      "execution_count": 0,
      "outputs": []
    },
    {
      "cell_type": "code",
      "metadata": {
        "id": "YgkiATvFfYHD",
        "colab_type": "code",
        "outputId": "617177d3-9dab-420f-f9e6-96eb54504a9c",
        "colab": {
          "base_uri": "https://localhost:8080/",
          "height": 35
        }
      },
      "source": [
        "inflation.max()"
      ],
      "execution_count": 29,
      "outputs": [
        {
          "output_type": "execute_result",
          "data": {
            "text/plain": [
              "12.91"
            ]
          },
          "metadata": {
            "tags": []
          },
          "execution_count": 29
        }
      ]
    },
    {
      "cell_type": "code",
      "metadata": {
        "id": "Mf5fY7BZfal_",
        "colab_type": "code",
        "outputId": "090fa6bd-700b-4f5b-aeaa-9ab5e4d87b5d",
        "colab": {
          "base_uri": "https://localhost:8080/",
          "height": 35
        }
      },
      "source": [
        "inflation.min()"
      ],
      "execution_count": 30,
      "outputs": [
        {
          "output_type": "execute_result",
          "data": {
            "text/plain": [
              "2.52"
            ]
          },
          "metadata": {
            "tags": []
          },
          "execution_count": 30
        }
      ]
    },
    {
      "cell_type": "code",
      "metadata": {
        "id": "XPF-iSLWfcwp",
        "colab_type": "code",
        "outputId": "a5a94aef-b88d-4bc8-ac47-0e53f678bdb6",
        "colab": {
          "base_uri": "https://localhost:8080/",
          "height": 35
        }
      },
      "source": [
        "inflation.mean()"
      ],
      "execution_count": 31,
      "outputs": [
        {
          "output_type": "execute_result",
          "data": {
            "text/plain": [
              "6.703"
            ]
          },
          "metadata": {
            "tags": []
          },
          "execution_count": 31
        }
      ]
    },
    {
      "cell_type": "code",
      "metadata": {
        "id": "PYSyobIifnYd",
        "colab_type": "code",
        "colab": {}
      },
      "source": [
        "marks = np.array([3,3,4,5,5,4,2,4,4,4,4,5])"
      ],
      "execution_count": 0,
      "outputs": []
    },
    {
      "cell_type": "code",
      "metadata": {
        "id": "yN69T3lGfrYJ",
        "colab_type": "code",
        "outputId": "dd467dac-fe6a-4be3-e402-b2d7de6a27e2",
        "colab": {
          "base_uri": "https://localhost:8080/",
          "height": 35
        }
      },
      "source": [
        "marks.mean()"
      ],
      "execution_count": 33,
      "outputs": [
        {
          "output_type": "execute_result",
          "data": {
            "text/plain": [
              "3.9166666666666665"
            ]
          },
          "metadata": {
            "tags": []
          },
          "execution_count": 33
        }
      ]
    },
    {
      "cell_type": "code",
      "metadata": {
        "id": "2nrA7KhZftgY",
        "colab_type": "code",
        "outputId": "b24ee852-1936-4898-8d57-c4ca185f3af0",
        "colab": {
          "base_uri": "https://localhost:8080/",
          "height": 35
        }
      },
      "source": [
        "marks.sum()"
      ],
      "execution_count": 34,
      "outputs": [
        {
          "output_type": "execute_result",
          "data": {
            "text/plain": [
              "47"
            ]
          },
          "metadata": {
            "tags": []
          },
          "execution_count": 34
        }
      ]
    },
    {
      "cell_type": "code",
      "metadata": {
        "id": "PxoQpx0od-oc",
        "colab_type": "code",
        "outputId": "0db759dc-ff7c-4608-f4a5-5f8504ffaa88",
        "colab": {
          "base_uri": "https://localhost:8080/",
          "height": 35
        }
      },
      "source": [
        "np.median(marks)"
      ],
      "execution_count": 35,
      "outputs": [
        {
          "output_type": "execute_result",
          "data": {
            "text/plain": [
              "4.0"
            ]
          },
          "metadata": {
            "tags": []
          },
          "execution_count": 35
        }
      ]
    },
    {
      "cell_type": "markdown",
      "metadata": {
        "id": "sLsKTOGJgIA6",
        "colab_type": "text"
      },
      "source": [
        "### Задача 3. Посчитать сумму первых k элементов вектора"
      ]
    },
    {
      "cell_type": "code",
      "metadata": {
        "id": "6B5ZMr3ff_w0",
        "colab_type": "code",
        "colab": {}
      },
      "source": [
        "def first_k_sum(array, k):\n",
        "  return array[:k].sum()"
      ],
      "execution_count": 0,
      "outputs": []
    },
    {
      "cell_type": "code",
      "metadata": {
        "id": "aqd58ikUgW2o",
        "colab_type": "code",
        "outputId": "7c855c6d-3905-44c8-fca1-9dfbaa61fd6b",
        "colab": {
          "base_uri": "https://localhost:8080/",
          "height": 35
        }
      },
      "source": [
        "first_k_sum(np.array([1,1,1,1,1,1,1,1,1,1]), 7)"
      ],
      "execution_count": 37,
      "outputs": [
        {
          "output_type": "execute_result",
          "data": {
            "text/plain": [
              "7"
            ]
          },
          "metadata": {
            "tags": []
          },
          "execution_count": 37
        }
      ]
    },
    {
      "cell_type": "markdown",
      "metadata": {
        "id": "LhOANgzsKmTs",
        "colab_type": "text"
      },
      "source": [
        "# Матрицы. Теория\n",
        "\n",
        "Матрица - обычно это набор чисел, упорядоченных по строкам и столбцам.\n",
        "\n",
        "Примеры:\n",
        "\n",
        "$A_{3,3} =\n",
        " \\begin{pmatrix}\n",
        "  1 & 2 & 3 \\\\\n",
        "  4 & 5 & 6 \\\\\n",
        "  7 & 8 & 9  \\\\\n",
        "  \\end{pmatrix}$ , \n",
        "\n",
        "$A_{2,3} =\n",
        " \\begin{pmatrix}\n",
        "  1 & 2 & 3 \\\\\n",
        "  4 & 5 & 6 \\\\\n",
        "  \\end{pmatrix}$, \n",
        "\n",
        "$A_{3,2} =\n",
        " \\begin{pmatrix}\n",
        "  1 & 2 \\\\\n",
        "  4 & 5 \\\\\n",
        "  7 & 8  \\\\\n",
        "  \\end{pmatrix}$ , \n",
        "\n",
        "Общий вид: \n",
        "\n",
        "$A_{m,n} =\n",
        " \\begin{pmatrix}\n",
        "  a_{1,1} & a_{1,2} & \\cdots & a_{1,n} \\\\\n",
        "  a_{2,1} & a_{2,2} & \\cdots & a_{2,n} \\\\\n",
        "  \\vdots  & \\vdots  & \\ddots & \\vdots  \\\\\n",
        "  a_{m,1} & a_{m,2} & \\cdots & a_{m,n}\n",
        " \\end{pmatrix}$\n",
        "\n",
        " $m$ - количество строк матрицы\n",
        "\n",
        " $n$ - количество столбцов матрицы\n",
        "\n",
        " $a_{i,j}$ - элемент, стоящий на пересечении $i$-той строки и $j$-го столбца\n",
        "\n"
      ]
    },
    {
      "cell_type": "markdown",
      "metadata": {
        "id": "Dc8BHMK7HWF4",
        "colab_type": "text"
      },
      "source": [
        "## Операции над матрицами\n",
        "\n",
        "\n"
      ]
    },
    {
      "cell_type": "markdown",
      "metadata": {
        "id": "2Q2cF1gvR5Je",
        "colab_type": "text"
      },
      "source": [
        "### Сложение, умножение матрицы и скаляра:\n",
        "\n",
        "$\\begin{pmatrix}\n",
        "  1 & 2 & 3 \\\\\n",
        "  4 & 5 & 6 \\\\\n",
        "  7 & 8 & 9  \\\\\n",
        "  \\end{pmatrix} + 2 = \\begin{pmatrix}\n",
        "  1+2 & 2+2 & 3+2 \\\\\n",
        "  4+2 & 5+2 & 6+2 \\\\\n",
        "  7+2 & 8+2 & 9+2  \\\\\n",
        "  \\end{pmatrix} =\n",
        "  \\begin{pmatrix}\n",
        "  3 & 4 & 5 \\\\\n",
        "  6 & 7 & 8 \\\\\n",
        "  9 & 10 & 11  \\\\\n",
        "  \\end{pmatrix}$\n",
        "\n",
        "\n",
        "$\\begin{pmatrix}\n",
        "  1 & 2 & 3 \\\\\n",
        "  4 & 5 & 6 \\\\\n",
        "  7 & 8 & 9  \\\\\n",
        "  \\end{pmatrix} \\times 2 = \\begin{pmatrix}\n",
        "  1\\times2 & 2\\times2 & 3\\times2 \\\\\n",
        "  4\\times2 & 5\\times2 & 6\\times2 \\\\\n",
        "  7\\times2 & 8\\times2 & 9\\times2  \\\\\n",
        "  \\end{pmatrix} = \\begin{pmatrix}\n",
        "  2 & 4 & 6 \\\\\n",
        "  8 & 10 & 12 \\\\\n",
        "  14 & 16 & 18  \\\\\n",
        "  \\end{pmatrix}$\n",
        "\n",
        "\n"
      ]
    },
    {
      "cell_type": "markdown",
      "metadata": {
        "id": "ikgwcan-SM5X",
        "colab_type": "text"
      },
      "source": [
        "### Cложение матриц \n",
        "\n",
        "(складываем матрицы с одинаковыми размерами)\n",
        "\n",
        "$\\begin{pmatrix}\n",
        "  1 & 2 & 3 \\\\\n",
        "  4 & 5 & 6 \\\\\n",
        "  7 & 8 & 9  \\\\\n",
        "  \\end{pmatrix} +  \\begin{pmatrix}\n",
        "  3 & 3 & 3 \\\\\n",
        "  1 & 1 & 1 \\\\\n",
        "  2 & 2 & 2  \\\\\n",
        "  \\end{pmatrix} = \\begin{pmatrix}\n",
        "  1+3 & 2+3 & 3+3 \\\\\n",
        "  4+1 & 5+1 & 6+1 \\\\\n",
        "  7+2 & 8+2 & 9+2  \\\\\n",
        "  \\end{pmatrix} = \\begin{pmatrix}\n",
        "  4 & 5 & 6 \\\\\n",
        "  5 & 6 & 7 \\\\\n",
        "  9 & 10 & 11 \\\\\n",
        "  \\end{pmatrix}$"
      ]
    },
    {
      "cell_type": "markdown",
      "metadata": {
        "id": "ZH1nU5KBR9p1",
        "colab_type": "text"
      },
      "source": [
        " ### Умножение матрицы на вектор\n",
        "\n",
        "![](https://raw.githubusercontent.com/mts-machines-learn/ml-course-intro-spring2020/lesson3/%D0%9E%D1%81%D0%BD%D0%BE%D0%B2%D0%BD%D1%8B%D0%B5%20%D0%B1%D0%B8%D0%B1%D0%BB%D0%B8%D0%BE%D1%82%D0%B5%D0%BA%D0%B8/images/matrix_1.PNG)\n",
        "\n",
        "<!-- \n",
        "$\\begin{pmatrix}\n",
        "  1 & 2 & 3 \\\\\n",
        "  4 & 5 & 6 \\\\\n",
        "  7 & 8 & 9  \\\\\n",
        "  \\end{pmatrix} \\times \\begin{pmatrix}\n",
        "  1  \\\\\n",
        "  2 \\\\\n",
        "  3 \\\\\n",
        "  \\end{pmatrix} = \\begin{pmatrix}\n",
        "  1\\times1+2\\times2+3\\times3 \\\\\n",
        "  4\\times1+5\\times2+6\\times3 \\\\\n",
        "  7\\times1+8\\times2+9\\times3\n",
        "  \\end{pmatrix} = \\begin{pmatrix}\n",
        "  14 \\\\\n",
        "  32 \\\\\n",
        "  50\n",
        "  \\end{pmatrix}$ -->\n",
        "\n",
        " \n"
      ]
    },
    {
      "cell_type": "markdown",
      "metadata": {
        "id": "AuLPqIbHSHiG",
        "colab_type": "text"
      },
      "source": [
        " ### Умножение матрицы на матрицу\n",
        "\n",
        "![](https://raw.githubusercontent.com/mts-machines-learn/ml-course-intro-spring2020/lesson3/%D0%9E%D1%81%D0%BD%D0%BE%D0%B2%D0%BD%D1%8B%D0%B5%20%D0%B1%D0%B8%D0%B1%D0%BB%D0%B8%D0%BE%D1%82%D0%B5%D0%BA%D0%B8/images/matrix_2.PNG)\n",
        "\n",
        " <!-- $\\begin{pmatrix}\n",
        "  1 & 2 & 3 \\\\\n",
        "  4 & 5 & 6 \\\\\n",
        "  7 & 8 & 9  \\\\\n",
        "  \\end{pmatrix} \\times \\begin{pmatrix}\n",
        "  1 & 2\\\\\n",
        "  2 & 0\\\\\n",
        "  3 & 1\\\\\n",
        "  \\end{pmatrix} = \\begin{pmatrix}\n",
        "  1\\times1+2\\times2+3\\times3 & 1\\times2 + 2\\times0 + 3\\times1 \\\\\n",
        "  4\\times1+5\\times2+6\\times3 & 4\\times2 + 5\\times0 + 6\\times1 \\\\\n",
        "  7\\times1+8\\times2+9\\times3 & 7\\times2 + 8\\times0 + 9\\times1 \\\\\n",
        "  \\end{pmatrix} = \\begin{pmatrix}\n",
        "  14 & 5 \\\\\n",
        "  32 & 14 \\\\\n",
        "  50 & 23 \\\\\n",
        "  \\end{pmatrix}$ -->\n",
        "\n",
        "Как изменяются размерности матриц?\n",
        "\n",
        "\n",
        "![](https://raw.githubusercontent.com/mts-machines-learn/ml-course-intro-spring2020/lesson3/%D0%9E%D1%81%D0%BD%D0%BE%D0%B2%D0%BD%D1%8B%D0%B5%20%D0%B1%D0%B8%D0%B1%D0%BB%D0%B8%D0%BE%D1%82%D0%B5%D0%BA%D0%B8/images/matrix_3.jpg)\n",
        "\n",
        "$A_{n,k} \\times B_{k,m} = C_{n,m}$ (количество столбцов в первой матрице равно количеству строк во второй матрице)\n",
        "\n",
        "Тогда элементы матрицы произведения определяются как:\n",
        "\n",
        "$C_{i,j} = \\sum_k{A_{i,k}B_{k,j}}$\n"
      ]
    },
    {
      "cell_type": "markdown",
      "metadata": {
        "id": "sDM7tfO8SCok",
        "colab_type": "text"
      },
      "source": [
        "### Транспонирование матрицы\n",
        "\n",
        "  $B = \\begin{pmatrix}\n",
        "  1 & 2 \\\\\n",
        "  4 & 5 \\\\\n",
        "  7 & 8 \\\\\n",
        "  \\end{pmatrix} B^T = \\begin{pmatrix}\n",
        "  1 & 4 & 7 \\\\\n",
        "  2 & 5 & 8 \\\\\n",
        "  \\end{pmatrix}$\n",
        "\n",
        "Для элементов матриц $B$ и $B^T$ выполнено следующее: \n",
        "$B_{i,j} = B^T_{j.i}$\n",
        "\n",
        "  Если размерность матрицы $B = (m,n)$, то рамерность матрицы $B^T = (n,m)$"
      ]
    },
    {
      "cell_type": "markdown",
      "metadata": {
        "id": "uKmAgzBp6Klo",
        "colab_type": "text"
      },
      "source": [
        "# Матрицы. Практика"
      ]
    },
    {
      "cell_type": "markdown",
      "metadata": {
        "id": "dvZNBdMYO8He",
        "colab_type": "text"
      },
      "source": [
        "##### Инициализация матриц, операции с матрицами"
      ]
    },
    {
      "cell_type": "code",
      "metadata": {
        "id": "OmC4WDZN7_nm",
        "colab_type": "code",
        "colab": {}
      },
      "source": [
        "A = np.array([[1,2,3],\n",
        "              [4,5,6],\n",
        "              [7,8,9]])\n",
        "\n",
        "B = np.array([[3,3,3],\n",
        "              [1,1,1],\n",
        "              [2,2,2]])"
      ],
      "execution_count": 0,
      "outputs": []
    },
    {
      "cell_type": "markdown",
      "metadata": {
        "id": "9j2LORiLBAN_",
        "colab_type": "text"
      },
      "source": [
        "Сумма двух матриц"
      ]
    },
    {
      "cell_type": "code",
      "metadata": {
        "id": "ZrmgyKyV8J-t",
        "colab_type": "code",
        "outputId": "1876ae07-5134-469d-ebbd-d473eaf73fe7",
        "colab": {
          "base_uri": "https://localhost:8080/",
          "height": 71
        }
      },
      "source": [
        "A + B"
      ],
      "execution_count": 39,
      "outputs": [
        {
          "output_type": "execute_result",
          "data": {
            "text/plain": [
              "array([[ 4,  5,  6],\n",
              "       [ 5,  6,  7],\n",
              "       [ 9, 10, 11]])"
            ]
          },
          "metadata": {
            "tags": []
          },
          "execution_count": 39
        }
      ]
    },
    {
      "cell_type": "markdown",
      "metadata": {
        "id": "4bQZvCQWBKl0",
        "colab_type": "text"
      },
      "source": [
        "Сумма матрицы и скаляра"
      ]
    },
    {
      "cell_type": "code",
      "metadata": {
        "id": "yhqsgF1N8RVG",
        "colab_type": "code",
        "outputId": "bfae3785-178b-4330-c052-14c388c9b51c",
        "colab": {
          "base_uri": "https://localhost:8080/",
          "height": 71
        }
      },
      "source": [
        "A + 2"
      ],
      "execution_count": 40,
      "outputs": [
        {
          "output_type": "execute_result",
          "data": {
            "text/plain": [
              "array([[ 3,  4,  5],\n",
              "       [ 6,  7,  8],\n",
              "       [ 9, 10, 11]])"
            ]
          },
          "metadata": {
            "tags": []
          },
          "execution_count": 40
        }
      ]
    },
    {
      "cell_type": "markdown",
      "metadata": {
        "id": "fRq3O1z0BLam",
        "colab_type": "text"
      },
      "source": [
        "Произведение матрицы и скаляра"
      ]
    },
    {
      "cell_type": "code",
      "metadata": {
        "id": "OtqQLkcC63CS",
        "colab_type": "code",
        "outputId": "a313aea5-426d-4f1c-be12-d6033ab872e7",
        "colab": {
          "base_uri": "https://localhost:8080/",
          "height": 71
        }
      },
      "source": [
        "A * 2"
      ],
      "execution_count": 41,
      "outputs": [
        {
          "output_type": "execute_result",
          "data": {
            "text/plain": [
              "array([[ 2,  4,  6],\n",
              "       [ 8, 10, 12],\n",
              "       [14, 16, 18]])"
            ]
          },
          "metadata": {
            "tags": []
          },
          "execution_count": 41
        }
      ]
    },
    {
      "cell_type": "code",
      "metadata": {
        "id": "9wiL-f7o6pUs",
        "colab_type": "code",
        "colab": {}
      },
      "source": [
        "A = np.array([[1,2,3],\n",
        "              [4,5,6],\n",
        "              [7,8,9]])\n",
        "\n",
        "v = np.array([1,2,3])"
      ],
      "execution_count": 0,
      "outputs": []
    },
    {
      "cell_type": "markdown",
      "metadata": {
        "id": "iitW7i4iBPa5",
        "colab_type": "text"
      },
      "source": [
        "Произведение матрицы и вектора"
      ]
    },
    {
      "cell_type": "code",
      "metadata": {
        "id": "vc-w5Og96tMn",
        "colab_type": "code",
        "outputId": "91fa6cc1-c979-422a-a4d8-0bc8ffabebee",
        "colab": {
          "base_uri": "https://localhost:8080/",
          "height": 35
        }
      },
      "source": [
        "A @ v"
      ],
      "execution_count": 43,
      "outputs": [
        {
          "output_type": "execute_result",
          "data": {
            "text/plain": [
              "array([14, 32, 50])"
            ]
          },
          "metadata": {
            "tags": []
          },
          "execution_count": 43
        }
      ]
    },
    {
      "cell_type": "code",
      "metadata": {
        "id": "KjmcG4TFHOuU",
        "colab_type": "code",
        "colab": {}
      },
      "source": [
        "A = np.array([[1,2,3],\n",
        "              [4,5,6],\n",
        "              [7,8,9]])\n",
        "\n",
        "B = np.array([[1,2],\n",
        "              [2,0],\n",
        "              [3,1]])"
      ],
      "execution_count": 0,
      "outputs": []
    },
    {
      "cell_type": "markdown",
      "metadata": {
        "id": "fnl7tngABSHl",
        "colab_type": "text"
      },
      "source": [
        "Произведение матриц"
      ]
    },
    {
      "cell_type": "code",
      "metadata": {
        "id": "WJzYAu-06YvS",
        "colab_type": "code",
        "outputId": "c0efd1c3-494a-4dd4-92f8-892210ff0c69",
        "colab": {
          "base_uri": "https://localhost:8080/",
          "height": 71
        }
      },
      "source": [
        "A @ B"
      ],
      "execution_count": 45,
      "outputs": [
        {
          "output_type": "execute_result",
          "data": {
            "text/plain": [
              "array([[14,  5],\n",
              "       [32, 14],\n",
              "       [50, 23]])"
            ]
          },
          "metadata": {
            "tags": []
          },
          "execution_count": 45
        }
      ]
    },
    {
      "cell_type": "markdown",
      "metadata": {
        "id": "0998zSVkBVbj",
        "colab_type": "text"
      },
      "source": [
        "shape"
      ]
    },
    {
      "cell_type": "code",
      "metadata": {
        "id": "Ina-plJ76_qF",
        "colab_type": "code",
        "colab": {}
      },
      "source": [
        "A = np.array([[1,2],\n",
        "              [4,5],\n",
        "              [7,8]])"
      ],
      "execution_count": 0,
      "outputs": []
    },
    {
      "cell_type": "code",
      "metadata": {
        "id": "eKKe-gDt8faF",
        "colab_type": "code",
        "outputId": "f95cc1bb-5551-494c-feef-5afa7fa85096",
        "colab": {
          "base_uri": "https://localhost:8080/",
          "height": 35
        }
      },
      "source": [
        "A.shape"
      ],
      "execution_count": 47,
      "outputs": [
        {
          "output_type": "execute_result",
          "data": {
            "text/plain": [
              "(3, 2)"
            ]
          },
          "metadata": {
            "tags": []
          },
          "execution_count": 47
        }
      ]
    },
    {
      "cell_type": "code",
      "metadata": {
        "id": "mUEIHqtv8fdm",
        "colab_type": "code",
        "outputId": "4a64d984-fe5b-4269-9b29-fec33832c7f7",
        "colab": {
          "base_uri": "https://localhost:8080/",
          "height": 35
        }
      },
      "source": [
        "A.reshape(6)"
      ],
      "execution_count": 48,
      "outputs": [
        {
          "output_type": "execute_result",
          "data": {
            "text/plain": [
              "array([1, 2, 4, 5, 7, 8])"
            ]
          },
          "metadata": {
            "tags": []
          },
          "execution_count": 48
        }
      ]
    },
    {
      "cell_type": "code",
      "metadata": {
        "id": "SV-kF2XY8q-Z",
        "colab_type": "code",
        "outputId": "66340664-76c6-414a-8e48-fb194a2cf565",
        "colab": {
          "base_uri": "https://localhost:8080/",
          "height": 53
        }
      },
      "source": [
        "A.reshape(2, 3)"
      ],
      "execution_count": 49,
      "outputs": [
        {
          "output_type": "execute_result",
          "data": {
            "text/plain": [
              "array([[1, 2, 4],\n",
              "       [5, 7, 8]])"
            ]
          },
          "metadata": {
            "tags": []
          },
          "execution_count": 49
        }
      ]
    },
    {
      "cell_type": "code",
      "metadata": {
        "id": "eevmq8fv8fjn",
        "colab_type": "code",
        "outputId": "39f146f3-9028-4670-d035-d066b4632c48",
        "colab": {
          "base_uri": "https://localhost:8080/",
          "height": 53
        }
      },
      "source": [
        "A.reshape(-1, 3)"
      ],
      "execution_count": 50,
      "outputs": [
        {
          "output_type": "execute_result",
          "data": {
            "text/plain": [
              "array([[1, 2, 4],\n",
              "       [5, 7, 8]])"
            ]
          },
          "metadata": {
            "tags": []
          },
          "execution_count": 50
        }
      ]
    },
    {
      "cell_type": "code",
      "metadata": {
        "id": "x2V5a9rN8fh4",
        "colab_type": "code",
        "outputId": "2cc87b24-1284-4901-b853-c1ec8a0ea38c",
        "colab": {
          "base_uri": "https://localhost:8080/",
          "height": 35
        }
      },
      "source": [
        "A.size"
      ],
      "execution_count": 51,
      "outputs": [
        {
          "output_type": "execute_result",
          "data": {
            "text/plain": [
              "6"
            ]
          },
          "metadata": {
            "tags": []
          },
          "execution_count": 51
        }
      ]
    },
    {
      "cell_type": "code",
      "metadata": {
        "id": "WXbXNQ1Z9n6i",
        "colab_type": "code",
        "outputId": "3c272393-cccf-44be-c32b-78218a4794c1",
        "colab": {
          "base_uri": "https://localhost:8080/",
          "height": 35
        }
      },
      "source": [
        "A.shape[0] * A.shape[1]"
      ],
      "execution_count": 52,
      "outputs": [
        {
          "output_type": "execute_result",
          "data": {
            "text/plain": [
              "6"
            ]
          },
          "metadata": {
            "tags": []
          },
          "execution_count": 52
        }
      ]
    },
    {
      "cell_type": "code",
      "metadata": {
        "id": "3Wzuwa4U9pr8",
        "colab_type": "code",
        "colab": {}
      },
      "source": [
        "A = np.arange(1, 10)\n",
        "A = A.reshape(3, 3)"
      ],
      "execution_count": 0,
      "outputs": []
    },
    {
      "cell_type": "code",
      "metadata": {
        "id": "UhQjODV9AJ6V",
        "colab_type": "code",
        "outputId": "765243ea-7574-4a97-8d1a-1e4621fe1aa3",
        "colab": {
          "base_uri": "https://localhost:8080/",
          "height": 71
        }
      },
      "source": [
        "A"
      ],
      "execution_count": 54,
      "outputs": [
        {
          "output_type": "execute_result",
          "data": {
            "text/plain": [
              "array([[1, 2, 3],\n",
              "       [4, 5, 6],\n",
              "       [7, 8, 9]])"
            ]
          },
          "metadata": {
            "tags": []
          },
          "execution_count": 54
        }
      ]
    },
    {
      "cell_type": "markdown",
      "metadata": {
        "id": "zcHS6IdGM-aJ",
        "colab_type": "text"
      },
      "source": [
        "##### Размерности матриц"
      ]
    },
    {
      "cell_type": "markdown",
      "metadata": {
        "id": "FVTVG9fnl9ln",
        "colab_type": "text"
      },
      "source": [
        "![](https://raw.githubusercontent.com/mts-machines-learn/ml-course-intro-spring2020/lesson3/%D0%9E%D1%81%D0%BD%D0%BE%D0%B2%D0%BD%D1%8B%D0%B5%20%D0%B1%D0%B8%D0%B1%D0%BB%D0%B8%D0%BE%D1%82%D0%B5%D0%BA%D0%B8/images/axis.jpg)"
      ]
    },
    {
      "cell_type": "code",
      "metadata": {
        "id": "7e0Y0aSoNAbI",
        "colab_type": "code",
        "colab": {}
      },
      "source": [
        "A = np.array([[2,3,4,5],\n",
        "              [6,7,8,9]])"
      ],
      "execution_count": 0,
      "outputs": []
    },
    {
      "cell_type": "code",
      "metadata": {
        "id": "YoGW9Pynl7oW",
        "colab_type": "code",
        "outputId": "ca14da7d-0eb3-44e9-b423-c94da7b502f0",
        "colab": {
          "base_uri": "https://localhost:8080/",
          "height": 35
        }
      },
      "source": [
        "A.sum()"
      ],
      "execution_count": 56,
      "outputs": [
        {
          "output_type": "execute_result",
          "data": {
            "text/plain": [
              "44"
            ]
          },
          "metadata": {
            "tags": []
          },
          "execution_count": 56
        }
      ]
    },
    {
      "cell_type": "code",
      "metadata": {
        "id": "T2u6FmDRNETa",
        "colab_type": "code",
        "outputId": "95e92520-0e61-4ba2-da8d-2bc2db0c750b",
        "colab": {
          "base_uri": "https://localhost:8080/",
          "height": 35
        }
      },
      "source": [
        "A.sum(axis=0)\n"
      ],
      "execution_count": 57,
      "outputs": [
        {
          "output_type": "execute_result",
          "data": {
            "text/plain": [
              "array([ 8, 10, 12, 14])"
            ]
          },
          "metadata": {
            "tags": []
          },
          "execution_count": 57
        }
      ]
    },
    {
      "cell_type": "code",
      "metadata": {
        "id": "_Tz1QkPpNJA6",
        "colab_type": "code",
        "outputId": "2de7efa0-7b9e-446e-9b1f-bc5080104554",
        "colab": {
          "base_uri": "https://localhost:8080/",
          "height": 35
        }
      },
      "source": [
        "A.sum(axis=1)"
      ],
      "execution_count": 58,
      "outputs": [
        {
          "output_type": "execute_result",
          "data": {
            "text/plain": [
              "array([14, 30])"
            ]
          },
          "metadata": {
            "tags": []
          },
          "execution_count": 58
        }
      ]
    },
    {
      "cell_type": "markdown",
      "metadata": {
        "id": "Fx-ceHY0NmtC",
        "colab_type": "text"
      },
      "source": [
        "##### Задача 4: Создать матрицу из четных чисел, размера m*n;"
      ]
    },
    {
      "cell_type": "code",
      "metadata": {
        "id": "usKMZRk7NlG_",
        "colab_type": "code",
        "colab": {}
      },
      "source": [
        "def create_odd_matrix_way1(m,n):\n",
        "  size = m*n\n",
        "  array = np.arange(0, 2*size, 2)\n",
        "  array = array.reshape(m, n)\n",
        "  return array"
      ],
      "execution_count": 0,
      "outputs": []
    },
    {
      "cell_type": "code",
      "metadata": {
        "id": "h-wHEH86OAXq",
        "colab_type": "code",
        "outputId": "f204d883-16f6-4c98-9ea1-7a7ddc364eaa",
        "colab": {
          "base_uri": "https://localhost:8080/",
          "height": 89
        }
      },
      "source": [
        "create_odd_matrix_way1(4,3)"
      ],
      "execution_count": 60,
      "outputs": [
        {
          "output_type": "execute_result",
          "data": {
            "text/plain": [
              "array([[ 0,  2,  4],\n",
              "       [ 6,  8, 10],\n",
              "       [12, 14, 16],\n",
              "       [18, 20, 22]])"
            ]
          },
          "metadata": {
            "tags": []
          },
          "execution_count": 60
        }
      ]
    },
    {
      "cell_type": "markdown",
      "metadata": {
        "id": "TkeNoFU_O1sQ",
        "colab_type": "text"
      },
      "source": [
        "#### Индексация"
      ]
    },
    {
      "cell_type": "code",
      "metadata": {
        "id": "RBkngvh2OwNj",
        "colab_type": "code",
        "colab": {}
      },
      "source": [
        "A = np.arange(0, 25)"
      ],
      "execution_count": 0,
      "outputs": []
    },
    {
      "cell_type": "code",
      "metadata": {
        "id": "Q0XqnwdcVXDR",
        "colab_type": "code",
        "outputId": "17c47cc0-db0a-4b30-8212-03c9267a9b04",
        "colab": {
          "base_uri": "https://localhost:8080/",
          "height": 107
        }
      },
      "source": [
        "A = A.reshape(5,5)\n",
        "A"
      ],
      "execution_count": 62,
      "outputs": [
        {
          "output_type": "execute_result",
          "data": {
            "text/plain": [
              "array([[ 0,  1,  2,  3,  4],\n",
              "       [ 5,  6,  7,  8,  9],\n",
              "       [10, 11, 12, 13, 14],\n",
              "       [15, 16, 17, 18, 19],\n",
              "       [20, 21, 22, 23, 24]])"
            ]
          },
          "metadata": {
            "tags": []
          },
          "execution_count": 62
        }
      ]
    },
    {
      "cell_type": "markdown",
      "metadata": {
        "id": "j0pCMXVuEV31",
        "colab_type": "text"
      },
      "source": [
        "Обращение к строке матрицы"
      ]
    },
    {
      "cell_type": "code",
      "metadata": {
        "id": "udW5T_1FVck4",
        "colab_type": "code",
        "outputId": "7a1d7103-fa83-4732-ef54-0d19e6cef900",
        "colab": {
          "base_uri": "https://localhost:8080/",
          "height": 35
        }
      },
      "source": [
        "\n",
        "A[2]"
      ],
      "execution_count": 63,
      "outputs": [
        {
          "output_type": "execute_result",
          "data": {
            "text/plain": [
              "array([10, 11, 12, 13, 14])"
            ]
          },
          "metadata": {
            "tags": []
          },
          "execution_count": 63
        }
      ]
    },
    {
      "cell_type": "markdown",
      "metadata": {
        "id": "VQ8jSNYVEY20",
        "colab_type": "text"
      },
      "source": [
        "Обращение к столбцу матрицы"
      ]
    },
    {
      "cell_type": "code",
      "metadata": {
        "id": "PyVcUcCxVm9V",
        "colab_type": "code",
        "outputId": "80bc4141-afbd-476c-881a-9c330899bf21",
        "colab": {
          "base_uri": "https://localhost:8080/",
          "height": 35
        }
      },
      "source": [
        "\n",
        "A[:, 2]"
      ],
      "execution_count": 64,
      "outputs": [
        {
          "output_type": "execute_result",
          "data": {
            "text/plain": [
              "array([ 2,  7, 12, 17, 22])"
            ]
          },
          "metadata": {
            "tags": []
          },
          "execution_count": 64
        }
      ]
    },
    {
      "cell_type": "markdown",
      "metadata": {
        "id": "NkAyagfGEboM",
        "colab_type": "text"
      },
      "source": [
        "Обращение к элементу матрицы"
      ]
    },
    {
      "cell_type": "code",
      "metadata": {
        "id": "m9y07fJsVo4i",
        "colab_type": "code",
        "outputId": "c21be9eb-d19a-4ec5-e2b5-e139531fc2e0",
        "colab": {
          "base_uri": "https://localhost:8080/",
          "height": 35
        }
      },
      "source": [
        "A[2, 2]"
      ],
      "execution_count": 65,
      "outputs": [
        {
          "output_type": "execute_result",
          "data": {
            "text/plain": [
              "12"
            ]
          },
          "metadata": {
            "tags": []
          },
          "execution_count": 65
        }
      ]
    },
    {
      "cell_type": "markdown",
      "metadata": {
        "id": "OZ1ZfbGnEdyb",
        "colab_type": "text"
      },
      "source": [
        "Срезы матрицы"
      ]
    },
    {
      "cell_type": "code",
      "metadata": {
        "id": "C0W7-DbyVrny",
        "colab_type": "code",
        "outputId": "e87835a5-a8f7-49dc-dfa0-b3cd20ed380e",
        "colab": {
          "base_uri": "https://localhost:8080/",
          "height": 71
        }
      },
      "source": [
        "A[0:3, 0:3]"
      ],
      "execution_count": 66,
      "outputs": [
        {
          "output_type": "execute_result",
          "data": {
            "text/plain": [
              "array([[ 0,  1,  2],\n",
              "       [ 5,  6,  7],\n",
              "       [10, 11, 12]])"
            ]
          },
          "metadata": {
            "tags": []
          },
          "execution_count": 66
        }
      ]
    },
    {
      "cell_type": "code",
      "metadata": {
        "id": "DVPT3FgaV6A1",
        "colab_type": "code",
        "colab": {}
      },
      "source": [
        "A[0:3, 0:3] = 100"
      ],
      "execution_count": 0,
      "outputs": []
    },
    {
      "cell_type": "code",
      "metadata": {
        "id": "cYmFyJS2V9cS",
        "colab_type": "code",
        "outputId": "6c0a295a-a31b-4adb-e42d-0d033400855a",
        "colab": {
          "base_uri": "https://localhost:8080/",
          "height": 107
        }
      },
      "source": [
        "A"
      ],
      "execution_count": 68,
      "outputs": [
        {
          "output_type": "execute_result",
          "data": {
            "text/plain": [
              "array([[100, 100, 100,   3,   4],\n",
              "       [100, 100, 100,   8,   9],\n",
              "       [100, 100, 100,  13,  14],\n",
              "       [ 15,  16,  17,  18,  19],\n",
              "       [ 20,  21,  22,  23,  24]])"
            ]
          },
          "metadata": {
            "tags": []
          },
          "execution_count": 68
        }
      ]
    },
    {
      "cell_type": "code",
      "metadata": {
        "id": "C8knsmBNV_RL",
        "colab_type": "code",
        "colab": {}
      },
      "source": [
        "A[2] = 50"
      ],
      "execution_count": 0,
      "outputs": []
    },
    {
      "cell_type": "code",
      "metadata": {
        "id": "7M3YCuoIWEJz",
        "colab_type": "code",
        "outputId": "7e73ae69-95fb-40ea-dc52-075ce1a8497c",
        "colab": {
          "base_uri": "https://localhost:8080/",
          "height": 107
        }
      },
      "source": [
        "A"
      ],
      "execution_count": 70,
      "outputs": [
        {
          "output_type": "execute_result",
          "data": {
            "text/plain": [
              "array([[100, 100, 100,   3,   4],\n",
              "       [100, 100, 100,   8,   9],\n",
              "       [ 50,  50,  50,  50,  50],\n",
              "       [ 15,  16,  17,  18,  19],\n",
              "       [ 20,  21,  22,  23,  24]])"
            ]
          },
          "metadata": {
            "tags": []
          },
          "execution_count": 70
        }
      ]
    },
    {
      "cell_type": "code",
      "metadata": {
        "id": "Y7PPHJ-1XNqd",
        "colab_type": "code",
        "colab": {}
      },
      "source": [
        "A[1] = np.array([10, 20, 30, 40, 50])"
      ],
      "execution_count": 0,
      "outputs": []
    },
    {
      "cell_type": "code",
      "metadata": {
        "id": "ZhoQS3ODXaMJ",
        "colab_type": "code",
        "outputId": "8f641bb7-560f-417f-c5d3-d149353ae233",
        "colab": {
          "base_uri": "https://localhost:8080/",
          "height": 107
        }
      },
      "source": [
        "A"
      ],
      "execution_count": 72,
      "outputs": [
        {
          "output_type": "execute_result",
          "data": {
            "text/plain": [
              "array([[100, 100, 100,   3,   4],\n",
              "       [ 10,  20,  30,  40,  50],\n",
              "       [ 50,  50,  50,  50,  50],\n",
              "       [ 15,  16,  17,  18,  19],\n",
              "       [ 20,  21,  22,  23,  24]])"
            ]
          },
          "metadata": {
            "tags": []
          },
          "execution_count": 72
        }
      ]
    },
    {
      "cell_type": "markdown",
      "metadata": {
        "id": "Fiu7O2mCX7IX",
        "colab_type": "text"
      },
      "source": [
        "#### Матрицы из нулей, единиц"
      ]
    },
    {
      "cell_type": "code",
      "metadata": {
        "id": "rFi-KOOiXtb2",
        "colab_type": "code",
        "outputId": "6551700b-36dc-415f-b7e9-3b69399a63c0",
        "colab": {
          "base_uri": "https://localhost:8080/",
          "height": 89
        }
      },
      "source": [
        "np.ones((4,5))"
      ],
      "execution_count": 73,
      "outputs": [
        {
          "output_type": "execute_result",
          "data": {
            "text/plain": [
              "array([[1., 1., 1., 1., 1.],\n",
              "       [1., 1., 1., 1., 1.],\n",
              "       [1., 1., 1., 1., 1.],\n",
              "       [1., 1., 1., 1., 1.]])"
            ]
          },
          "metadata": {
            "tags": []
          },
          "execution_count": 73
        }
      ]
    },
    {
      "cell_type": "code",
      "metadata": {
        "id": "Xwj8qaI1X3uK",
        "colab_type": "code",
        "outputId": "ed9f4339-b7a2-4195-cb01-e6e4ac3653fe",
        "colab": {
          "base_uri": "https://localhost:8080/",
          "height": 89
        }
      },
      "source": [
        "np.zeros((4,5))"
      ],
      "execution_count": 74,
      "outputs": [
        {
          "output_type": "execute_result",
          "data": {
            "text/plain": [
              "array([[0., 0., 0., 0., 0.],\n",
              "       [0., 0., 0., 0., 0.],\n",
              "       [0., 0., 0., 0., 0.],\n",
              "       [0., 0., 0., 0., 0.]])"
            ]
          },
          "metadata": {
            "tags": []
          },
          "execution_count": 74
        }
      ]
    },
    {
      "cell_type": "markdown",
      "metadata": {
        "id": "AwG2vjM1Xc2O",
        "colab_type": "text"
      },
      "source": [
        "#### Задача 5. Создать матрицу с элементами вида $a_{i,j} = i$\n",
        "\n",
        "То есть все значения в строке одинаковы и равны номеру строки\n",
        "\n",
        "Вид матрицы размера $(4,4)$: \n",
        "\n",
        "$\\begin{pmatrix}\n",
        "0 & 0 & 0 & 0 \\\\\n",
        "1 & 1 & 1 & 1\\\\\n",
        "2&2&2&2\\\\\n",
        "3&3&3&3\n",
        "\\end{pmatrix}$"
      ]
    },
    {
      "cell_type": "code",
      "metadata": {
        "id": "EH56jE1lYE7i",
        "colab_type": "code",
        "colab": {}
      },
      "source": [
        "def create_rows_matrix(n,m):\n",
        "  array = np.zeros((n,m))\n",
        "  for i in range(n):\n",
        "    array[i] = i\n",
        "  return array"
      ],
      "execution_count": 0,
      "outputs": []
    },
    {
      "cell_type": "code",
      "metadata": {
        "id": "UB_Xc84RXcQE",
        "colab_type": "code",
        "outputId": "133ee170-89ce-4c74-ce4a-416163638cbb",
        "colab": {
          "base_uri": "https://localhost:8080/",
          "height": 71
        }
      },
      "source": [
        "create_rows_matrix(3,5)"
      ],
      "execution_count": 76,
      "outputs": [
        {
          "output_type": "execute_result",
          "data": {
            "text/plain": [
              "array([[0., 0., 0., 0., 0.],\n",
              "       [1., 1., 1., 1., 1.],\n",
              "       [2., 2., 2., 2., 2.]])"
            ]
          },
          "metadata": {
            "tags": []
          },
          "execution_count": 76
        }
      ]
    },
    {
      "cell_type": "code",
      "metadata": {
        "id": "hbrQZnoSYnAC",
        "colab_type": "code",
        "colab": {}
      },
      "source": [
        "def create_columns_matrix(n,m):\n",
        "  array = np.zeros((n,m))\n",
        "  for j in range(m):\n",
        "    array[:, j] = j\n",
        "  return array"
      ],
      "execution_count": 0,
      "outputs": []
    },
    {
      "cell_type": "code",
      "metadata": {
        "id": "-j5odw3QYrwZ",
        "colab_type": "code",
        "outputId": "0a15fc45-9f98-4822-95a6-9f0e6d37ef90",
        "colab": {
          "base_uri": "https://localhost:8080/",
          "height": 71
        }
      },
      "source": [
        "create_columns_matrix(3,5)"
      ],
      "execution_count": 78,
      "outputs": [
        {
          "output_type": "execute_result",
          "data": {
            "text/plain": [
              "array([[0., 1., 2., 3., 4.],\n",
              "       [0., 1., 2., 3., 4.],\n",
              "       [0., 1., 2., 3., 4.]])"
            ]
          },
          "metadata": {
            "tags": []
          },
          "execution_count": 78
        }
      ]
    },
    {
      "cell_type": "markdown",
      "metadata": {
        "colab_type": "text",
        "id": "emKRAj6QcmKD"
      },
      "source": [
        "#### Задача 6. Создать матрицу $A_{n,m}$ со сдвигом в строках.\n",
        "\n",
        "Вид матрицы размера $(4,4)$: \n",
        "\n",
        "$\\begin{pmatrix}\n",
        "0 & 1 & 2 & 3 \\\\\n",
        "1 &2&3&4\\\\\n",
        "2&3&4&5\\\\\n",
        "3&4&5&6\n",
        "\\end{pmatrix}$"
      ]
    },
    {
      "cell_type": "code",
      "metadata": {
        "id": "u_a7E7B1cuA0",
        "colab_type": "code",
        "colab": {}
      },
      "source": [
        "def shift_matrix(n, m):\n",
        "  array = np.zeros((n,m))\n",
        "  for i in range(n):\n",
        "    array[i] = np.arange(i, m+i)\n",
        "  return array.reshape(n,m) "
      ],
      "execution_count": 0,
      "outputs": []
    },
    {
      "cell_type": "code",
      "metadata": {
        "id": "cq1BbvcZcvDN",
        "colab_type": "code",
        "outputId": "4cb7d9b5-d306-4593-fdb4-a86dcf8693e2",
        "colab": {
          "base_uri": "https://localhost:8080/",
          "height": 107
        }
      },
      "source": [
        "shift_matrix(5,6)"
      ],
      "execution_count": 80,
      "outputs": [
        {
          "output_type": "execute_result",
          "data": {
            "text/plain": [
              "array([[0., 1., 2., 3., 4., 5.],\n",
              "       [1., 2., 3., 4., 5., 6.],\n",
              "       [2., 3., 4., 5., 6., 7.],\n",
              "       [3., 4., 5., 6., 7., 8.],\n",
              "       [4., 5., 6., 7., 8., 9.]])"
            ]
          },
          "metadata": {
            "tags": []
          },
          "execution_count": 80
        }
      ]
    },
    {
      "cell_type": "markdown",
      "metadata": {
        "id": "ET7A7W7ahdMU",
        "colab_type": "text"
      },
      "source": [
        "#### Конкатенация матриц по строкам и столбцам"
      ]
    },
    {
      "cell_type": "code",
      "metadata": {
        "id": "yAtsfAg_htqM",
        "colab_type": "code",
        "colab": {}
      },
      "source": [
        "A = np.array([[1,2,3], \n",
        "              [4,5,6]])\n",
        "B = np.array([[7,8,9],\n",
        "               [10,11,12]])"
      ],
      "execution_count": 0,
      "outputs": []
    },
    {
      "cell_type": "code",
      "metadata": {
        "id": "rOPQEi9uh684",
        "colab_type": "code",
        "outputId": "5245e172-52f8-4466-ed95-eef46ab8f888",
        "colab": {
          "base_uri": "https://localhost:8080/",
          "height": 89
        }
      },
      "source": [
        "C = np.vstack((A, B))\n",
        "C"
      ],
      "execution_count": 82,
      "outputs": [
        {
          "output_type": "execute_result",
          "data": {
            "text/plain": [
              "array([[ 1,  2,  3],\n",
              "       [ 4,  5,  6],\n",
              "       [ 7,  8,  9],\n",
              "       [10, 11, 12]])"
            ]
          },
          "metadata": {
            "tags": []
          },
          "execution_count": 82
        }
      ]
    },
    {
      "cell_type": "code",
      "metadata": {
        "id": "fd0Vv-umiBQM",
        "colab_type": "code",
        "outputId": "3ac037b1-14d4-4d7a-f83c-7ecbd1e2de94",
        "colab": {
          "base_uri": "https://localhost:8080/",
          "height": 53
        }
      },
      "source": [
        "D = np.hstack((A, B))\n",
        "D"
      ],
      "execution_count": 83,
      "outputs": [
        {
          "output_type": "execute_result",
          "data": {
            "text/plain": [
              "array([[ 1,  2,  3,  7,  8,  9],\n",
              "       [ 4,  5,  6, 10, 11, 12]])"
            ]
          },
          "metadata": {
            "tags": []
          },
          "execution_count": 83
        }
      ]
    },
    {
      "cell_type": "markdown",
      "metadata": {
        "id": "1gvm52UsikMK",
        "colab_type": "text"
      },
      "source": [
        "### Задача 7. Для квадратной матрицы $A$ создать блочную матрицу вида\n",
        " $\\begin{bmatrix}\n",
        "A & A^T\n",
        " \\end{bmatrix}$. (Конкатенация двух матриц)"
      ]
    },
    {
      "cell_type": "code",
      "metadata": {
        "id": "vvsxDsYFiGb3",
        "colab_type": "code",
        "colab": {}
      },
      "source": [
        "def concat_transpose(A):\n",
        "  assert A.shape[0] == A.shape[1]\n",
        "\n",
        "  return np.hstack((A, A.T))"
      ],
      "execution_count": 0,
      "outputs": []
    },
    {
      "cell_type": "code",
      "metadata": {
        "id": "6iy3xlSZjgy1",
        "colab_type": "code",
        "colab": {}
      },
      "source": [
        "A = np.array([[3,4,5],\n",
        "              [1,2,3],\n",
        "              [3,4,2]])"
      ],
      "execution_count": 0,
      "outputs": []
    },
    {
      "cell_type": "code",
      "metadata": {
        "id": "wGgaZ45IkLHf",
        "colab_type": "code",
        "outputId": "87b6d30d-c186-441f-be6e-9349db02e8d5",
        "colab": {
          "base_uri": "https://localhost:8080/",
          "height": 71
        }
      },
      "source": [
        "concat_transpose(A)"
      ],
      "execution_count": 86,
      "outputs": [
        {
          "output_type": "execute_result",
          "data": {
            "text/plain": [
              "array([[3, 4, 5, 3, 1, 3],\n",
              "       [1, 2, 3, 4, 2, 4],\n",
              "       [3, 4, 2, 5, 3, 2]])"
            ]
          },
          "metadata": {
            "tags": []
          },
          "execution_count": 86
        }
      ]
    },
    {
      "cell_type": "markdown",
      "metadata": {
        "id": "wFLWgVjjKmY6",
        "colab_type": "text"
      },
      "source": [
        "# Функции"
      ]
    },
    {
      "cell_type": "markdown",
      "metadata": {
        "id": "j6XaWpaMFWFC",
        "colab_type": "text"
      },
      "source": [
        "функция одной переменной"
      ]
    },
    {
      "cell_type": "code",
      "metadata": {
        "id": "BwkF_TLqlGJ1",
        "colab_type": "code",
        "colab": {}
      },
      "source": [
        "x = 4"
      ],
      "execution_count": 0,
      "outputs": []
    },
    {
      "cell_type": "code",
      "metadata": {
        "id": "dxlRmbP5k-J0",
        "colab_type": "code",
        "outputId": "61f56e51-87fd-44d0-91dc-3f8f41af4c89",
        "colab": {
          "base_uri": "https://localhost:8080/",
          "height": 35
        }
      },
      "source": [
        "np.sqrt(x)"
      ],
      "execution_count": 88,
      "outputs": [
        {
          "output_type": "execute_result",
          "data": {
            "text/plain": [
              "2.0"
            ]
          },
          "metadata": {
            "tags": []
          },
          "execution_count": 88
        }
      ]
    },
    {
      "cell_type": "markdown",
      "metadata": {
        "id": "PV2KgW4qFcDS",
        "colab_type": "text"
      },
      "source": [
        "функция от вектора"
      ]
    },
    {
      "cell_type": "code",
      "metadata": {
        "id": "lwfTM5v2lCRv",
        "colab_type": "code",
        "colab": {}
      },
      "source": [
        "squares_vec = np.array([1,4,9,16,25])"
      ],
      "execution_count": 0,
      "outputs": []
    },
    {
      "cell_type": "code",
      "metadata": {
        "id": "i4auKil2lLo3",
        "colab_type": "code",
        "outputId": "758f149f-eefa-4f1c-9494-2918ff3a3bb5",
        "colab": {
          "base_uri": "https://localhost:8080/",
          "height": 35
        }
      },
      "source": [
        "np.sqrt(squares_vec)"
      ],
      "execution_count": 90,
      "outputs": [
        {
          "output_type": "execute_result",
          "data": {
            "text/plain": [
              "array([1., 2., 3., 4., 5.])"
            ]
          },
          "metadata": {
            "tags": []
          },
          "execution_count": 90
        }
      ]
    },
    {
      "cell_type": "code",
      "metadata": {
        "id": "RVtb0S15lSdw",
        "colab_type": "code",
        "outputId": "244f272b-1346-48ef-cc8a-8b31e5a1e2c5",
        "colab": {
          "base_uri": "https://localhost:8080/",
          "height": 35
        }
      },
      "source": [
        "x**2"
      ],
      "execution_count": 91,
      "outputs": [
        {
          "output_type": "execute_result",
          "data": {
            "text/plain": [
              "16"
            ]
          },
          "metadata": {
            "tags": []
          },
          "execution_count": 91
        }
      ]
    },
    {
      "cell_type": "code",
      "metadata": {
        "id": "Mikmm_CllVjh",
        "colab_type": "code",
        "outputId": "1e896d14-d91b-4b5e-e2f9-316775ae4aeb",
        "colab": {
          "base_uri": "https://localhost:8080/",
          "height": 35
        }
      },
      "source": [
        "squares_vec**2"
      ],
      "execution_count": 92,
      "outputs": [
        {
          "output_type": "execute_result",
          "data": {
            "text/plain": [
              "array([  1,  16,  81, 256, 625])"
            ]
          },
          "metadata": {
            "tags": []
          },
          "execution_count": 92
        }
      ]
    },
    {
      "cell_type": "code",
      "metadata": {
        "id": "dpAkaMWflZmo",
        "colab_type": "code",
        "colab": {}
      },
      "source": [
        "def rub2usd(x):\n",
        "  return x / 63.54\n"
      ],
      "execution_count": 0,
      "outputs": []
    },
    {
      "cell_type": "code",
      "metadata": {
        "id": "M4flF8d7le9C",
        "colab_type": "code",
        "outputId": "0217e2d6-f320-46f5-ef4b-2cb8a3aee49b",
        "colab": {
          "base_uri": "https://localhost:8080/",
          "height": 35
        }
      },
      "source": [
        "rub2usd(2000)"
      ],
      "execution_count": 94,
      "outputs": [
        {
          "output_type": "execute_result",
          "data": {
            "text/plain": [
              "31.47623544224111"
            ]
          },
          "metadata": {
            "tags": []
          },
          "execution_count": 94
        }
      ]
    },
    {
      "cell_type": "code",
      "metadata": {
        "id": "Ylflv5Q4lgIN",
        "colab_type": "code",
        "colab": {}
      },
      "source": [
        "items = np.array([2000,2500,3534,3000,3200])"
      ],
      "execution_count": 0,
      "outputs": []
    },
    {
      "cell_type": "code",
      "metadata": {
        "id": "sXKxGKfllnmd",
        "colab_type": "code",
        "outputId": "d8b4d867-388d-4068-9339-a4f2db0a95d4",
        "colab": {
          "base_uri": "https://localhost:8080/",
          "height": 35
        }
      },
      "source": [
        "rub2usd(items)"
      ],
      "execution_count": 96,
      "outputs": [
        {
          "output_type": "execute_result",
          "data": {
            "text/plain": [
              "array([31.47623544, 39.3452943 , 55.61850803, 47.21435316, 50.36197671])"
            ]
          },
          "metadata": {
            "tags": []
          },
          "execution_count": 96
        }
      ]
    },
    {
      "cell_type": "code",
      "metadata": {
        "id": "bqm01qaKlp4w",
        "colab_type": "code",
        "colab": {}
      },
      "source": [
        "shop = np.array([[6500,3000,3500,4000,2000],\n",
        "                  [5200,3000,1500,4000,3000]])"
      ],
      "execution_count": 0,
      "outputs": []
    },
    {
      "cell_type": "code",
      "metadata": {
        "id": "TFNf9wzolvWJ",
        "colab_type": "code",
        "outputId": "45d2d52b-1099-4fc7-e6d6-bf7224c4f011",
        "colab": {
          "base_uri": "https://localhost:8080/",
          "height": 89
        }
      },
      "source": [
        "rub2usd(shop)"
      ],
      "execution_count": 98,
      "outputs": [
        {
          "output_type": "execute_result",
          "data": {
            "text/plain": [
              "array([[102.29776519,  47.21435316,  55.08341202,  62.95247088,\n",
              "         31.47623544],\n",
              "       [ 81.83821215,  47.21435316,  23.60717658,  62.95247088,\n",
              "         47.21435316]])"
            ]
          },
          "metadata": {
            "tags": []
          },
          "execution_count": 98
        }
      ]
    },
    {
      "cell_type": "markdown",
      "metadata": {
        "id": "xFB7p8pYKmjO",
        "colab_type": "text"
      },
      "source": [
        "# Графики функций"
      ]
    },
    {
      "cell_type": "code",
      "metadata": {
        "id": "FqaoEc0mLe6u",
        "colab_type": "code",
        "colab": {}
      },
      "source": [
        "import matplotlib.pyplot as plt"
      ],
      "execution_count": 0,
      "outputs": []
    },
    {
      "cell_type": "code",
      "metadata": {
        "id": "B7uJaf3uLhMX",
        "colab_type": "code",
        "colab": {}
      },
      "source": [
        "inflation = np.array([8.78, 6.1, 6.58, 6.45, 11.36, 12.91, 5.38, 2.52, 4.27, 2.68])\n",
        "years = np.arange(2010, 2020)"
      ],
      "execution_count": 0,
      "outputs": []
    },
    {
      "cell_type": "code",
      "metadata": {
        "id": "JTMsT-u0ezl5",
        "colab_type": "code",
        "outputId": "67c96d76-d616-4fdf-ba96-d92120356954",
        "colab": {
          "base_uri": "https://localhost:8080/",
          "height": 35
        }
      },
      "source": [
        "years"
      ],
      "execution_count": 101,
      "outputs": [
        {
          "output_type": "execute_result",
          "data": {
            "text/plain": [
              "array([2010, 2011, 2012, 2013, 2014, 2015, 2016, 2017, 2018, 2019])"
            ]
          },
          "metadata": {
            "tags": []
          },
          "execution_count": 101
        }
      ]
    },
    {
      "cell_type": "code",
      "metadata": {
        "id": "xH9Cs4yfa3MD",
        "colab_type": "code",
        "outputId": "bab44a81-8c67-4b8e-cae0-906fe4f81977",
        "colab": {
          "base_uri": "https://localhost:8080/",
          "height": 265
        }
      },
      "source": [
        "plt.figure(figsize=(6, 4))\n",
        "plt.scatter(years, inflation, label='inflation', marker='o')\n",
        "plt.legend()\n",
        "plt.show()"
      ],
      "execution_count": 102,
      "outputs": [
        {
          "output_type": "display_data",
          "data": {
            "image/png": "[encoded data removed]",
            "text/plain": [
              "<Figure size 432x288 with 1 Axes>"
            ]
          },
          "metadata": {
            "tags": []
          }
        }
      ]
    },
    {
      "cell_type": "code",
      "metadata": {
        "id": "tK5MGQmqe6no",
        "colab_type": "code",
        "outputId": "5fde8a21-d096-4bf2-ef25-b4e28472cdcf",
        "colab": {
          "base_uri": "https://localhost:8080/",
          "height": 265
        }
      },
      "source": [
        "plt.figure(figsize=(6, 4))\n",
        "plt.plot(years, inflation)\n",
        "plt.show()"
      ],
      "execution_count": 103,
      "outputs": [
        {
          "output_type": "display_data",
          "data": {
            "image/png": "[encoded data removed]",
            "text/plain": [
              "<Figure size 432x288 with 1 Axes>"
            ]
          },
          "metadata": {
            "tags": []
          }
        }
      ]
    },
    {
      "cell_type": "code",
      "metadata": {
        "id": "0zYWHYGUfvSt",
        "colab_type": "code",
        "outputId": "6bbd55c5-9a9f-46bd-dbb1-868817548437",
        "colab": {
          "base_uri": "https://localhost:8080/",
          "height": 279
        }
      },
      "source": [
        "plt.figure(figsize=(6, 4))\n",
        "plt.plot(years, inflation, marker='o', color='black')\n",
        "plt.xlabel('Год')\n",
        "plt.ylabel('Инфляция')\n",
        "plt.show()"
      ],
      "execution_count": 104,
      "outputs": [
        {
          "output_type": "display_data",
          "data": {
            "image/png": "[encoded data removed]",
            "text/plain": [
              "<Figure size 432x288 with 1 Axes>"
            ]
          },
          "metadata": {
            "tags": []
          }
        }
      ]
    },
    {
      "cell_type": "code",
      "metadata": {
        "id": "HLtnSjj0KW7r",
        "colab_type": "code",
        "colab": {}
      },
      "source": [
        "day_temp = np.array([-2, -5, -7, -8, -8, -10, -10, -9, -8, -7, -6, -5, -3, -3, -4, -5, -7, -8, -8,\n",
        "                     -8, -9, -9, -8, -8, -9, -10, -8, -7, -7, -7, -6])\n",
        "night_temp = np.array([-6, -6, -9, -9, -11, -11, -11, -9, -9, -8, -7, -5, -4, -5, -6, -7, -9, -10, \n",
        "                       -10, -10, -11, -9, -9, -10, -12, -11, -9, -9, -9, -8, -8])"
      ],
      "execution_count": 0,
      "outputs": []
    },
    {
      "cell_type": "code",
      "metadata": {
        "id": "BD-Zk3k0N2yB",
        "colab_type": "code",
        "outputId": "af59fcf7-765e-4579-fa03-cabc591fddb2",
        "colab": {
          "base_uri": "https://localhost:8080/",
          "height": 279
        }
      },
      "source": [
        "plt.figure(figsize=(10, 4))\n",
        "plt.plot(day_temp, color='red', label='дневная температура')\n",
        "plt.plot(night_temp, color='blue', label='ночная температура')\n",
        "plt.fill_between(x=np.arange(31), y1=night_temp, y2=day_temp, alpha=0.5)\n",
        "plt.xlabel('День января')\n",
        "plt.ylabel('Температура')\n",
        "plt.legend()\n",
        "plt.show()"
      ],
      "execution_count": 106,
      "outputs": [
        {
          "output_type": "display_data",
          "data": {
            "image/png": "[encoded data removed]",
            "text/plain": [
              "<Figure size 720x288 with 1 Axes>"
            ]
          },
          "metadata": {
            "tags": []
          }
        }
      ]
    },
    {
      "cell_type": "code",
      "metadata": {
        "id": "yfVML0NsQhgh",
        "colab_type": "code",
        "colab": {}
      },
      "source": [
        "x = np.arange(-2*np.pi, 2*np.pi, 0.01)"
      ],
      "execution_count": 0,
      "outputs": []
    },
    {
      "cell_type": "code",
      "metadata": {
        "id": "kJF2t6NHQlxg",
        "colab_type": "code",
        "outputId": "0bf8a691-a5c5-4893-916d-f280d6095a24",
        "colab": {
          "base_uri": "https://localhost:8080/",
          "height": 279
        }
      },
      "source": [
        "plt.figure(figsize=(10, 4))\n",
        "plt.plot(x, np.sin(x), color='red', label='$\\sin{x}$')\n",
        "plt.plot(x, np.cos(x), color='blue', label='$\\cos{x}$')\n",
        "plt.plot(x, np.cos(x + np.pi/2), color='green', dashes=[2, 1], label='$\\cos{(x+\\\\frac{\\pi}{2})}$')\n",
        "plt.xlabel('x')\n",
        "plt.legend(loc='upper left')\n",
        "plt.show()"
      ],
      "execution_count": 108,
      "outputs": [
        {
          "output_type": "display_data",
          "data": {
            "image/png": "[encoded data removed]",
            "text/plain": [
              "<Figure size 720x288 with 1 Axes>"
            ]
          },
          "metadata": {
            "tags": []
          }
        }
      ]
    },
    {
      "cell_type": "code",
      "metadata": {
        "id": "hqpw1GuYSxER",
        "colab_type": "code",
        "outputId": "ba5405a4-ca68-42cb-b99e-b0dbcaee5fa8",
        "colab": {
          "base_uri": "https://localhost:8080/",
          "height": 265
        }
      },
      "source": [
        "x = np.arange(0, 2, 0.01)\n",
        "\n",
        "plt.figure(figsize=(6,4))\n",
        "plt.plot(x, x, x, x**2, x, x**3)\n",
        "plt.show()"
      ],
      "execution_count": 109,
      "outputs": [
        {
          "output_type": "display_data",
          "data": {
            "image/png": "[encoded data removed]",
            "text/plain": [
              "<Figure size 432x288 with 1 Axes>"
            ]
          },
          "metadata": {
            "tags": []
          }
        }
      ]
    },
    {
      "cell_type": "markdown",
      "metadata": {
        "id": "NVBQupIVtoL_",
        "colab_type": "text"
      },
      "source": [
        "# Диаграммы\n"
      ]
    },
    {
      "cell_type": "code",
      "metadata": {
        "id": "BK3IYmNzLpq3",
        "colab_type": "code",
        "colab": {}
      },
      "source": [
        "marks = np.array([3,3,4,5,5,4,2,4,4,4,4,5])"
      ],
      "execution_count": 0,
      "outputs": []
    },
    {
      "cell_type": "code",
      "metadata": {
        "id": "sezFQQq2g-Td",
        "colab_type": "code",
        "outputId": "dcb41d16-812c-4f17-dc72-7702c9cc929d",
        "colab": {
          "base_uri": "https://localhost:8080/",
          "height": 265
        }
      },
      "source": [
        "plt.figure(figsize=(6, 4))\n",
        "plt.hist(marks, label='оценки Пети Иванова', alpha=0.5)\n",
        "plt.legend(loc='upper left')\n",
        "plt.show()"
      ],
      "execution_count": 111,
      "outputs": [
        {
          "output_type": "display_data",
          "data": {
            "image/png": "[encoded data removed]",
            "text/plain": [
              "<Figure size 432x288 with 1 Axes>"
            ]
          },
          "metadata": {
            "tags": []
          }
        }
      ]
    },
    {
      "cell_type": "code",
      "metadata": {
        "id": "S_eTfUHDj1rR",
        "colab_type": "code",
        "outputId": "ac7a055f-5ebb-4e7a-d5f1-b0d2455a4bc1",
        "colab": {
          "base_uri": "https://localhost:8080/",
          "height": 265
        }
      },
      "source": [
        "plt.figure(figsize=(6, 4))\n",
        "\n",
        "x = np.random.normal(1, 2, 5000)\n",
        "y = np.random.normal(-1, 3, 5000)\n",
        "plt.hist([x, y], bins=20, label=['$N(1,2)$', '$N(-1,3)$'])\n",
        "plt.legend(loc='upper right')\n",
        "plt.show()"
      ],
      "execution_count": 112,
      "outputs": [
        {
          "output_type": "display_data",
          "data": {
            "image/png": "[encoded data removed]",
            "text/plain": [
              "<Figure size 432x288 with 1 Axes>"
            ]
          },
          "metadata": {
            "tags": []
          }
        }
      ]
    },
    {
      "cell_type": "markdown",
      "metadata": {
        "id": "jDkss1Nq_ZEF",
        "colab_type": "text"
      },
      "source": [
        "# Теория вероятностей"
      ]
    },
    {
      "cell_type": "markdown",
      "metadata": {
        "id": "RvZqP22xSIsN",
        "colab_type": "text"
      },
      "source": [
        "Будем считать случайное испытание экспериментом по измерению некоторой величины, который можно повторять много раз при фиксированных\n",
        "условиях, получая при этом случайные результаты.\n",
        "Для изучения берется множество\n",
        "значений, которое может принимать результат такого эксперимента, и распределение вероятности\n",
        "по этому множеству. Распределение вероятности можно понимать как распределение относительных частот различных результатов в серии повторных\n",
        "экспериментов.\n",
        "Определим случайную\n",
        "величину как пару из (1) множества значений и (2) распределения вероятности по этому множеству."
      ]
    },
    {
      "cell_type": "markdown",
      "metadata": {
        "id": "V-nv0-gE_aEd",
        "colab_type": "text"
      },
      "source": [
        "## Основные свойства вероятности:\n",
        "\n",
        "1) $0 \\leq P(A) \\leq 1$\n",
        "\n",
        "2) $P(∅) = 0$\n",
        "\n",
        "3) $P(\\overline{A}) + P(A) = 1$"
      ]
    },
    {
      "cell_type": "markdown",
      "metadata": {
        "id": "cyMq1-OfU_Hx",
        "colab_type": "text"
      },
      "source": [
        "\n",
        "Для пары событий возможны следующие отношения:"
      ]
    },
    {
      "cell_type": "markdown",
      "metadata": {
        "id": "f5f7zCq3U_Oy",
        "colab_type": "text"
      },
      "source": [
        "### Вложенность: $A \\subseteq B$\n",
        "\n",
        "Пример: $A$ - на игральном кубике выпала 6-ка, $B$ - на игральном кубике выпало четное число\n",
        "\n",
        "Тогда событие $A$ вложено в событие $B$\n",
        "\n",
        "$A \\subseteq B \\implies P(A) \\leq P(B)$"
      ]
    },
    {
      "cell_type": "markdown",
      "metadata": {
        "id": "7le2bp2lU_TB",
        "colab_type": "text"
      },
      "source": [
        "### Произведение событий $AB$ и сумма событий $A+B$.\n",
        "\n",
        "Пример: $A$ - на игральном кубике выпало четное число, $B$ - на игральном кубике выпало число большее 3.\n",
        "\n",
        "$AB$ - пересечение событий, то есть произошло каждое из этих событий. $AB$ = на кубике выпали числа: 4, 6.\n",
        "\n",
        "$A+B$ - обединение событий, произошло хотя бы одно из данных событий. $A+B$ = на кубике выпали: четные числа или 5-ка\n",
        "\n",
        "$P(A+B) = P(A) + P(B) - P(AB)$"
      ]
    },
    {
      "cell_type": "markdown",
      "metadata": {
        "id": "nxNmq-bbXb-K",
        "colab_type": "text"
      },
      "source": [
        "### Дополнение: $B\\setminus A$\n",
        "\n",
        "Происходит событие B, но не происходит событие A.\n",
        "\n",
        "$A$ - на игральном кубике выпало четное число, $B$ - на игральном кубике выпало число большее 3.\n",
        "\n",
        "$B\\setminus A$ = на игральном кубике выпало число 5.\n",
        "\n",
        "\n",
        "$P(B\\setminus A) = P(B) - P(AB)$, есл $A$ полностью лежит в $B$, то формула упрощается: $P(B\\setminus A) = P(B) - P(A)$\n",
        "\n",
        "\n",
        "\n"
      ]
    },
    {
      "cell_type": "markdown",
      "metadata": {
        "id": "CXtjLmd5U_XV",
        "colab_type": "text"
      },
      "source": [
        "### Независимость событий $A, B$\n",
        "\n",
        "События $A, B$ являются независимыми, если вероятность их пересечения равна\n",
        "произведению вероятностей компонент: $P(AB) = P(A)P(B)$\n",
        "\n",
        "Пример: A - на кубике выпало четное число, B - на кубике выпало число большее 3, AB - на кубике выпало число 4 или 6.\n",
        "\n",
        "$P(A) = \\frac{1}{2}, P(B) = \\frac{1}{2}, P(AB) = \\frac{1}{3}$ - события зависимы"
      ]
    },
    {
      "cell_type": "markdown",
      "metadata": {
        "id": "XW7AgXG3U_fq",
        "colab_type": "text"
      },
      "source": [
        "### Условная вероятность\n",
        "\n",
        "$A$ - на кубике выпала цифра 5, $B$ - на кубике выпало числе большее 3. Если известно, что событие $B$ произошло, то вероятность события $A$ повышается. Условная вероятность события $A$ при условии, что произошло событие $B$, определяется следующим образом: $P(A|B) = \\frac{P(AB)}{P(B)}$\n",
        "\n",
        "$P(B) = \\frac{1}{2}, P(AB) = \\frac{1}{6} \\implies P(A|B) = \\frac{1}{3}$\n"
      ]
    },
    {
      "cell_type": "markdown",
      "metadata": {
        "id": "xDJjaYebU_kj",
        "colab_type": "text"
      },
      "source": [
        "### Формула полной вероятности:\n",
        "\n",
        "$P(A) = P(A|B)P(B) + P(A| \\overline{B})P(\\overline{B})$"
      ]
    },
    {
      "cell_type": "markdown",
      "metadata": {
        "id": "Lx02JIs14JdJ",
        "colab_type": "text"
      },
      "source": [
        "### Формула Байеса\n",
        "\n",
        "$P(A|B) = \\frac{P(A)P(B|A)}{P(B)}$"
      ]
    },
    {
      "cell_type": "markdown",
      "metadata": {
        "id": "rUBsVVcF4ahg",
        "colab_type": "text"
      },
      "source": [
        "## Случайные величины, виды распределений"
      ]
    },
    {
      "cell_type": "markdown",
      "metadata": {
        "id": "2SqXVbje6jdu",
        "colab_type": "text"
      },
      "source": [
        "\n",
        "В испытании с подбрасыванием кубика возможны шесть исходов. Эти исходы\n",
        "можно пронумеровать 1, 2, 3, 4, 5, 6 согласно значению, выпавшему на кубике. Данному множеству исходов ставится в соответствие вектор вероятности:"
      ]
    },
    {
      "cell_type": "markdown",
      "metadata": {
        "id": "YfOvxE1v6-ma",
        "colab_type": "text"
      },
      "source": [
        "$\\{1,2,3,4,5,6\\} \\implies \\begin{pmatrix}\n",
        "  p_1 \\\\\n",
        "  p_2 \\\\\n",
        "  p_3 \\\\\n",
        "  p_4 \\\\\n",
        "  p_5 \\\\\n",
        "  p_6 \\end{pmatrix}, p_i \\geq 0, \\sum_{i=1}^{6}{p_i} = 1$"
      ]
    },
    {
      "cell_type": "markdown",
      "metadata": {
        "id": "qGC02ubu-239",
        "colab_type": "text"
      },
      "source": [
        "\n",
        "Дискретная случайная величина X принимает счетное\n",
        "множество значений $A = \\{a_1, a_2, a_3, . . . \\}$ с вероятностями $p_1, p_2, p_3, . . .$\n",
        "\n",
        "$p_i \\geq 0, \\sum_{i=1}^{\\infty}{p_i} = 1$\n"
      ]
    },
    {
      "cell_type": "markdown",
      "metadata": {
        "id": "bHReK78fAQU-",
        "colab_type": "text"
      },
      "source": [
        "Функция вероятности имеет вид: $P(X = a_i) = p_i$\n"
      ]
    },
    {
      "cell_type": "markdown",
      "metadata": {
        "id": "V7n_ivGrAQl_",
        "colab_type": "text"
      },
      "source": [
        "Рассмотрим дискретную случайную величину с двумя исходами. Примером в данном случае является подбрасывание монеты. Можно обозначить выпадение решки за 1, а\n",
        "выпадение орла — за 0. Пусть вероятность «успеха» равна $p:\n",
        "P(X = 1) = p, P(X = 0) = 1 - p$.\n",
        "\n",
        "Так устроена бернуллиевская случайная величина: $$X \\sim Ber(p)$$"
      ]
    },
    {
      "cell_type": "markdown",
      "metadata": {
        "colab_type": "text",
        "id": "w86v6GJ8B68M"
      },
      "source": [
        "Рассмотрим такуже модель, только теперь мы подбрасываем монетку не один раз, а n раз.\n",
        "\n",
        "Вероятность выпадения решки равна $p$, вероятность выпадения орла равна $1-p$. \n",
        "\n",
        "Случайная величина $X$  - число выпаданий решки. В силу независимости попыток: $P(X = n) = p^n$\n",
        " \n",
        "В общем случае: $P(X=k) = C_n^kp^k(1-p)^{n-k}, k = 0,1,2,...,n$"
      ]
    },
    {
      "cell_type": "markdown",
      "metadata": {
        "id": "KLFsCZVUCIwb",
        "colab_type": "text"
      },
      "source": [
        "Такая случайная величина X называется биномиальной.\n",
        "$$X \\sim Bin(n, p)$$"
      ]
    },
    {
      "cell_type": "markdown",
      "metadata": {
        "id": "nJYq0qDicyop",
        "colab_type": "text"
      },
      "source": [
        "$Ber(p) = Bin(1, p)$"
      ]
    },
    {
      "cell_type": "code",
      "metadata": {
        "id": "Yb-DvHEBECIm",
        "colab_type": "code",
        "colab": {}
      },
      "source": [
        "n, p = 1, 0.5\n",
        "X_Ber = np.random.binomial(n, p, 10000)"
      ],
      "execution_count": 0,
      "outputs": []
    },
    {
      "cell_type": "code",
      "metadata": {
        "id": "S2YRDA4Dhrb2",
        "colab_type": "code",
        "outputId": "706f8435-40eb-424b-b323-a1a90babf1a6",
        "colab": {
          "base_uri": "https://localhost:8080/",
          "height": 265
        }
      },
      "source": [
        "plt.figure(figsize=(6, 4))\n",
        "\n",
        "plt.hist([X_Ber], bins=30, label=['$Ber(0.5)$'])\n",
        "plt.legend(loc='upper right')\n",
        "plt.show()"
      ],
      "execution_count": 114,
      "outputs": [
        {
          "output_type": "display_data",
          "data": {
            "image/png": "[encoded data removed]",
            "text/plain": [
              "<Figure size 432x288 with 1 Axes>"
            ]
          },
          "metadata": {
            "tags": []
          }
        }
      ]
    },
    {
      "cell_type": "markdown",
      "metadata": {
        "id": "HgeubADBIvcD",
        "colab_type": "text"
      },
      "source": [
        "Непрерывные случайные величины могут принимать несчетное число значений и задаются по другому:"
      ]
    },
    {
      "cell_type": "markdown",
      "metadata": {
        "id": "m8qYsbtODjWU",
        "colab_type": "text"
      },
      "source": [
        "Первый способ определения таких величин — с помощью функции распределения: $F(x) = P(X \\leq x)$\n",
        "\n",
        "\n",
        "\n",
        "\n"
      ]
    },
    {
      "cell_type": "markdown",
      "metadata": {
        "id": "m2HpakhDKGit",
        "colab_type": "text"
      },
      "source": [
        "\n",
        "Второй способ определения непрерывных случайных величин — с помощью плотности распределения:\n",
        "\n",
        "$f(x): \\int_{a}^{b}f(x)dx = P(a \\leq X \\leq b)$\n",
        "\n",
        "Плотность связана с функцией распределения следующим образом:\n",
        "\n",
        "$F(x) = \\int_{-\\infty}^{x}f(u)du$\n",
        "\n",
        "Для непрерывной случайной величины верно равенство:\n",
        "\n",
        "$\\int_{-\\infty}^{\\infty}f(u)du = 1$\n"
      ]
    },
    {
      "cell_type": "markdown",
      "metadata": {
        "id": "wX_1I6C7eEE0",
        "colab_type": "text"
      },
      "source": [
        "Одним из самых важных примеров непрерывной случаной величины является нормальная случайная величина. \n",
        "\n",
        "К примеру, Иван любит играть в дартс и почти всегда попадает в десятку, однакого иногда он может промахиваться. Точное место попадания его дротика $X$ моделируется с помощью нормального (Гауссового) распределения:\n",
        "\n",
        "$$X ∼ N(\\mu, \\sigma)$$\n",
        "\n",
        "\n",
        "Параметр $\\mu$ отвечает за среднее место попадания Ивана, а параметр $\\sigma$ отвечает за разброс бросков вокруг среднего значения. "
      ]
    },
    {
      "cell_type": "markdown",
      "metadata": {
        "id": "QGJfPw-mAogD",
        "colab_type": "text"
      },
      "source": [
        "Функция плотности нормального распределения имеет вид: \n",
        "\n",
        "$f(x) = \\frac{1}{\\sqrt{2\\pi \\sigma^2}} exp(-\\frac{(x-\\mu)^2}{2\\sigma^2})$"
      ]
    },
    {
      "cell_type": "code",
      "metadata": {
        "id": "xZuck69-BD_h",
        "colab_type": "code",
        "colab": {}
      },
      "source": [
        "mu, sigma = 0.0, 1.0\n",
        "X_Norm = np.random.normal(mu, sigma, 10000)"
      ],
      "execution_count": 0,
      "outputs": []
    },
    {
      "cell_type": "code",
      "metadata": {
        "id": "ytW5uqrgENwt",
        "colab_type": "code",
        "colab": {
          "base_uri": "https://localhost:8080/",
          "height": 35
        },
        "outputId": "c92c6dc6-665e-43c1-ce43-03c05da6ed51"
      },
      "source": [
        "np.mean(X_Norm)"
      ],
      "execution_count": 116,
      "outputs": [
        {
          "output_type": "execute_result",
          "data": {
            "text/plain": [
              "-0.003913665581754368"
            ]
          },
          "metadata": {
            "tags": []
          },
          "execution_count": 116
        }
      ]
    },
    {
      "cell_type": "code",
      "metadata": {
        "id": "qL-aJ3geEVXO",
        "colab_type": "code",
        "colab": {
          "base_uri": "https://localhost:8080/",
          "height": 35
        },
        "outputId": "f5f52a89-63c9-40a6-875c-acfa44bf7842"
      },
      "source": [
        "np.std(X_Norm)"
      ],
      "execution_count": 117,
      "outputs": [
        {
          "output_type": "execute_result",
          "data": {
            "text/plain": [
              "1.0012354894288082"
            ]
          },
          "metadata": {
            "tags": []
          },
          "execution_count": 117
        }
      ]
    },
    {
      "cell_type": "code",
      "metadata": {
        "id": "-wyz1OKmBfix",
        "colab_type": "code",
        "colab": {
          "base_uri": "https://localhost:8080/",
          "height": 265
        },
        "outputId": "4e0b7979-8cf4-4e52-cf1b-d8002c3f922e"
      },
      "source": [
        "plt.figure(figsize=(6, 4))\n",
        "\n",
        "plt.hist([X_Norm], bins=30, label=['$N(0,1)$'], density=True)\n",
        "plt.legend(loc='upper right')\n",
        "plt.show()"
      ],
      "execution_count": 118,
      "outputs": [
        {
          "output_type": "display_data",
          "data": {
            "image/png": "[encoded data removed]",
            "text/plain": [
              "<Figure size 432x288 with 1 Axes>"
            ]
          },
          "metadata": {
            "tags": []
          }
        }
      ]
    },
    {
      "cell_type": "code",
      "metadata": {
        "id": "ZCtdeglCCM-u",
        "colab_type": "code",
        "colab": {}
      },
      "source": [
        "def norm_df(x, mu, sigma):\n",
        "  return 1/(2*np.pi*sigma**2)**(0.5) * np.exp(-((x-mu)**2)/(2*sigma**2))"
      ],
      "execution_count": 0,
      "outputs": []
    },
    {
      "cell_type": "code",
      "metadata": {
        "id": "W67QVZ7WCpJi",
        "colab_type": "code",
        "colab": {}
      },
      "source": [
        "standart_df = norm_df(X_Norm, 0, 1)"
      ],
      "execution_count": 0,
      "outputs": []
    },
    {
      "cell_type": "code",
      "metadata": {
        "id": "K59l-9QEDjfU",
        "colab_type": "code",
        "colab": {
          "base_uri": "https://localhost:8080/",
          "height": 265
        },
        "outputId": "75bc8406-e711-497c-ba5a-c25832363a41"
      },
      "source": [
        "plt.scatter(X_Norm, standart_df, s=0.5)\n",
        "plt.show()"
      ],
      "execution_count": 121,
      "outputs": [
        {
          "output_type": "display_data",
          "data": {
            "image/png": "[encoded data removed]",
            "text/plain": [
              "<Figure size 432x288 with 1 Axes>"
            ]
          },
          "metadata": {
            "tags": []
          }
        }
      ]
    },
    {
      "cell_type": "markdown",
      "metadata": {
        "id": "M1kmJhTKZfnL",
        "colab_type": "text"
      },
      "source": [
        "# Pandas"
      ]
    },
    {
      "cell_type": "code",
      "metadata": {
        "id": "gANZbkZqKVBQ",
        "colab_type": "code",
        "colab": {}
      },
      "source": [
        "import pandas as pd\n",
        "from sklearn.datasets import load_iris"
      ],
      "execution_count": 0,
      "outputs": []
    },
    {
      "cell_type": "code",
      "metadata": {
        "id": "oIy3S_XYKcAl",
        "colab_type": "code",
        "colab": {}
      },
      "source": [
        "data = load_iris()"
      ],
      "execution_count": 0,
      "outputs": []
    },
    {
      "cell_type": "code",
      "metadata": {
        "id": "KHeThhYUQtes",
        "colab_type": "code",
        "outputId": "7d11982e-8bc2-4398-d5f4-545847030a42",
        "colab": {
          "base_uri": "https://localhost:8080/",
          "height": 35
        }
      },
      "source": [
        "data.keys()"
      ],
      "execution_count": 124,
      "outputs": [
        {
          "output_type": "execute_result",
          "data": {
            "text/plain": [
              "dict_keys(['data', 'target', 'target_names', 'DESCR', 'feature_names', 'filename'])"
            ]
          },
          "metadata": {
            "tags": []
          },
          "execution_count": 124
        }
      ]
    },
    {
      "cell_type": "code",
      "metadata": {
        "id": "ywwSKaSEKgFj",
        "colab_type": "code",
        "colab": {}
      },
      "source": [
        "df = pd.DataFrame(data['data'], columns=data['feature_names'])\n",
        "y = pd.DataFrame(data['target'])"
      ],
      "execution_count": 0,
      "outputs": []
    },
    {
      "cell_type": "code",
      "metadata": {
        "id": "wNHOL0dFK36i",
        "colab_type": "code",
        "outputId": "4a0b7329-89ca-4de7-eb9e-633c197bfd4c",
        "colab": {
          "base_uri": "https://localhost:8080/",
          "height": 35
        }
      },
      "source": [
        "data['target_names']"
      ],
      "execution_count": 126,
      "outputs": [
        {
          "output_type": "execute_result",
          "data": {
            "text/plain": [
              "array(['setosa', 'versicolor', 'virginica'], dtype='<U10')"
            ]
          },
          "metadata": {
            "tags": []
          },
          "execution_count": 126
        }
      ]
    },
    {
      "cell_type": "code",
      "metadata": {
        "id": "XpKzts3AYmWC",
        "colab_type": "code",
        "outputId": "42eb8bd3-e2d1-4761-8ff5-f04c8cb7f482",
        "colab": {
          "base_uri": "https://localhost:8080/",
          "height": 204
        }
      },
      "source": [
        "df.head()"
      ],
      "execution_count": 127,
      "outputs": [
        {
          "output_type": "execute_result",
          "data": {
            "text/html": [
              "<div>\n",
              "<style scoped>\n",
              "    .dataframe tbody tr th:only-of-type {\n",
              "        vertical-align: middle;\n",
              "    }\n",
              "\n",
              "    .dataframe tbody tr th {\n",
              "        vertical-align: top;\n",
              "    }\n",
              "\n",
              "    .dataframe thead th {\n",
              "        text-align: right;\n",
              "    }\n",
              "</style>\n",
              "<table border=\"1\" class=\"dataframe\">\n",
              "  <thead>\n",
              "    <tr style=\"text-align: right;\">\n",
              "      <th></th>\n",
              "      <th>sepal length (cm)</th>\n",
              "      <th>sepal width (cm)</th>\n",
              "      <th>petal length (cm)</th>\n",
              "      <th>petal width (cm)</th>\n",
              "    </tr>\n",
              "  </thead>\n",
              "  <tbody>\n",
              "    <tr>\n",
              "      <th>0</th>\n",
              "      <td>5.1</td>\n",
              "      <td>3.5</td>\n",
              "      <td>1.4</td>\n",
              "      <td>0.2</td>\n",
              "    </tr>\n",
              "    <tr>\n",
              "      <th>1</th>\n",
              "      <td>4.9</td>\n",
              "      <td>3.0</td>\n",
              "      <td>1.4</td>\n",
              "      <td>0.2</td>\n",
              "    </tr>\n",
              "    <tr>\n",
              "      <th>2</th>\n",
              "      <td>4.7</td>\n",
              "      <td>3.2</td>\n",
              "      <td>1.3</td>\n",
              "      <td>0.2</td>\n",
              "    </tr>\n",
              "    <tr>\n",
              "      <th>3</th>\n",
              "      <td>4.6</td>\n",
              "      <td>3.1</td>\n",
              "      <td>1.5</td>\n",
              "      <td>0.2</td>\n",
              "    </tr>\n",
              "    <tr>\n",
              "      <th>4</th>\n",
              "      <td>5.0</td>\n",
              "      <td>3.6</td>\n",
              "      <td>1.4</td>\n",
              "      <td>0.2</td>\n",
              "    </tr>\n",
              "  </tbody>\n",
              "</table>\n",
              "</div>"
            ],
            "text/plain": [
              "   sepal length (cm)  sepal width (cm)  petal length (cm)  petal width (cm)\n",
              "0                5.1               3.5                1.4               0.2\n",
              "1                4.9               3.0                1.4               0.2\n",
              "2                4.7               3.2                1.3               0.2\n",
              "3                4.6               3.1                1.5               0.2\n",
              "4                5.0               3.6                1.4               0.2"
            ]
          },
          "metadata": {
            "tags": []
          },
          "execution_count": 127
        }
      ]
    },
    {
      "cell_type": "code",
      "metadata": {
        "id": "ougO-hMVe-d5",
        "colab_type": "code",
        "outputId": "d810724c-639f-41be-8c10-bf9ff010bf78",
        "colab": {
          "base_uri": "https://localhost:8080/",
          "height": 35
        }
      },
      "source": [
        "df.shape"
      ],
      "execution_count": 128,
      "outputs": [
        {
          "output_type": "execute_result",
          "data": {
            "text/plain": [
              "(150, 4)"
            ]
          },
          "metadata": {
            "tags": []
          },
          "execution_count": 128
        }
      ]
    },
    {
      "cell_type": "code",
      "metadata": {
        "id": "n_FnX17XfAfj",
        "colab_type": "code",
        "outputId": "1a7317ef-b7a3-43d4-80a2-0f37094eaa90",
        "colab": {
          "base_uri": "https://localhost:8080/",
          "height": 179
        }
      },
      "source": [
        "df.info()"
      ],
      "execution_count": 129,
      "outputs": [
        {
          "output_type": "stream",
          "text": [
            "<class 'pandas.core.frame.DataFrame'>\n",
            "RangeIndex: 150 entries, 0 to 149\n",
            "Data columns (total 4 columns):\n",
            "sepal length (cm)    150 non-null float64\n",
            "sepal width (cm)     150 non-null float64\n",
            "petal length (cm)    150 non-null float64\n",
            "petal width (cm)     150 non-null float64\n",
            "dtypes: float64(4)\n",
            "memory usage: 4.8 KB\n"
          ],
          "name": "stdout"
        }
      ]
    },
    {
      "cell_type": "code",
      "metadata": {
        "id": "F6Z8L8E1fCPu",
        "colab_type": "code",
        "outputId": "cfa68809-0478-4831-85cf-1430b1355b23",
        "colab": {
          "base_uri": "https://localhost:8080/",
          "height": 297
        }
      },
      "source": [
        "df.describe()"
      ],
      "execution_count": 130,
      "outputs": [
        {
          "output_type": "execute_result",
          "data": {
            "text/html": [
              "<div>\n",
              "<style scoped>\n",
              "    .dataframe tbody tr th:only-of-type {\n",
              "        vertical-align: middle;\n",
              "    }\n",
              "\n",
              "    .dataframe tbody tr th {\n",
              "        vertical-align: top;\n",
              "    }\n",
              "\n",
              "    .dataframe thead th {\n",
              "        text-align: right;\n",
              "    }\n",
              "</style>\n",
              "<table border=\"1\" class=\"dataframe\">\n",
              "  <thead>\n",
              "    <tr style=\"text-align: right;\">\n",
              "      <th></th>\n",
              "      <th>sepal length (cm)</th>\n",
              "      <th>sepal width (cm)</th>\n",
              "      <th>petal length (cm)</th>\n",
              "      <th>petal width (cm)</th>\n",
              "    </tr>\n",
              "  </thead>\n",
              "  <tbody>\n",
              "    <tr>\n",
              "      <th>count</th>\n",
              "      <td>150.000000</td>\n",
              "      <td>150.000000</td>\n",
              "      <td>150.000000</td>\n",
              "      <td>150.000000</td>\n",
              "    </tr>\n",
              "    <tr>\n",
              "      <th>mean</th>\n",
              "      <td>5.843333</td>\n",
              "      <td>3.057333</td>\n",
              "      <td>3.758000</td>\n",
              "      <td>1.199333</td>\n",
              "    </tr>\n",
              "    <tr>\n",
              "      <th>std</th>\n",
              "      <td>0.828066</td>\n",
              "      <td>0.435866</td>\n",
              "      <td>1.765298</td>\n",
              "      <td>0.762238</td>\n",
              "    </tr>\n",
              "    <tr>\n",
              "      <th>min</th>\n",
              "      <td>4.300000</td>\n",
              "      <td>2.000000</td>\n",
              "      <td>1.000000</td>\n",
              "      <td>0.100000</td>\n",
              "    </tr>\n",
              "    <tr>\n",
              "      <th>25%</th>\n",
              "      <td>5.100000</td>\n",
              "      <td>2.800000</td>\n",
              "      <td>1.600000</td>\n",
              "      <td>0.300000</td>\n",
              "    </tr>\n",
              "    <tr>\n",
              "      <th>50%</th>\n",
              "      <td>5.800000</td>\n",
              "      <td>3.000000</td>\n",
              "      <td>4.350000</td>\n",
              "      <td>1.300000</td>\n",
              "    </tr>\n",
              "    <tr>\n",
              "      <th>75%</th>\n",
              "      <td>6.400000</td>\n",
              "      <td>3.300000</td>\n",
              "      <td>5.100000</td>\n",
              "      <td>1.800000</td>\n",
              "    </tr>\n",
              "    <tr>\n",
              "      <th>max</th>\n",
              "      <td>7.900000</td>\n",
              "      <td>4.400000</td>\n",
              "      <td>6.900000</td>\n",
              "      <td>2.500000</td>\n",
              "    </tr>\n",
              "  </tbody>\n",
              "</table>\n",
              "</div>"
            ],
            "text/plain": [
              "       sepal length (cm)  sepal width (cm)  petal length (cm)  petal width (cm)\n",
              "count         150.000000        150.000000         150.000000        150.000000\n",
              "mean            5.843333          3.057333           3.758000          1.199333\n",
              "std             0.828066          0.435866           1.765298          0.762238\n",
              "min             4.300000          2.000000           1.000000          0.100000\n",
              "25%             5.100000          2.800000           1.600000          0.300000\n",
              "50%             5.800000          3.000000           4.350000          1.300000\n",
              "75%             6.400000          3.300000           5.100000          1.800000\n",
              "max             7.900000          4.400000           6.900000          2.500000"
            ]
          },
          "metadata": {
            "tags": []
          },
          "execution_count": 130
        }
      ]
    },
    {
      "cell_type": "code",
      "metadata": {
        "id": "Z-yu4j7Tb_Ae",
        "colab_type": "code",
        "outputId": "f7153f65-a4cd-4f62-e5eb-336747421304",
        "colab": {
          "base_uri": "https://localhost:8080/",
          "height": 71
        }
      },
      "source": [
        "df.columns"
      ],
      "execution_count": 131,
      "outputs": [
        {
          "output_type": "execute_result",
          "data": {
            "text/plain": [
              "Index(['sepal length (cm)', 'sepal width (cm)', 'petal length (cm)',\n",
              "       'petal width (cm)'],\n",
              "      dtype='object')"
            ]
          },
          "metadata": {
            "tags": []
          },
          "execution_count": 131
        }
      ]
    },
    {
      "cell_type": "code",
      "metadata": {
        "id": "MIx-q8y0bXon",
        "colab_type": "code",
        "colab": {}
      },
      "source": [
        "df.columns=['sepal_length', 'sepal_width', 'petal_length', 'petal_width']"
      ],
      "execution_count": 0,
      "outputs": []
    },
    {
      "cell_type": "code",
      "metadata": {
        "id": "glFxJc-cYsIY",
        "colab_type": "code",
        "outputId": "e39ee282-d095-4524-b4f6-2eb0b3921e30",
        "colab": {
          "base_uri": "https://localhost:8080/",
          "height": 204
        }
      },
      "source": [
        "df.head()"
      ],
      "execution_count": 133,
      "outputs": [
        {
          "output_type": "execute_result",
          "data": {
            "text/html": [
              "<div>\n",
              "<style scoped>\n",
              "    .dataframe tbody tr th:only-of-type {\n",
              "        vertical-align: middle;\n",
              "    }\n",
              "\n",
              "    .dataframe tbody tr th {\n",
              "        vertical-align: top;\n",
              "    }\n",
              "\n",
              "    .dataframe thead th {\n",
              "        text-align: right;\n",
              "    }\n",
              "</style>\n",
              "<table border=\"1\" class=\"dataframe\">\n",
              "  <thead>\n",
              "    <tr style=\"text-align: right;\">\n",
              "      <th></th>\n",
              "      <th>sepal_length</th>\n",
              "      <th>sepal_width</th>\n",
              "      <th>petal_length</th>\n",
              "      <th>petal_width</th>\n",
              "    </tr>\n",
              "  </thead>\n",
              "  <tbody>\n",
              "    <tr>\n",
              "      <th>0</th>\n",
              "      <td>5.1</td>\n",
              "      <td>3.5</td>\n",
              "      <td>1.4</td>\n",
              "      <td>0.2</td>\n",
              "    </tr>\n",
              "    <tr>\n",
              "      <th>1</th>\n",
              "      <td>4.9</td>\n",
              "      <td>3.0</td>\n",
              "      <td>1.4</td>\n",
              "      <td>0.2</td>\n",
              "    </tr>\n",
              "    <tr>\n",
              "      <th>2</th>\n",
              "      <td>4.7</td>\n",
              "      <td>3.2</td>\n",
              "      <td>1.3</td>\n",
              "      <td>0.2</td>\n",
              "    </tr>\n",
              "    <tr>\n",
              "      <th>3</th>\n",
              "      <td>4.6</td>\n",
              "      <td>3.1</td>\n",
              "      <td>1.5</td>\n",
              "      <td>0.2</td>\n",
              "    </tr>\n",
              "    <tr>\n",
              "      <th>4</th>\n",
              "      <td>5.0</td>\n",
              "      <td>3.6</td>\n",
              "      <td>1.4</td>\n",
              "      <td>0.2</td>\n",
              "    </tr>\n",
              "  </tbody>\n",
              "</table>\n",
              "</div>"
            ],
            "text/plain": [
              "   sepal_length  sepal_width  petal_length  petal_width\n",
              "0           5.1          3.5           1.4          0.2\n",
              "1           4.9          3.0           1.4          0.2\n",
              "2           4.7          3.2           1.3          0.2\n",
              "3           4.6          3.1           1.5          0.2\n",
              "4           5.0          3.6           1.4          0.2"
            ]
          },
          "metadata": {
            "tags": []
          },
          "execution_count": 133
        }
      ]
    },
    {
      "cell_type": "code",
      "metadata": {
        "id": "S_NXuaR3kK7x",
        "colab_type": "code",
        "colab": {}
      },
      "source": [
        "df['target'] = y"
      ],
      "execution_count": 0,
      "outputs": []
    },
    {
      "cell_type": "code",
      "metadata": {
        "id": "XE3AM4n2bSrr",
        "colab_type": "code",
        "outputId": "2714f6b1-bfa6-434f-c589-a54c7855f510",
        "colab": {
          "base_uri": "https://localhost:8080/",
          "height": 233
        }
      },
      "source": [
        "df['sepal_length']"
      ],
      "execution_count": 135,
      "outputs": [
        {
          "output_type": "execute_result",
          "data": {
            "text/plain": [
              "0      5.1\n",
              "1      4.9\n",
              "2      4.7\n",
              "3      4.6\n",
              "4      5.0\n",
              "      ... \n",
              "145    6.7\n",
              "146    6.3\n",
              "147    6.5\n",
              "148    6.2\n",
              "149    5.9\n",
              "Name: sepal_length, Length: 150, dtype: float64"
            ]
          },
          "metadata": {
            "tags": []
          },
          "execution_count": 135
        }
      ]
    },
    {
      "cell_type": "code",
      "metadata": {
        "id": "jou4avKPb2QU",
        "colab_type": "code",
        "outputId": "b3970400-7fbd-4bc3-e81c-6daefa60d082",
        "colab": {
          "base_uri": "https://localhost:8080/",
          "height": 233
        }
      },
      "source": [
        "df.sepal_length"
      ],
      "execution_count": 136,
      "outputs": [
        {
          "output_type": "execute_result",
          "data": {
            "text/plain": [
              "0      5.1\n",
              "1      4.9\n",
              "2      4.7\n",
              "3      4.6\n",
              "4      5.0\n",
              "      ... \n",
              "145    6.7\n",
              "146    6.3\n",
              "147    6.5\n",
              "148    6.2\n",
              "149    5.9\n",
              "Name: sepal_length, Length: 150, dtype: float64"
            ]
          },
          "metadata": {
            "tags": []
          },
          "execution_count": 136
        }
      ]
    },
    {
      "cell_type": "code",
      "metadata": {
        "id": "6VvZ7xLCb3pu",
        "colab_type": "code",
        "outputId": "dbecb7ce-e9a2-49a2-d529-fd5530b90923",
        "colab": {
          "base_uri": "https://localhost:8080/",
          "height": 419
        }
      },
      "source": [
        "df[['sepal_length', 'sepal_width']]"
      ],
      "execution_count": 137,
      "outputs": [
        {
          "output_type": "execute_result",
          "data": {
            "text/html": [
              "<div>\n",
              "<style scoped>\n",
              "    .dataframe tbody tr th:only-of-type {\n",
              "        vertical-align: middle;\n",
              "    }\n",
              "\n",
              "    .dataframe tbody tr th {\n",
              "        vertical-align: top;\n",
              "    }\n",
              "\n",
              "    .dataframe thead th {\n",
              "        text-align: right;\n",
              "    }\n",
              "</style>\n",
              "<table border=\"1\" class=\"dataframe\">\n",
              "  <thead>\n",
              "    <tr style=\"text-align: right;\">\n",
              "      <th></th>\n",
              "      <th>sepal_length</th>\n",
              "      <th>sepal_width</th>\n",
              "    </tr>\n",
              "  </thead>\n",
              "  <tbody>\n",
              "    <tr>\n",
              "      <th>0</th>\n",
              "      <td>5.1</td>\n",
              "      <td>3.5</td>\n",
              "    </tr>\n",
              "    <tr>\n",
              "      <th>1</th>\n",
              "      <td>4.9</td>\n",
              "      <td>3.0</td>\n",
              "    </tr>\n",
              "    <tr>\n",
              "      <th>2</th>\n",
              "      <td>4.7</td>\n",
              "      <td>3.2</td>\n",
              "    </tr>\n",
              "    <tr>\n",
              "      <th>3</th>\n",
              "      <td>4.6</td>\n",
              "      <td>3.1</td>\n",
              "    </tr>\n",
              "    <tr>\n",
              "      <th>4</th>\n",
              "      <td>5.0</td>\n",
              "      <td>3.6</td>\n",
              "    </tr>\n",
              "    <tr>\n",
              "      <th>...</th>\n",
              "      <td>...</td>\n",
              "      <td>...</td>\n",
              "    </tr>\n",
              "    <tr>\n",
              "      <th>145</th>\n",
              "      <td>6.7</td>\n",
              "      <td>3.0</td>\n",
              "    </tr>\n",
              "    <tr>\n",
              "      <th>146</th>\n",
              "      <td>6.3</td>\n",
              "      <td>2.5</td>\n",
              "    </tr>\n",
              "    <tr>\n",
              "      <th>147</th>\n",
              "      <td>6.5</td>\n",
              "      <td>3.0</td>\n",
              "    </tr>\n",
              "    <tr>\n",
              "      <th>148</th>\n",
              "      <td>6.2</td>\n",
              "      <td>3.4</td>\n",
              "    </tr>\n",
              "    <tr>\n",
              "      <th>149</th>\n",
              "      <td>5.9</td>\n",
              "      <td>3.0</td>\n",
              "    </tr>\n",
              "  </tbody>\n",
              "</table>\n",
              "<p>150 rows × 2 columns</p>\n",
              "</div>"
            ],
            "text/plain": [
              "     sepal_length  sepal_width\n",
              "0             5.1          3.5\n",
              "1             4.9          3.0\n",
              "2             4.7          3.2\n",
              "3             4.6          3.1\n",
              "4             5.0          3.6\n",
              "..            ...          ...\n",
              "145           6.7          3.0\n",
              "146           6.3          2.5\n",
              "147           6.5          3.0\n",
              "148           6.2          3.4\n",
              "149           5.9          3.0\n",
              "\n",
              "[150 rows x 2 columns]"
            ]
          },
          "metadata": {
            "tags": []
          },
          "execution_count": 137
        }
      ]
    },
    {
      "cell_type": "code",
      "metadata": {
        "id": "8FVV25EvcN5N",
        "colab_type": "code",
        "colab": {}
      },
      "source": [
        "df['index'] = np.arange(100, 250)"
      ],
      "execution_count": 0,
      "outputs": []
    },
    {
      "cell_type": "code",
      "metadata": {
        "id": "pll4ymEccSfv",
        "colab_type": "code",
        "outputId": "1b973397-b723-4b5c-c376-b480e6345534",
        "colab": {
          "base_uri": "https://localhost:8080/",
          "height": 450
        }
      },
      "source": [
        "df = df.set_index('index')\n",
        "df"
      ],
      "execution_count": 139,
      "outputs": [
        {
          "output_type": "execute_result",
          "data": {
            "text/html": [
              "<div>\n",
              "<style scoped>\n",
              "    .dataframe tbody tr th:only-of-type {\n",
              "        vertical-align: middle;\n",
              "    }\n",
              "\n",
              "    .dataframe tbody tr th {\n",
              "        vertical-align: top;\n",
              "    }\n",
              "\n",
              "    .dataframe thead th {\n",
              "        text-align: right;\n",
              "    }\n",
              "</style>\n",
              "<table border=\"1\" class=\"dataframe\">\n",
              "  <thead>\n",
              "    <tr style=\"text-align: right;\">\n",
              "      <th></th>\n",
              "      <th>sepal_length</th>\n",
              "      <th>sepal_width</th>\n",
              "      <th>petal_length</th>\n",
              "      <th>petal_width</th>\n",
              "      <th>target</th>\n",
              "    </tr>\n",
              "    <tr>\n",
              "      <th>index</th>\n",
              "      <th></th>\n",
              "      <th></th>\n",
              "      <th></th>\n",
              "      <th></th>\n",
              "      <th></th>\n",
              "    </tr>\n",
              "  </thead>\n",
              "  <tbody>\n",
              "    <tr>\n",
              "      <th>100</th>\n",
              "      <td>5.1</td>\n",
              "      <td>3.5</td>\n",
              "      <td>1.4</td>\n",
              "      <td>0.2</td>\n",
              "      <td>0</td>\n",
              "    </tr>\n",
              "    <tr>\n",
              "      <th>101</th>\n",
              "      <td>4.9</td>\n",
              "      <td>3.0</td>\n",
              "      <td>1.4</td>\n",
              "      <td>0.2</td>\n",
              "      <td>0</td>\n",
              "    </tr>\n",
              "    <tr>\n",
              "      <th>102</th>\n",
              "      <td>4.7</td>\n",
              "      <td>3.2</td>\n",
              "      <td>1.3</td>\n",
              "      <td>0.2</td>\n",
              "      <td>0</td>\n",
              "    </tr>\n",
              "    <tr>\n",
              "      <th>103</th>\n",
              "      <td>4.6</td>\n",
              "      <td>3.1</td>\n",
              "      <td>1.5</td>\n",
              "      <td>0.2</td>\n",
              "      <td>0</td>\n",
              "    </tr>\n",
              "    <tr>\n",
              "      <th>104</th>\n",
              "      <td>5.0</td>\n",
              "      <td>3.6</td>\n",
              "      <td>1.4</td>\n",
              "      <td>0.2</td>\n",
              "      <td>0</td>\n",
              "    </tr>\n",
              "    <tr>\n",
              "      <th>...</th>\n",
              "      <td>...</td>\n",
              "      <td>...</td>\n",
              "      <td>...</td>\n",
              "      <td>...</td>\n",
              "      <td>...</td>\n",
              "    </tr>\n",
              "    <tr>\n",
              "      <th>245</th>\n",
              "      <td>6.7</td>\n",
              "      <td>3.0</td>\n",
              "      <td>5.2</td>\n",
              "      <td>2.3</td>\n",
              "      <td>2</td>\n",
              "    </tr>\n",
              "    <tr>\n",
              "      <th>246</th>\n",
              "      <td>6.3</td>\n",
              "      <td>2.5</td>\n",
              "      <td>5.0</td>\n",
              "      <td>1.9</td>\n",
              "      <td>2</td>\n",
              "    </tr>\n",
              "    <tr>\n",
              "      <th>247</th>\n",
              "      <td>6.5</td>\n",
              "      <td>3.0</td>\n",
              "      <td>5.2</td>\n",
              "      <td>2.0</td>\n",
              "      <td>2</td>\n",
              "    </tr>\n",
              "    <tr>\n",
              "      <th>248</th>\n",
              "      <td>6.2</td>\n",
              "      <td>3.4</td>\n",
              "      <td>5.4</td>\n",
              "      <td>2.3</td>\n",
              "      <td>2</td>\n",
              "    </tr>\n",
              "    <tr>\n",
              "      <th>249</th>\n",
              "      <td>5.9</td>\n",
              "      <td>3.0</td>\n",
              "      <td>5.1</td>\n",
              "      <td>1.8</td>\n",
              "      <td>2</td>\n",
              "    </tr>\n",
              "  </tbody>\n",
              "</table>\n",
              "<p>150 rows × 5 columns</p>\n",
              "</div>"
            ],
            "text/plain": [
              "       sepal_length  sepal_width  petal_length  petal_width  target\n",
              "index                                                              \n",
              "100             5.1          3.5           1.4          0.2       0\n",
              "101             4.9          3.0           1.4          0.2       0\n",
              "102             4.7          3.2           1.3          0.2       0\n",
              "103             4.6          3.1           1.5          0.2       0\n",
              "104             5.0          3.6           1.4          0.2       0\n",
              "...             ...          ...           ...          ...     ...\n",
              "245             6.7          3.0           5.2          2.3       2\n",
              "246             6.3          2.5           5.0          1.9       2\n",
              "247             6.5          3.0           5.2          2.0       2\n",
              "248             6.2          3.4           5.4          2.3       2\n",
              "249             5.9          3.0           5.1          1.8       2\n",
              "\n",
              "[150 rows x 5 columns]"
            ]
          },
          "metadata": {
            "tags": []
          },
          "execution_count": 139
        }
      ]
    },
    {
      "cell_type": "code",
      "metadata": {
        "id": "JXZAqRcqcvhh",
        "colab_type": "code",
        "outputId": "f2f13089-1ee8-499a-dd96-1218f50b7b89",
        "colab": {
          "base_uri": "https://localhost:8080/",
          "height": 125
        }
      },
      "source": [
        "df.loc[100]"
      ],
      "execution_count": 140,
      "outputs": [
        {
          "output_type": "execute_result",
          "data": {
            "text/plain": [
              "sepal_length    5.1\n",
              "sepal_width     3.5\n",
              "petal_length    1.4\n",
              "petal_width     0.2\n",
              "target          0.0\n",
              "Name: 100, dtype: float64"
            ]
          },
          "metadata": {
            "tags": []
          },
          "execution_count": 140
        }
      ]
    },
    {
      "cell_type": "code",
      "metadata": {
        "id": "-id47rnfcgpt",
        "colab_type": "code",
        "outputId": "3d259029-6ecd-45e4-fef4-4d622e82e071",
        "colab": {
          "base_uri": "https://localhost:8080/",
          "height": 125
        }
      },
      "source": [
        "df.iloc[0]"
      ],
      "execution_count": 141,
      "outputs": [
        {
          "output_type": "execute_result",
          "data": {
            "text/plain": [
              "sepal_length    5.1\n",
              "sepal_width     3.5\n",
              "petal_length    1.4\n",
              "petal_width     0.2\n",
              "target          0.0\n",
              "Name: 100, dtype: float64"
            ]
          },
          "metadata": {
            "tags": []
          },
          "execution_count": 141
        }
      ]
    },
    {
      "cell_type": "code",
      "metadata": {
        "id": "VSEGsJYacxgB",
        "colab_type": "code",
        "outputId": "9a9bbcac-e3a2-45a2-ae4f-a55b6479d67d",
        "colab": {
          "base_uri": "https://localhost:8080/",
          "height": 142
        }
      },
      "source": [
        "df.iloc[[2, 3], [1, 2]]"
      ],
      "execution_count": 142,
      "outputs": [
        {
          "output_type": "execute_result",
          "data": {
            "text/html": [
              "<div>\n",
              "<style scoped>\n",
              "    .dataframe tbody tr th:only-of-type {\n",
              "        vertical-align: middle;\n",
              "    }\n",
              "\n",
              "    .dataframe tbody tr th {\n",
              "        vertical-align: top;\n",
              "    }\n",
              "\n",
              "    .dataframe thead th {\n",
              "        text-align: right;\n",
              "    }\n",
              "</style>\n",
              "<table border=\"1\" class=\"dataframe\">\n",
              "  <thead>\n",
              "    <tr style=\"text-align: right;\">\n",
              "      <th></th>\n",
              "      <th>sepal_width</th>\n",
              "      <th>petal_length</th>\n",
              "    </tr>\n",
              "    <tr>\n",
              "      <th>index</th>\n",
              "      <th></th>\n",
              "      <th></th>\n",
              "    </tr>\n",
              "  </thead>\n",
              "  <tbody>\n",
              "    <tr>\n",
              "      <th>102</th>\n",
              "      <td>3.2</td>\n",
              "      <td>1.3</td>\n",
              "    </tr>\n",
              "    <tr>\n",
              "      <th>103</th>\n",
              "      <td>3.1</td>\n",
              "      <td>1.5</td>\n",
              "    </tr>\n",
              "  </tbody>\n",
              "</table>\n",
              "</div>"
            ],
            "text/plain": [
              "       sepal_width  petal_length\n",
              "index                           \n",
              "102            3.2           1.3\n",
              "103            3.1           1.5"
            ]
          },
          "metadata": {
            "tags": []
          },
          "execution_count": 142
        }
      ]
    },
    {
      "cell_type": "code",
      "metadata": {
        "id": "s0hMrTioc8mg",
        "colab_type": "code",
        "outputId": "fe46c7d6-2021-4f5a-8d7a-fde52ccc6d0a",
        "colab": {
          "base_uri": "https://localhost:8080/",
          "height": 421
        }
      },
      "source": [
        "df.loc[120:130]"
      ],
      "execution_count": 143,
      "outputs": [
        {
          "output_type": "execute_result",
          "data": {
            "text/html": [
              "<div>\n",
              "<style scoped>\n",
              "    .dataframe tbody tr th:only-of-type {\n",
              "        vertical-align: middle;\n",
              "    }\n",
              "\n",
              "    .dataframe tbody tr th {\n",
              "        vertical-align: top;\n",
              "    }\n",
              "\n",
              "    .dataframe thead th {\n",
              "        text-align: right;\n",
              "    }\n",
              "</style>\n",
              "<table border=\"1\" class=\"dataframe\">\n",
              "  <thead>\n",
              "    <tr style=\"text-align: right;\">\n",
              "      <th></th>\n",
              "      <th>sepal_length</th>\n",
              "      <th>sepal_width</th>\n",
              "      <th>petal_length</th>\n",
              "      <th>petal_width</th>\n",
              "      <th>target</th>\n",
              "    </tr>\n",
              "    <tr>\n",
              "      <th>index</th>\n",
              "      <th></th>\n",
              "      <th></th>\n",
              "      <th></th>\n",
              "      <th></th>\n",
              "      <th></th>\n",
              "    </tr>\n",
              "  </thead>\n",
              "  <tbody>\n",
              "    <tr>\n",
              "      <th>120</th>\n",
              "      <td>5.4</td>\n",
              "      <td>3.4</td>\n",
              "      <td>1.7</td>\n",
              "      <td>0.2</td>\n",
              "      <td>0</td>\n",
              "    </tr>\n",
              "    <tr>\n",
              "      <th>121</th>\n",
              "      <td>5.1</td>\n",
              "      <td>3.7</td>\n",
              "      <td>1.5</td>\n",
              "      <td>0.4</td>\n",
              "      <td>0</td>\n",
              "    </tr>\n",
              "    <tr>\n",
              "      <th>122</th>\n",
              "      <td>4.6</td>\n",
              "      <td>3.6</td>\n",
              "      <td>1.0</td>\n",
              "      <td>0.2</td>\n",
              "      <td>0</td>\n",
              "    </tr>\n",
              "    <tr>\n",
              "      <th>123</th>\n",
              "      <td>5.1</td>\n",
              "      <td>3.3</td>\n",
              "      <td>1.7</td>\n",
              "      <td>0.5</td>\n",
              "      <td>0</td>\n",
              "    </tr>\n",
              "    <tr>\n",
              "      <th>124</th>\n",
              "      <td>4.8</td>\n",
              "      <td>3.4</td>\n",
              "      <td>1.9</td>\n",
              "      <td>0.2</td>\n",
              "      <td>0</td>\n",
              "    </tr>\n",
              "    <tr>\n",
              "      <th>125</th>\n",
              "      <td>5.0</td>\n",
              "      <td>3.0</td>\n",
              "      <td>1.6</td>\n",
              "      <td>0.2</td>\n",
              "      <td>0</td>\n",
              "    </tr>\n",
              "    <tr>\n",
              "      <th>126</th>\n",
              "      <td>5.0</td>\n",
              "      <td>3.4</td>\n",
              "      <td>1.6</td>\n",
              "      <td>0.4</td>\n",
              "      <td>0</td>\n",
              "    </tr>\n",
              "    <tr>\n",
              "      <th>127</th>\n",
              "      <td>5.2</td>\n",
              "      <td>3.5</td>\n",
              "      <td>1.5</td>\n",
              "      <td>0.2</td>\n",
              "      <td>0</td>\n",
              "    </tr>\n",
              "    <tr>\n",
              "      <th>128</th>\n",
              "      <td>5.2</td>\n",
              "      <td>3.4</td>\n",
              "      <td>1.4</td>\n",
              "      <td>0.2</td>\n",
              "      <td>0</td>\n",
              "    </tr>\n",
              "    <tr>\n",
              "      <th>129</th>\n",
              "      <td>4.7</td>\n",
              "      <td>3.2</td>\n",
              "      <td>1.6</td>\n",
              "      <td>0.2</td>\n",
              "      <td>0</td>\n",
              "    </tr>\n",
              "    <tr>\n",
              "      <th>130</th>\n",
              "      <td>4.8</td>\n",
              "      <td>3.1</td>\n",
              "      <td>1.6</td>\n",
              "      <td>0.2</td>\n",
              "      <td>0</td>\n",
              "    </tr>\n",
              "  </tbody>\n",
              "</table>\n",
              "</div>"
            ],
            "text/plain": [
              "       sepal_length  sepal_width  petal_length  petal_width  target\n",
              "index                                                              \n",
              "120             5.4          3.4           1.7          0.2       0\n",
              "121             5.1          3.7           1.5          0.4       0\n",
              "122             4.6          3.6           1.0          0.2       0\n",
              "123             5.1          3.3           1.7          0.5       0\n",
              "124             4.8          3.4           1.9          0.2       0\n",
              "125             5.0          3.0           1.6          0.2       0\n",
              "126             5.0          3.4           1.6          0.4       0\n",
              "127             5.2          3.5           1.5          0.2       0\n",
              "128             5.2          3.4           1.4          0.2       0\n",
              "129             4.7          3.2           1.6          0.2       0\n",
              "130             4.8          3.1           1.6          0.2       0"
            ]
          },
          "metadata": {
            "tags": []
          },
          "execution_count": 143
        }
      ]
    },
    {
      "cell_type": "code",
      "metadata": {
        "id": "cU3Skoz-dBhg",
        "colab_type": "code",
        "outputId": "9ed35939-86ba-4dae-cecd-5fb16d13751c",
        "colab": {
          "base_uri": "https://localhost:8080/",
          "height": 421
        }
      },
      "source": [
        "df.loc[120:130][['sepal_length', 'sepal_width']]"
      ],
      "execution_count": 144,
      "outputs": [
        {
          "output_type": "execute_result",
          "data": {
            "text/html": [
              "<div>\n",
              "<style scoped>\n",
              "    .dataframe tbody tr th:only-of-type {\n",
              "        vertical-align: middle;\n",
              "    }\n",
              "\n",
              "    .dataframe tbody tr th {\n",
              "        vertical-align: top;\n",
              "    }\n",
              "\n",
              "    .dataframe thead th {\n",
              "        text-align: right;\n",
              "    }\n",
              "</style>\n",
              "<table border=\"1\" class=\"dataframe\">\n",
              "  <thead>\n",
              "    <tr style=\"text-align: right;\">\n",
              "      <th></th>\n",
              "      <th>sepal_length</th>\n",
              "      <th>sepal_width</th>\n",
              "    </tr>\n",
              "    <tr>\n",
              "      <th>index</th>\n",
              "      <th></th>\n",
              "      <th></th>\n",
              "    </tr>\n",
              "  </thead>\n",
              "  <tbody>\n",
              "    <tr>\n",
              "      <th>120</th>\n",
              "      <td>5.4</td>\n",
              "      <td>3.4</td>\n",
              "    </tr>\n",
              "    <tr>\n",
              "      <th>121</th>\n",
              "      <td>5.1</td>\n",
              "      <td>3.7</td>\n",
              "    </tr>\n",
              "    <tr>\n",
              "      <th>122</th>\n",
              "      <td>4.6</td>\n",
              "      <td>3.6</td>\n",
              "    </tr>\n",
              "    <tr>\n",
              "      <th>123</th>\n",
              "      <td>5.1</td>\n",
              "      <td>3.3</td>\n",
              "    </tr>\n",
              "    <tr>\n",
              "      <th>124</th>\n",
              "      <td>4.8</td>\n",
              "      <td>3.4</td>\n",
              "    </tr>\n",
              "    <tr>\n",
              "      <th>125</th>\n",
              "      <td>5.0</td>\n",
              "      <td>3.0</td>\n",
              "    </tr>\n",
              "    <tr>\n",
              "      <th>126</th>\n",
              "      <td>5.0</td>\n",
              "      <td>3.4</td>\n",
              "    </tr>\n",
              "    <tr>\n",
              "      <th>127</th>\n",
              "      <td>5.2</td>\n",
              "      <td>3.5</td>\n",
              "    </tr>\n",
              "    <tr>\n",
              "      <th>128</th>\n",
              "      <td>5.2</td>\n",
              "      <td>3.4</td>\n",
              "    </tr>\n",
              "    <tr>\n",
              "      <th>129</th>\n",
              "      <td>4.7</td>\n",
              "      <td>3.2</td>\n",
              "    </tr>\n",
              "    <tr>\n",
              "      <th>130</th>\n",
              "      <td>4.8</td>\n",
              "      <td>3.1</td>\n",
              "    </tr>\n",
              "  </tbody>\n",
              "</table>\n",
              "</div>"
            ],
            "text/plain": [
              "       sepal_length  sepal_width\n",
              "index                           \n",
              "120             5.4          3.4\n",
              "121             5.1          3.7\n",
              "122             4.6          3.6\n",
              "123             5.1          3.3\n",
              "124             4.8          3.4\n",
              "125             5.0          3.0\n",
              "126             5.0          3.4\n",
              "127             5.2          3.5\n",
              "128             5.2          3.4\n",
              "129             4.7          3.2\n",
              "130             4.8          3.1"
            ]
          },
          "metadata": {
            "tags": []
          },
          "execution_count": 144
        }
      ]
    },
    {
      "cell_type": "code",
      "metadata": {
        "id": "GeqwpnxadZKx",
        "colab_type": "code",
        "outputId": "2efecde5-000b-4557-d2db-ac640515542a",
        "colab": {
          "base_uri": "https://localhost:8080/",
          "height": 669
        }
      },
      "source": [
        "df.loc[df.sepal_width > 3.5, [\"sepal_width\", \"petal_length\", \"petal_width\"]]"
      ],
      "execution_count": 145,
      "outputs": [
        {
          "output_type": "execute_result",
          "data": {
            "text/html": [
              "<div>\n",
              "<style scoped>\n",
              "    .dataframe tbody tr th:only-of-type {\n",
              "        vertical-align: middle;\n",
              "    }\n",
              "\n",
              "    .dataframe tbody tr th {\n",
              "        vertical-align: top;\n",
              "    }\n",
              "\n",
              "    .dataframe thead th {\n",
              "        text-align: right;\n",
              "    }\n",
              "</style>\n",
              "<table border=\"1\" class=\"dataframe\">\n",
              "  <thead>\n",
              "    <tr style=\"text-align: right;\">\n",
              "      <th></th>\n",
              "      <th>sepal_width</th>\n",
              "      <th>petal_length</th>\n",
              "      <th>petal_width</th>\n",
              "    </tr>\n",
              "    <tr>\n",
              "      <th>index</th>\n",
              "      <th></th>\n",
              "      <th></th>\n",
              "      <th></th>\n",
              "    </tr>\n",
              "  </thead>\n",
              "  <tbody>\n",
              "    <tr>\n",
              "      <th>104</th>\n",
              "      <td>3.6</td>\n",
              "      <td>1.4</td>\n",
              "      <td>0.2</td>\n",
              "    </tr>\n",
              "    <tr>\n",
              "      <th>105</th>\n",
              "      <td>3.9</td>\n",
              "      <td>1.7</td>\n",
              "      <td>0.4</td>\n",
              "    </tr>\n",
              "    <tr>\n",
              "      <th>110</th>\n",
              "      <td>3.7</td>\n",
              "      <td>1.5</td>\n",
              "      <td>0.2</td>\n",
              "    </tr>\n",
              "    <tr>\n",
              "      <th>114</th>\n",
              "      <td>4.0</td>\n",
              "      <td>1.2</td>\n",
              "      <td>0.2</td>\n",
              "    </tr>\n",
              "    <tr>\n",
              "      <th>115</th>\n",
              "      <td>4.4</td>\n",
              "      <td>1.5</td>\n",
              "      <td>0.4</td>\n",
              "    </tr>\n",
              "    <tr>\n",
              "      <th>116</th>\n",
              "      <td>3.9</td>\n",
              "      <td>1.3</td>\n",
              "      <td>0.4</td>\n",
              "    </tr>\n",
              "    <tr>\n",
              "      <th>118</th>\n",
              "      <td>3.8</td>\n",
              "      <td>1.7</td>\n",
              "      <td>0.3</td>\n",
              "    </tr>\n",
              "    <tr>\n",
              "      <th>119</th>\n",
              "      <td>3.8</td>\n",
              "      <td>1.5</td>\n",
              "      <td>0.3</td>\n",
              "    </tr>\n",
              "    <tr>\n",
              "      <th>121</th>\n",
              "      <td>3.7</td>\n",
              "      <td>1.5</td>\n",
              "      <td>0.4</td>\n",
              "    </tr>\n",
              "    <tr>\n",
              "      <th>122</th>\n",
              "      <td>3.6</td>\n",
              "      <td>1.0</td>\n",
              "      <td>0.2</td>\n",
              "    </tr>\n",
              "    <tr>\n",
              "      <th>132</th>\n",
              "      <td>4.1</td>\n",
              "      <td>1.5</td>\n",
              "      <td>0.1</td>\n",
              "    </tr>\n",
              "    <tr>\n",
              "      <th>133</th>\n",
              "      <td>4.2</td>\n",
              "      <td>1.4</td>\n",
              "      <td>0.2</td>\n",
              "    </tr>\n",
              "    <tr>\n",
              "      <th>137</th>\n",
              "      <td>3.6</td>\n",
              "      <td>1.4</td>\n",
              "      <td>0.1</td>\n",
              "    </tr>\n",
              "    <tr>\n",
              "      <th>144</th>\n",
              "      <td>3.8</td>\n",
              "      <td>1.9</td>\n",
              "      <td>0.4</td>\n",
              "    </tr>\n",
              "    <tr>\n",
              "      <th>146</th>\n",
              "      <td>3.8</td>\n",
              "      <td>1.6</td>\n",
              "      <td>0.2</td>\n",
              "    </tr>\n",
              "    <tr>\n",
              "      <th>148</th>\n",
              "      <td>3.7</td>\n",
              "      <td>1.5</td>\n",
              "      <td>0.2</td>\n",
              "    </tr>\n",
              "    <tr>\n",
              "      <th>209</th>\n",
              "      <td>3.6</td>\n",
              "      <td>6.1</td>\n",
              "      <td>2.5</td>\n",
              "    </tr>\n",
              "    <tr>\n",
              "      <th>217</th>\n",
              "      <td>3.8</td>\n",
              "      <td>6.7</td>\n",
              "      <td>2.2</td>\n",
              "    </tr>\n",
              "    <tr>\n",
              "      <th>231</th>\n",
              "      <td>3.8</td>\n",
              "      <td>6.4</td>\n",
              "      <td>2.0</td>\n",
              "    </tr>\n",
              "  </tbody>\n",
              "</table>\n",
              "</div>"
            ],
            "text/plain": [
              "       sepal_width  petal_length  petal_width\n",
              "index                                        \n",
              "104            3.6           1.4          0.2\n",
              "105            3.9           1.7          0.4\n",
              "110            3.7           1.5          0.2\n",
              "114            4.0           1.2          0.2\n",
              "115            4.4           1.5          0.4\n",
              "116            3.9           1.3          0.4\n",
              "118            3.8           1.7          0.3\n",
              "119            3.8           1.5          0.3\n",
              "121            3.7           1.5          0.4\n",
              "122            3.6           1.0          0.2\n",
              "132            4.1           1.5          0.1\n",
              "133            4.2           1.4          0.2\n",
              "137            3.6           1.4          0.1\n",
              "144            3.8           1.9          0.4\n",
              "146            3.8           1.6          0.2\n",
              "148            3.7           1.5          0.2\n",
              "209            3.6           6.1          2.5\n",
              "217            3.8           6.7          2.2\n",
              "231            3.8           6.4          2.0"
            ]
          },
          "metadata": {
            "tags": []
          },
          "execution_count": 145
        }
      ]
    },
    {
      "cell_type": "code",
      "metadata": {
        "id": "XbacdNaAdnxB",
        "colab_type": "code",
        "outputId": "e09621b8-68da-4c57-95cf-bc45adb71134",
        "colab": {
          "base_uri": "https://localhost:8080/",
          "height": 173
        }
      },
      "source": [
        "df.loc[(df.sepal_width > 3.5) & (df.petal_width > 0.6)]"
      ],
      "execution_count": 146,
      "outputs": [
        {
          "output_type": "execute_result",
          "data": {
            "text/html": [
              "<div>\n",
              "<style scoped>\n",
              "    .dataframe tbody tr th:only-of-type {\n",
              "        vertical-align: middle;\n",
              "    }\n",
              "\n",
              "    .dataframe tbody tr th {\n",
              "        vertical-align: top;\n",
              "    }\n",
              "\n",
              "    .dataframe thead th {\n",
              "        text-align: right;\n",
              "    }\n",
              "</style>\n",
              "<table border=\"1\" class=\"dataframe\">\n",
              "  <thead>\n",
              "    <tr style=\"text-align: right;\">\n",
              "      <th></th>\n",
              "      <th>sepal_length</th>\n",
              "      <th>sepal_width</th>\n",
              "      <th>petal_length</th>\n",
              "      <th>petal_width</th>\n",
              "      <th>target</th>\n",
              "    </tr>\n",
              "    <tr>\n",
              "      <th>index</th>\n",
              "      <th></th>\n",
              "      <th></th>\n",
              "      <th></th>\n",
              "      <th></th>\n",
              "      <th></th>\n",
              "    </tr>\n",
              "  </thead>\n",
              "  <tbody>\n",
              "    <tr>\n",
              "      <th>209</th>\n",
              "      <td>7.2</td>\n",
              "      <td>3.6</td>\n",
              "      <td>6.1</td>\n",
              "      <td>2.5</td>\n",
              "      <td>2</td>\n",
              "    </tr>\n",
              "    <tr>\n",
              "      <th>217</th>\n",
              "      <td>7.7</td>\n",
              "      <td>3.8</td>\n",
              "      <td>6.7</td>\n",
              "      <td>2.2</td>\n",
              "      <td>2</td>\n",
              "    </tr>\n",
              "    <tr>\n",
              "      <th>231</th>\n",
              "      <td>7.9</td>\n",
              "      <td>3.8</td>\n",
              "      <td>6.4</td>\n",
              "      <td>2.0</td>\n",
              "      <td>2</td>\n",
              "    </tr>\n",
              "  </tbody>\n",
              "</table>\n",
              "</div>"
            ],
            "text/plain": [
              "       sepal_length  sepal_width  petal_length  petal_width  target\n",
              "index                                                              \n",
              "209             7.2          3.6           6.1          2.5       2\n",
              "217             7.7          3.8           6.7          2.2       2\n",
              "231             7.9          3.8           6.4          2.0       2"
            ]
          },
          "metadata": {
            "tags": []
          },
          "execution_count": 146
        }
      ]
    },
    {
      "cell_type": "code",
      "metadata": {
        "id": "TW3llqQqd2Vy",
        "colab_type": "code",
        "colab": {}
      },
      "source": [
        "df['sepal_area'] = df.sepal_length * df.sepal_width"
      ],
      "execution_count": 0,
      "outputs": []
    },
    {
      "cell_type": "code",
      "metadata": {
        "id": "T_DFLgLEeDxU",
        "colab_type": "code",
        "outputId": "f68ca35e-9a59-41de-a29a-f30365ca4aca",
        "colab": {
          "base_uri": "https://localhost:8080/",
          "height": 450
        }
      },
      "source": [
        "df"
      ],
      "execution_count": 148,
      "outputs": [
        {
          "output_type": "execute_result",
          "data": {
            "text/html": [
              "<div>\n",
              "<style scoped>\n",
              "    .dataframe tbody tr th:only-of-type {\n",
              "        vertical-align: middle;\n",
              "    }\n",
              "\n",
              "    .dataframe tbody tr th {\n",
              "        vertical-align: top;\n",
              "    }\n",
              "\n",
              "    .dataframe thead th {\n",
              "        text-align: right;\n",
              "    }\n",
              "</style>\n",
              "<table border=\"1\" class=\"dataframe\">\n",
              "  <thead>\n",
              "    <tr style=\"text-align: right;\">\n",
              "      <th></th>\n",
              "      <th>sepal_length</th>\n",
              "      <th>sepal_width</th>\n",
              "      <th>petal_length</th>\n",
              "      <th>petal_width</th>\n",
              "      <th>target</th>\n",
              "      <th>sepal_area</th>\n",
              "    </tr>\n",
              "    <tr>\n",
              "      <th>index</th>\n",
              "      <th></th>\n",
              "      <th></th>\n",
              "      <th></th>\n",
              "      <th></th>\n",
              "      <th></th>\n",
              "      <th></th>\n",
              "    </tr>\n",
              "  </thead>\n",
              "  <tbody>\n",
              "    <tr>\n",
              "      <th>100</th>\n",
              "      <td>5.1</td>\n",
              "      <td>3.5</td>\n",
              "      <td>1.4</td>\n",
              "      <td>0.2</td>\n",
              "      <td>0</td>\n",
              "      <td>17.85</td>\n",
              "    </tr>\n",
              "    <tr>\n",
              "      <th>101</th>\n",
              "      <td>4.9</td>\n",
              "      <td>3.0</td>\n",
              "      <td>1.4</td>\n",
              "      <td>0.2</td>\n",
              "      <td>0</td>\n",
              "      <td>14.70</td>\n",
              "    </tr>\n",
              "    <tr>\n",
              "      <th>102</th>\n",
              "      <td>4.7</td>\n",
              "      <td>3.2</td>\n",
              "      <td>1.3</td>\n",
              "      <td>0.2</td>\n",
              "      <td>0</td>\n",
              "      <td>15.04</td>\n",
              "    </tr>\n",
              "    <tr>\n",
              "      <th>103</th>\n",
              "      <td>4.6</td>\n",
              "      <td>3.1</td>\n",
              "      <td>1.5</td>\n",
              "      <td>0.2</td>\n",
              "      <td>0</td>\n",
              "      <td>14.26</td>\n",
              "    </tr>\n",
              "    <tr>\n",
              "      <th>104</th>\n",
              "      <td>5.0</td>\n",
              "      <td>3.6</td>\n",
              "      <td>1.4</td>\n",
              "      <td>0.2</td>\n",
              "      <td>0</td>\n",
              "      <td>18.00</td>\n",
              "    </tr>\n",
              "    <tr>\n",
              "      <th>...</th>\n",
              "      <td>...</td>\n",
              "      <td>...</td>\n",
              "      <td>...</td>\n",
              "      <td>...</td>\n",
              "      <td>...</td>\n",
              "      <td>...</td>\n",
              "    </tr>\n",
              "    <tr>\n",
              "      <th>245</th>\n",
              "      <td>6.7</td>\n",
              "      <td>3.0</td>\n",
              "      <td>5.2</td>\n",
              "      <td>2.3</td>\n",
              "      <td>2</td>\n",
              "      <td>20.10</td>\n",
              "    </tr>\n",
              "    <tr>\n",
              "      <th>246</th>\n",
              "      <td>6.3</td>\n",
              "      <td>2.5</td>\n",
              "      <td>5.0</td>\n",
              "      <td>1.9</td>\n",
              "      <td>2</td>\n",
              "      <td>15.75</td>\n",
              "    </tr>\n",
              "    <tr>\n",
              "      <th>247</th>\n",
              "      <td>6.5</td>\n",
              "      <td>3.0</td>\n",
              "      <td>5.2</td>\n",
              "      <td>2.0</td>\n",
              "      <td>2</td>\n",
              "      <td>19.50</td>\n",
              "    </tr>\n",
              "    <tr>\n",
              "      <th>248</th>\n",
              "      <td>6.2</td>\n",
              "      <td>3.4</td>\n",
              "      <td>5.4</td>\n",
              "      <td>2.3</td>\n",
              "      <td>2</td>\n",
              "      <td>21.08</td>\n",
              "    </tr>\n",
              "    <tr>\n",
              "      <th>249</th>\n",
              "      <td>5.9</td>\n",
              "      <td>3.0</td>\n",
              "      <td>5.1</td>\n",
              "      <td>1.8</td>\n",
              "      <td>2</td>\n",
              "      <td>17.70</td>\n",
              "    </tr>\n",
              "  </tbody>\n",
              "</table>\n",
              "<p>150 rows × 6 columns</p>\n",
              "</div>"
            ],
            "text/plain": [
              "       sepal_length  sepal_width  petal_length  petal_width  target  sepal_area\n",
              "index                                                                          \n",
              "100             5.1          3.5           1.4          0.2       0       17.85\n",
              "101             4.9          3.0           1.4          0.2       0       14.70\n",
              "102             4.7          3.2           1.3          0.2       0       15.04\n",
              "103             4.6          3.1           1.5          0.2       0       14.26\n",
              "104             5.0          3.6           1.4          0.2       0       18.00\n",
              "...             ...          ...           ...          ...     ...         ...\n",
              "245             6.7          3.0           5.2          2.3       2       20.10\n",
              "246             6.3          2.5           5.0          1.9       2       15.75\n",
              "247             6.5          3.0           5.2          2.0       2       19.50\n",
              "248             6.2          3.4           5.4          2.3       2       21.08\n",
              "249             5.9          3.0           5.1          1.8       2       17.70\n",
              "\n",
              "[150 rows x 6 columns]"
            ]
          },
          "metadata": {
            "tags": []
          },
          "execution_count": 148
        }
      ]
    },
    {
      "cell_type": "code",
      "metadata": {
        "id": "BMQT1zileESz",
        "colab_type": "code",
        "outputId": "353cf0e8-7b56-4332-8dd3-c48dccfa4d8b",
        "colab": {
          "base_uri": "https://localhost:8080/",
          "height": 450
        }
      },
      "source": [
        "df = df.drop(['sepal_area'], axis=1)\n",
        "df"
      ],
      "execution_count": 149,
      "outputs": [
        {
          "output_type": "execute_result",
          "data": {
            "text/html": [
              "<div>\n",
              "<style scoped>\n",
              "    .dataframe tbody tr th:only-of-type {\n",
              "        vertical-align: middle;\n",
              "    }\n",
              "\n",
              "    .dataframe tbody tr th {\n",
              "        vertical-align: top;\n",
              "    }\n",
              "\n",
              "    .dataframe thead th {\n",
              "        text-align: right;\n",
              "    }\n",
              "</style>\n",
              "<table border=\"1\" class=\"dataframe\">\n",
              "  <thead>\n",
              "    <tr style=\"text-align: right;\">\n",
              "      <th></th>\n",
              "      <th>sepal_length</th>\n",
              "      <th>sepal_width</th>\n",
              "      <th>petal_length</th>\n",
              "      <th>petal_width</th>\n",
              "      <th>target</th>\n",
              "    </tr>\n",
              "    <tr>\n",
              "      <th>index</th>\n",
              "      <th></th>\n",
              "      <th></th>\n",
              "      <th></th>\n",
              "      <th></th>\n",
              "      <th></th>\n",
              "    </tr>\n",
              "  </thead>\n",
              "  <tbody>\n",
              "    <tr>\n",
              "      <th>100</th>\n",
              "      <td>5.1</td>\n",
              "      <td>3.5</td>\n",
              "      <td>1.4</td>\n",
              "      <td>0.2</td>\n",
              "      <td>0</td>\n",
              "    </tr>\n",
              "    <tr>\n",
              "      <th>101</th>\n",
              "      <td>4.9</td>\n",
              "      <td>3.0</td>\n",
              "      <td>1.4</td>\n",
              "      <td>0.2</td>\n",
              "      <td>0</td>\n",
              "    </tr>\n",
              "    <tr>\n",
              "      <th>102</th>\n",
              "      <td>4.7</td>\n",
              "      <td>3.2</td>\n",
              "      <td>1.3</td>\n",
              "      <td>0.2</td>\n",
              "      <td>0</td>\n",
              "    </tr>\n",
              "    <tr>\n",
              "      <th>103</th>\n",
              "      <td>4.6</td>\n",
              "      <td>3.1</td>\n",
              "      <td>1.5</td>\n",
              "      <td>0.2</td>\n",
              "      <td>0</td>\n",
              "    </tr>\n",
              "    <tr>\n",
              "      <th>104</th>\n",
              "      <td>5.0</td>\n",
              "      <td>3.6</td>\n",
              "      <td>1.4</td>\n",
              "      <td>0.2</td>\n",
              "      <td>0</td>\n",
              "    </tr>\n",
              "    <tr>\n",
              "      <th>...</th>\n",
              "      <td>...</td>\n",
              "      <td>...</td>\n",
              "      <td>...</td>\n",
              "      <td>...</td>\n",
              "      <td>...</td>\n",
              "    </tr>\n",
              "    <tr>\n",
              "      <th>245</th>\n",
              "      <td>6.7</td>\n",
              "      <td>3.0</td>\n",
              "      <td>5.2</td>\n",
              "      <td>2.3</td>\n",
              "      <td>2</td>\n",
              "    </tr>\n",
              "    <tr>\n",
              "      <th>246</th>\n",
              "      <td>6.3</td>\n",
              "      <td>2.5</td>\n",
              "      <td>5.0</td>\n",
              "      <td>1.9</td>\n",
              "      <td>2</td>\n",
              "    </tr>\n",
              "    <tr>\n",
              "      <th>247</th>\n",
              "      <td>6.5</td>\n",
              "      <td>3.0</td>\n",
              "      <td>5.2</td>\n",
              "      <td>2.0</td>\n",
              "      <td>2</td>\n",
              "    </tr>\n",
              "    <tr>\n",
              "      <th>248</th>\n",
              "      <td>6.2</td>\n",
              "      <td>3.4</td>\n",
              "      <td>5.4</td>\n",
              "      <td>2.3</td>\n",
              "      <td>2</td>\n",
              "    </tr>\n",
              "    <tr>\n",
              "      <th>249</th>\n",
              "      <td>5.9</td>\n",
              "      <td>3.0</td>\n",
              "      <td>5.1</td>\n",
              "      <td>1.8</td>\n",
              "      <td>2</td>\n",
              "    </tr>\n",
              "  </tbody>\n",
              "</table>\n",
              "<p>150 rows × 5 columns</p>\n",
              "</div>"
            ],
            "text/plain": [
              "       sepal_length  sepal_width  petal_length  petal_width  target\n",
              "index                                                              \n",
              "100             5.1          3.5           1.4          0.2       0\n",
              "101             4.9          3.0           1.4          0.2       0\n",
              "102             4.7          3.2           1.3          0.2       0\n",
              "103             4.6          3.1           1.5          0.2       0\n",
              "104             5.0          3.6           1.4          0.2       0\n",
              "...             ...          ...           ...          ...     ...\n",
              "245             6.7          3.0           5.2          2.3       2\n",
              "246             6.3          2.5           5.0          1.9       2\n",
              "247             6.5          3.0           5.2          2.0       2\n",
              "248             6.2          3.4           5.4          2.3       2\n",
              "249             5.9          3.0           5.1          1.8       2\n",
              "\n",
              "[150 rows x 5 columns]"
            ]
          },
          "metadata": {
            "tags": []
          },
          "execution_count": 149
        }
      ]
    },
    {
      "cell_type": "code",
      "metadata": {
        "id": "eXmUdJPSetF4",
        "colab_type": "code",
        "outputId": "ede6b022-a4ba-45a7-fd28-0648a9bca894",
        "colab": {
          "base_uri": "https://localhost:8080/",
          "height": 450
        }
      },
      "source": [
        "df.sort_values(by='petal_length', ascending=False)"
      ],
      "execution_count": 150,
      "outputs": [
        {
          "output_type": "execute_result",
          "data": {
            "text/html": [
              "<div>\n",
              "<style scoped>\n",
              "    .dataframe tbody tr th:only-of-type {\n",
              "        vertical-align: middle;\n",
              "    }\n",
              "\n",
              "    .dataframe tbody tr th {\n",
              "        vertical-align: top;\n",
              "    }\n",
              "\n",
              "    .dataframe thead th {\n",
              "        text-align: right;\n",
              "    }\n",
              "</style>\n",
              "<table border=\"1\" class=\"dataframe\">\n",
              "  <thead>\n",
              "    <tr style=\"text-align: right;\">\n",
              "      <th></th>\n",
              "      <th>sepal_length</th>\n",
              "      <th>sepal_width</th>\n",
              "      <th>petal_length</th>\n",
              "      <th>petal_width</th>\n",
              "      <th>target</th>\n",
              "    </tr>\n",
              "    <tr>\n",
              "      <th>index</th>\n",
              "      <th></th>\n",
              "      <th></th>\n",
              "      <th></th>\n",
              "      <th></th>\n",
              "      <th></th>\n",
              "    </tr>\n",
              "  </thead>\n",
              "  <tbody>\n",
              "    <tr>\n",
              "      <th>218</th>\n",
              "      <td>7.7</td>\n",
              "      <td>2.6</td>\n",
              "      <td>6.9</td>\n",
              "      <td>2.3</td>\n",
              "      <td>2</td>\n",
              "    </tr>\n",
              "    <tr>\n",
              "      <th>222</th>\n",
              "      <td>7.7</td>\n",
              "      <td>2.8</td>\n",
              "      <td>6.7</td>\n",
              "      <td>2.0</td>\n",
              "      <td>2</td>\n",
              "    </tr>\n",
              "    <tr>\n",
              "      <th>217</th>\n",
              "      <td>7.7</td>\n",
              "      <td>3.8</td>\n",
              "      <td>6.7</td>\n",
              "      <td>2.2</td>\n",
              "      <td>2</td>\n",
              "    </tr>\n",
              "    <tr>\n",
              "      <th>205</th>\n",
              "      <td>7.6</td>\n",
              "      <td>3.0</td>\n",
              "      <td>6.6</td>\n",
              "      <td>2.1</td>\n",
              "      <td>2</td>\n",
              "    </tr>\n",
              "    <tr>\n",
              "      <th>231</th>\n",
              "      <td>7.9</td>\n",
              "      <td>3.8</td>\n",
              "      <td>6.4</td>\n",
              "      <td>2.0</td>\n",
              "      <td>2</td>\n",
              "    </tr>\n",
              "    <tr>\n",
              "      <th>...</th>\n",
              "      <td>...</td>\n",
              "      <td>...</td>\n",
              "      <td>...</td>\n",
              "      <td>...</td>\n",
              "      <td>...</td>\n",
              "    </tr>\n",
              "    <tr>\n",
              "      <th>116</th>\n",
              "      <td>5.4</td>\n",
              "      <td>3.9</td>\n",
              "      <td>1.3</td>\n",
              "      <td>0.4</td>\n",
              "      <td>0</td>\n",
              "    </tr>\n",
              "    <tr>\n",
              "      <th>135</th>\n",
              "      <td>5.0</td>\n",
              "      <td>3.2</td>\n",
              "      <td>1.2</td>\n",
              "      <td>0.2</td>\n",
              "      <td>0</td>\n",
              "    </tr>\n",
              "    <tr>\n",
              "      <th>114</th>\n",
              "      <td>5.8</td>\n",
              "      <td>4.0</td>\n",
              "      <td>1.2</td>\n",
              "      <td>0.2</td>\n",
              "      <td>0</td>\n",
              "    </tr>\n",
              "    <tr>\n",
              "      <th>113</th>\n",
              "      <td>4.3</td>\n",
              "      <td>3.0</td>\n",
              "      <td>1.1</td>\n",
              "      <td>0.1</td>\n",
              "      <td>0</td>\n",
              "    </tr>\n",
              "    <tr>\n",
              "      <th>122</th>\n",
              "      <td>4.6</td>\n",
              "      <td>3.6</td>\n",
              "      <td>1.0</td>\n",
              "      <td>0.2</td>\n",
              "      <td>0</td>\n",
              "    </tr>\n",
              "  </tbody>\n",
              "</table>\n",
              "<p>150 rows × 5 columns</p>\n",
              "</div>"
            ],
            "text/plain": [
              "       sepal_length  sepal_width  petal_length  petal_width  target\n",
              "index                                                              \n",
              "218             7.7          2.6           6.9          2.3       2\n",
              "222             7.7          2.8           6.7          2.0       2\n",
              "217             7.7          3.8           6.7          2.2       2\n",
              "205             7.6          3.0           6.6          2.1       2\n",
              "231             7.9          3.8           6.4          2.0       2\n",
              "...             ...          ...           ...          ...     ...\n",
              "116             5.4          3.9           1.3          0.4       0\n",
              "135             5.0          3.2           1.2          0.2       0\n",
              "114             5.8          4.0           1.2          0.2       0\n",
              "113             4.3          3.0           1.1          0.1       0\n",
              "122             4.6          3.6           1.0          0.2       0\n",
              "\n",
              "[150 rows x 5 columns]"
            ]
          },
          "metadata": {
            "tags": []
          },
          "execution_count": 150
        }
      ]
    },
    {
      "cell_type": "code",
      "metadata": {
        "id": "GNXGouBOfNYA",
        "colab_type": "code",
        "outputId": "309e9b3e-7bcd-4ea2-f31c-ba3d6e4744b3",
        "colab": {
          "base_uri": "https://localhost:8080/",
          "height": 204
        }
      },
      "source": [
        "df.corr(method='spearman')"
      ],
      "execution_count": 151,
      "outputs": [
        {
          "output_type": "execute_result",
          "data": {
            "text/html": [
              "<div>\n",
              "<style scoped>\n",
              "    .dataframe tbody tr th:only-of-type {\n",
              "        vertical-align: middle;\n",
              "    }\n",
              "\n",
              "    .dataframe tbody tr th {\n",
              "        vertical-align: top;\n",
              "    }\n",
              "\n",
              "    .dataframe thead th {\n",
              "        text-align: right;\n",
              "    }\n",
              "</style>\n",
              "<table border=\"1\" class=\"dataframe\">\n",
              "  <thead>\n",
              "    <tr style=\"text-align: right;\">\n",
              "      <th></th>\n",
              "      <th>sepal_length</th>\n",
              "      <th>sepal_width</th>\n",
              "      <th>petal_length</th>\n",
              "      <th>petal_width</th>\n",
              "      <th>target</th>\n",
              "    </tr>\n",
              "  </thead>\n",
              "  <tbody>\n",
              "    <tr>\n",
              "      <th>sepal_length</th>\n",
              "      <td>1.000000</td>\n",
              "      <td>-0.166778</td>\n",
              "      <td>0.881898</td>\n",
              "      <td>0.834289</td>\n",
              "      <td>0.798078</td>\n",
              "    </tr>\n",
              "    <tr>\n",
              "      <th>sepal_width</th>\n",
              "      <td>-0.166778</td>\n",
              "      <td>1.000000</td>\n",
              "      <td>-0.309635</td>\n",
              "      <td>-0.289032</td>\n",
              "      <td>-0.440290</td>\n",
              "    </tr>\n",
              "    <tr>\n",
              "      <th>petal_length</th>\n",
              "      <td>0.881898</td>\n",
              "      <td>-0.309635</td>\n",
              "      <td>1.000000</td>\n",
              "      <td>0.937667</td>\n",
              "      <td>0.935431</td>\n",
              "    </tr>\n",
              "    <tr>\n",
              "      <th>petal_width</th>\n",
              "      <td>0.834289</td>\n",
              "      <td>-0.289032</td>\n",
              "      <td>0.937667</td>\n",
              "      <td>1.000000</td>\n",
              "      <td>0.938179</td>\n",
              "    </tr>\n",
              "    <tr>\n",
              "      <th>target</th>\n",
              "      <td>0.798078</td>\n",
              "      <td>-0.440290</td>\n",
              "      <td>0.935431</td>\n",
              "      <td>0.938179</td>\n",
              "      <td>1.000000</td>\n",
              "    </tr>\n",
              "  </tbody>\n",
              "</table>\n",
              "</div>"
            ],
            "text/plain": [
              "              sepal_length  sepal_width  petal_length  petal_width    target\n",
              "sepal_length      1.000000    -0.166778      0.881898     0.834289  0.798078\n",
              "sepal_width      -0.166778     1.000000     -0.309635    -0.289032 -0.440290\n",
              "petal_length      0.881898    -0.309635      1.000000     0.937667  0.935431\n",
              "petal_width       0.834289    -0.289032      0.937667     1.000000  0.938179\n",
              "target            0.798078    -0.440290      0.935431     0.938179  1.000000"
            ]
          },
          "metadata": {
            "tags": []
          },
          "execution_count": 151
        }
      ]
    },
    {
      "cell_type": "markdown",
      "metadata": {
        "id": "mRq7ANHljsKA",
        "colab_type": "text"
      },
      "source": [
        "# Визуализация данных в Pandas"
      ]
    },
    {
      "cell_type": "code",
      "metadata": {
        "id": "iPWDu2jDf2Q_",
        "colab_type": "code",
        "outputId": "582d49e5-68a7-4aeb-c948-b1698c81367e",
        "colab": {
          "base_uri": "https://localhost:8080/",
          "height": 296
        }
      },
      "source": [
        "plt.scatter(df['sepal_length'], df['sepal_width'])\n",
        "plt.title('Iris Dataset')\n",
        "plt.xlabel('sepal_length')\n",
        "plt.ylabel('sepal_width')\n",
        "plt.show()"
      ],
      "execution_count": 159,
      "outputs": [
        {
          "output_type": "display_data",
          "data": {
            "image/png": "[encoded data removed]",
            "text/plain": [
              "<Figure size 432x288 with 1 Axes>"
            ]
          },
          "metadata": {
            "tags": []
          }
        }
      ]
    },
    {
      "cell_type": "code",
      "metadata": {
        "id": "akLBkD6akmMr",
        "colab_type": "code",
        "outputId": "322e3d4b-e453-4283-8a05-be6cce2f22cb",
        "colab": {
          "base_uri": "https://localhost:8080/",
          "height": 296
        }
      },
      "source": [
        "df.plot.scatter(x='sepal_length', y='sepal_width', s=40, title='Iris Dataset')\n",
        "plt.show()"
      ],
      "execution_count": 158,
      "outputs": [
        {
          "output_type": "display_data",
          "data": {
            "image/png": "[encoded data removed]",
            "text/plain": [
              "<Figure size 432x288 with 1 Axes>"
            ]
          },
          "metadata": {
            "tags": []
          }
        }
      ]
    },
    {
      "cell_type": "code",
      "metadata": {
        "id": "VtIdwh5rjVHM",
        "colab_type": "code",
        "outputId": "c4099a79-c3ec-4f82-d681-144527c300cf",
        "colab": {
          "base_uri": "https://localhost:8080/",
          "height": 405
        }
      },
      "source": [
        "colors = {0:'r', 1:'g', 2:'b'}\n",
        "\n",
        "plt.figure(figsize=(8, 6))\n",
        "for i in range(len(df['sepal_length'])):\n",
        "    plt.scatter(df['sepal_length'].iloc[i], df['sepal_width'].iloc[i],color=colors[df['target'].iloc[i]])\n",
        "plt.title('Iris Dataset')\n",
        "plt.xlabel('sepal_length')\n",
        "plt.ylabel('sepal_width')\n",
        "plt.show()"
      ],
      "execution_count": 157,
      "outputs": [
        {
          "output_type": "display_data",
          "data": {
            "image/png": "[encoded data removed]",
            "text/plain": [
              "<Figure size 576x432 with 1 Axes>"
            ]
          },
          "metadata": {
            "tags": []
          }
        }
      ]
    },
    {
      "cell_type": "code",
      "metadata": {
        "id": "Qnct75dUlHoq",
        "colab_type": "code",
        "outputId": "b6a0d45d-3c29-42ba-a031-616e2f69e3d2",
        "colab": {
          "base_uri": "https://localhost:8080/",
          "height": 615
        }
      },
      "source": [
        "df.plot.scatter(x='sepal_length', y='sepal_width', title='Iris Dataset', s=40, c='target', figsize=(10,6), colormap='viridis')\n",
        "plt.show()"
      ],
      "execution_count": 168,
      "outputs": [
        {
          "output_type": "stream",
          "text": [
            "/usr/local/lib/python3.6/dist-packages/pandas/plotting/_matplotlib/tools.py:307: MatplotlibDeprecationWarning: \n",
            "The rowNum attribute was deprecated in Matplotlib 3.2 and will be removed two minor releases later. Use ax.get_subplotspec().rowspan.start instead.\n",
            "  layout[ax.rowNum, ax.colNum] = ax.get_visible()\n",
            "/usr/local/lib/python3.6/dist-packages/pandas/plotting/_matplotlib/tools.py:307: MatplotlibDeprecationWarning: \n",
            "The colNum attribute was deprecated in Matplotlib 3.2 and will be removed two minor releases later. Use ax.get_subplotspec().colspan.start instead.\n",
            "  layout[ax.rowNum, ax.colNum] = ax.get_visible()\n",
            "/usr/local/lib/python3.6/dist-packages/pandas/plotting/_matplotlib/tools.py:313: MatplotlibDeprecationWarning: \n",
            "The rowNum attribute was deprecated in Matplotlib 3.2 and will be removed two minor releases later. Use ax.get_subplotspec().rowspan.start instead.\n",
            "  if not layout[ax.rowNum + 1, ax.colNum]:\n",
            "/usr/local/lib/python3.6/dist-packages/pandas/plotting/_matplotlib/tools.py:313: MatplotlibDeprecationWarning: \n",
            "The colNum attribute was deprecated in Matplotlib 3.2 and will be removed two minor releases later. Use ax.get_subplotspec().colspan.start instead.\n",
            "  if not layout[ax.rowNum + 1, ax.colNum]:\n"
          ],
          "name": "stderr"
        },
        {
          "output_type": "display_data",
          "data": {
            "image/png": "[encoded data removed]",
            "text/plain": [
              "<Figure size 720x432 with 2 Axes>"
            ]
          },
          "metadata": {
            "tags": []
          }
        }
      ]
    },
    {
      "cell_type": "code",
      "metadata": {
        "id": "o_KS6MKNlFww",
        "colab_type": "code",
        "outputId": "6cbd62e6-e659-4f16-9bda-72350dcd992d",
        "colab": {
          "base_uri": "https://localhost:8080/",
          "height": 719
        }
      },
      "source": [
        "df.drop('target', axis=1).plot.hist(subplots=True, layout=(2,2), figsize=(8, 8), bins=20)\n",
        "plt.show()"
      ],
      "execution_count": 166,
      "outputs": [
        {
          "output_type": "stream",
          "text": [
            "/usr/local/lib/python3.6/dist-packages/pandas/plotting/_matplotlib/tools.py:307: MatplotlibDeprecationWarning: \n",
            "The rowNum attribute was deprecated in Matplotlib 3.2 and will be removed two minor releases later. Use ax.get_subplotspec().rowspan.start instead.\n",
            "  layout[ax.rowNum, ax.colNum] = ax.get_visible()\n",
            "/usr/local/lib/python3.6/dist-packages/pandas/plotting/_matplotlib/tools.py:307: MatplotlibDeprecationWarning: \n",
            "The colNum attribute was deprecated in Matplotlib 3.2 and will be removed two minor releases later. Use ax.get_subplotspec().colspan.start instead.\n",
            "  layout[ax.rowNum, ax.colNum] = ax.get_visible()\n",
            "/usr/local/lib/python3.6/dist-packages/pandas/plotting/_matplotlib/tools.py:313: MatplotlibDeprecationWarning: \n",
            "The rowNum attribute was deprecated in Matplotlib 3.2 and will be removed two minor releases later. Use ax.get_subplotspec().rowspan.start instead.\n",
            "  if not layout[ax.rowNum + 1, ax.colNum]:\n",
            "/usr/local/lib/python3.6/dist-packages/pandas/plotting/_matplotlib/tools.py:313: MatplotlibDeprecationWarning: \n",
            "The colNum attribute was deprecated in Matplotlib 3.2 and will be removed two minor releases later. Use ax.get_subplotspec().colspan.start instead.\n",
            "  if not layout[ax.rowNum + 1, ax.colNum]:\n"
          ],
          "name": "stderr"
        },
        {
          "output_type": "display_data",
          "data": {
            "image/png": "[encoded data removed]",
            "text/plain": [
              "<Figure size 576x576 with 4 Axes>"
            ]
          },
          "metadata": {
            "tags": []
          }
        }
      ]
    }
  ]
}