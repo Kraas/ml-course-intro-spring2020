{
 "cells": [
  {
   "cell_type": "markdown",
   "metadata": {},
   "source": [
    "## Метрики качества классификации"
   ]
  },
  {
   "cell_type": "markdown",
   "metadata": {},
   "source": [
    "Продолжим изучать бинарную классификацию.\n",
    "\n",
    "В этом уроке мы поговорим про оценку качкства уже обученой модели.\n",
    "\n",
    "Пусть все также есть два класса: 0 и 1, истинные метки $y\\_true \\in$ {0,1} и $y\\_pred \\in$ {0,1}"
   ]
  },
  {
   "cell_type": "markdown",
   "metadata": {},
   "source": [
    "В предыдущих уроках мы мерили ошибку классификации, как *долю неправильных ответов*.\n",
    "\n",
    "Чаще при оценке качества классификации смотрят наоборот: *долю правильных ответов* - **accuracy**\n",
    "\n",
    "\\begin{equation*}\n",
    "accuracy = \\dfrac{1}{N}\\sum_{i=1}^N[\\tilde y_i = y_i]\n",
    "\\end{equation*}\n",
    "\n",
    "\\begin{cases}\n",
    "[True] = 1, \\\\\n",
    "[False] = 0.\n",
    "\\end{cases}\n",
    "\n",
    "* $y_i$ - истинная метка на $i$-ом объекте\n",
    "* $\\tilde y_i$ - предсказанная метка на $i$-ом объекте"
   ]
  },
  {
   "cell_type": "markdown",
   "metadata": {},
   "source": [
    "По результатам классификации полезно составить следующую таблицу:\n",
    "\n",
    "| predict/true  | y_true = 1         |y_true=0    |\n",
    "| ------------- |:------------------| -----------:|\n",
    "| **y_pred = 1**  | True Positive (TP)|False Positive (FP)|\n",
    "| **y_pred = 0**  | False Negative (FN)|True Negative (TN)|\n",
    "\n",
    "* True Positive (TP) - кол-во верно предсказанных объектов 1-го класса\n",
    "* False Positive (FP) -  кол-во НЕверно предсказанных объектов 1-го класса\n",
    "* True Negative (TN) - кол-во верно предсказанных объектов 0-го класса\n",
    "* False Negative (FN) - кол-во НЕверно предсказанных объектов 0-го класса"
   ]
  },
  {
   "cell_type": "markdown",
   "metadata": {},
   "source": [
    "Тогда метрику *accuracy* можно выразить, как:\n",
    "\\begin{equation*}\n",
    "accuracy = \\dfrac{TP + TN}{TP+TN+FN+FP}\n",
    "\\end{equation*}"
   ]
  },
  {
   "cell_type": "markdown",
   "metadata": {},
   "source": [
    "Рассмотрим следующий пример:\n",
    "\n",
    "Возьмем модель машинного обучения $f(x)$, обучим ее и получим следующие результаты на валидации:\n",
    "\n",
    "| predict/true  | y_true = 1          |y_true = 0    |\n",
    "| ------------- |:------------------| -----------:|\n",
    "| **y_pred = 1**  | 15 |18  |\n",
    "| **y_pred = 0**  | 80   |1000  |\n",
    "\n",
    "\\begin{equation*}\n",
    "accuracy = \\dfrac{15 + 1000}{15+1000+80+18} \\approx 0.912\n",
    "\\end{equation*}\n",
    "\n",
    "Точность выше 90%, кажется что неплохо.\n",
    "\n",
    "Возьмем другую, совершенно простую модель машинного обучения $a(x)$, которая каждому объекту $x$ ставит метку $0$:\n",
    "\n",
    "* $a(x) = 0$ для $\\forall x \\in X$\n",
    "\n",
    "| predict/true  | y_true = 1          |y_true = 0    |\n",
    "| ------------- |:------------------| -----------:|\n",
    "| **y_pred = 1**  | 0 |0  |\n",
    "| **y_pred = 0**  | 95   |1018  |\n",
    "\n",
    "Такая модель конечно же никуда не годиттся, но давайте посмотрим долю правильных ответов:\n",
    "\\begin{equation*}\n",
    "accuracy = \\dfrac{0 + 1018}{0+1018+95+0} \\approx 0.915\n",
    "\\end{equation*}"
   ]
  },
  {
   "cell_type": "markdown",
   "metadata": {},
   "source": [
    "Что мы имеем:\n",
    "* Константный классификатор выдал точность классификации даже лучше, чем обученая модель!\n",
    "\n",
    "* Оказалось выгоднее всем объектам ставить метку $0$, чем использовать обученый классификатор $f(x)$.\n",
    "\n",
    "* Это случилось потомучто объектов нулевого класса оказалось гораздо больше, чем объектов первого класса.\n",
    "\n",
    "* Выборка в которой объектов одного класса гораздо больше, чем объектов других классов, называется **несбалансированной**.\n",
    "\n",
    "* $Accuracy$ на несблансированных выборках полезно сравнивать с $accuracy$ полученной при ответах константного классификатора."
   ]
  },
  {
   "cell_type": "markdown",
   "metadata": {},
   "source": [
    "На практике очень часто встречаются несбалансированные выборки, поэтому полезно смотреть на саму таблицу ошибок.\n",
    "\n",
    "Такую таблицу можно строить и для большего числа классов, ее еще называют **confusion matrix**.\n",
    "\n",
    "| predict/true  | y_true = 1         |y_true=0    |\n",
    "| ------------- |:------------------| -----------:|\n",
    "| **y_pred = 1**  | True Positive (TP)|False Positive (FP)|\n",
    "| **y_pred = 0**  | False Negative (FN)|True Negative (TN)|\n",
    "\n",
    "Чаще всего помиомо $accuracy$ смотрят метрики устойчивые к *дисбалансу классов*:\n",
    "\n",
    "\\begin{equation*}\n",
    "precision = \\dfrac{TP}{TP+FP} \\\\\n",
    "recall = \\dfrac{TP}{TP+FN}\n",
    "\\end{equation*}\n",
    "\n",
    "* $precisin$ (*точность*) $-$ доля правильно классифицированных объектов 1-го класса среди всех кого модель отнесла к 1-му классу.\n",
    "* $recall$ (*полнота*) $-$ доля найденных объектов 1-го класса среди всех объектов первого класса.\n"
   ]
  },
  {
   "cell_type": "markdown",
   "metadata": {},
   "source": [
    "Давайте посмотрим на $precisin$ и $recall$ для нашего примера\n",
    "\n",
    "| predict/true  | y_true = 1          |y_true = 0    |\n",
    "| ------------- |:------------------| -----------:|\n",
    "| **y_pred = 1**  | 15 |18  |\n",
    "| **y_pred = 0**  | 80   |1000  |\n",
    "\n",
    "\n",
    "\\begin{equation*}\n",
    "precision = \\dfrac{15}{15+18} \\approx 0.45 \\\\\n",
    "recall = \\dfrac{15}{15+80} \\approx 0.158 \\\\\n",
    "accuracy = \\dfrac{15 + 1000}{15+1000+80+18} \\approx 0.912 \\\\\n",
    "\\end{equation*}\n",
    "\n",
    "Хоть доля правильных ответов $accuracy$ и выше $90\\%$, $precision$ и $recall$ оказались очеень низкими, обе метрики ниже $50\\%$, это очень плохо.\n",
    "\n",
    "По таким метрикам видно, что $f(x)$ не самый лучший классификатор.\n",
    "\n",
    "Мы находим всего $15 \\%$ объектов первого класса ($recall = 0.158$), при этом почти в половине случае ошибаемся ($precision = 0.45$).\n"
   ]
  },
  {
   "cell_type": "markdown",
   "metadata": {},
   "source": [
    "Если классифкатор $f(x)$ выдает вероятности принадлежности к классу, то подбирая разные пороги $p_0$, мы можем отдавать предпочтения либо *точности (precision)* либо *полноте (recall)*\n",
    "\n",
    "* Действительно, чем ниже порог $p_0$, тем чаще классификатор будет относить объект к 1-му классу. Увеличится $recall$, но и тогда станет больше ложно положительных срабатываний (False Positive), $precision$ упадет.\n",
    "* И наоборот, увеличивая порог $p_0$, мы будем реже относить объекты к первому классу, будем более внимательны, False Positive станет меньше , $precision$ увеличится. Но тогда и истинных объектов 1-го класса мы станем находить меньше, $recall$ упадет"
   ]
  },
  {
   "cell_type": "markdown",
   "metadata": {},
   "source": [
    "Иногда бывает не очень удобно смотреть сразу на 2 метрики $precision$ и $recall$, удобнее смотреть на одну.\n",
    "\n",
    "В этом случае мы могли бы взять среднее значение, но тогда становятся неразличимы следующие ситации:\n",
    "\n",
    "**Ex1:**\n",
    "\\begin{equation*}\n",
    "precision = 0.95 \\\\\n",
    "recall = 0.15 \\\\\n",
    "среднее = 0.55\n",
    "\\end{equation*}\n",
    "**Ex2:**\n",
    "\\begin{equation*}\n",
    "precision = 0.55 \\\\\n",
    "recall = 0.55 \\\\\n",
    "среднее = 0.55\n",
    "\\end{equation*}\n",
    "\n",
    "Совершенно разные ситуации, а среднее одинаковое."
   ]
  },
  {
   "cell_type": "markdown",
   "metadata": {},
   "source": [
    "Чтобы такого избежать, вместо среднего используют среднее гармоническое (**F-меру**):\n",
    "\n",
    "\\begin{equation*}\n",
    "F = \\dfrac{2 \\cdot precision \\cdot recall}{precision + recall}\n",
    "\\end{equation*}\n",
    "\n",
    "**Ex1:**\n",
    "\\begin{equation*}\n",
    "precision = 0.95 \\\\\n",
    "recall = 0.15 \\\\\n",
    "F = \\dfrac{2 \\cdot 0.95 \\cdot 0.15}{0.95 + 0.15} \\approx 0.26\n",
    "\\end{equation*}\n",
    "**Ex2:**\n",
    "\\begin{equation*}\n",
    "precision = 0.55 \\\\\n",
    "recall = 0.55 \\\\\n",
    "F = \\dfrac{2 \\cdot 0.55 \\cdot 0.55}{0.55 + 0.55} = 0.55\n",
    "\\end{equation*}\n",
    "\n",
    "**F-меру** еще можно понимать, как сглаженный минимум - \n",
    "\n",
    "*F-мера* близка к нулю, когда близка к нулю хотябы одна из двух метрик (*precision* или *recall*).\n"
   ]
  },
  {
   "cell_type": "markdown",
   "metadata": {},
   "source": [
    "Все перечисленные метрики классификации требуют предсказаний в виде метки класса.\n",
    "\n",
    "Значит для оценки качества предсказаний каждый раз необходимо подбирать пороги, что не всегда бывает удобно.\n",
    "\n",
    "Хотелось бы уметь оценивать качество классификации по самим вероятностям."
   ]
  },
  {
   "cell_type": "markdown",
   "metadata": {},
   "source": [
    "Рассмотрим двумерную плоскость. \n",
    "\n",
    "* по оси абсцисс будем откладывать долю неверно принятых объектов (False Positive Rate, FPR),\n",
    "\n",
    "* по оси ординат - долю  верно принятых объектов (True Positive Rate, TPR, он же *recall*)\n",
    "\n",
    "\\begin{equation*}\n",
    "FPR = \\dfrac{FP}{FP+TN} \\\\\n",
    "TPR = \\dfrac{TP}{TP+FN}\n",
    "\\end{equation*}\n",
    "\n",
    "Каждый выбор порога $p_0$ (всего их $N+1$, $N$-количество объектов в выборке) будет соотвествовать точке на такой плоскости с осями *FPR* и *TPR*, тогда меняя порог $p_0$ мы можем построить кривую, которая всегда будет выходить из точки (0,0) и приходить  в точку (1,1). А численной мерой качества будет площадь под такой кривой.\n",
    "\n",
    "* Кривая построенная таким образом называется **ROC криваой**\n",
    "* Площадь под *ROC криваой* называют **AUC ROC**"
   ]
  },
  {
   "cell_type": "markdown",
   "metadata": {},
   "source": [
    "Разберем процедуру построения *ROC криваой* на конкретном примере.\n",
    "\n",
    "Пусть наш алгоритм машинного обучения $f(x)$ выдал оценки вероятностей первого класса. Также у нас есть исстинные метки класса.\n",
    "\n",
    "\n",
    "|y_pred| y_true|\n",
    "|------| -----:|\n",
    "|0.3 |1|        \n",
    "|0.1 |0|\n",
    "|0 |0|\n",
    "|0.2 |1|\n",
    "|0.2 |0|\n",
    "|0.5 |0|\n",
    "|0.7 |1|\n",
    "\n",
    "Отсортируем таблицу по оценкам алгоритма $f(x)$\n",
    "\n",
    "\n",
    "|y_pred| y_true|\n",
    "|------| -----:|\n",
    "|0.7 |1|\n",
    "|0.5 |0|\n",
    "|0.3 |1|   \n",
    "|0.2 |1|\n",
    "|0.2 |0|\n",
    "|0.1 |0|\n",
    "|0 |0|\n",
    "\n",
    "* Пусть $k_0$ - число объектов истинного класса 0, $k_0$=4\n",
    "* $k_1$ - число объектов истинного класса 1, $k_1$ = 3"
   ]
  },
  {
   "cell_type": "markdown",
   "metadata": {},
   "source": [
    "1. Разобьем единичный квадрат на $k_0$ вертикальных и $k_1$ горизонтальных линий.\n",
    "2. Стартуем из точки $(0,0)$, \n",
    "3. Идем по отсортированной таблице сверху вниз. \n",
    "   * Если **y_true == 1**, то делаем шаг вверх\n",
    "   * Если **y_true == 0**, то делаем шаг влево\n",
    "4. Идем вниз по таблице пока не дойдем до конца\n",
    "5. В итоге должны оказаться в точке (1,1) так как сделали $k_0+k_1$ шагов"
   ]
  },
  {
   "cell_type": "code",
   "execution_count": 132,
   "metadata": {},
   "outputs": [
    {
     "data": {
      "image/png": "[encoded data removed]",
      "text/plain": [
       "<Figure size 432x288 with 1 Axes>"
      ]
     },
     "metadata": {},
     "output_type": "display_data"
    }
   ],
   "source": [
    "def plot_roc():\n",
    "    fig = plt.figure()\n",
    "    ax = fig.add_subplot(1, 1, 1)\n",
    "    x_minor_ticks = np.linspace(0, 1, 5)\n",
    "    y_minor_ticks = np.linspace(0, 1, 4)\n",
    "    ax.set_xticks(x_minor_ticks, minor=True)\n",
    "    ax.set_yticks(y_minor_ticks, minor=True)\n",
    "    ax.grid(which='minor', alpha=1)\n",
    "plot_roc()"
   ]
  }
 ],
 "metadata": {
  "celltoolbar": "Slideshow",
  "kernelspec": {
   "display_name": "Python 3",
   "language": "python",
   "name": "python3"
  },
  "language_info": {
   "codemirror_mode": {
    "name": "ipython",
    "version": 3
   },
   "file_extension": ".py",
   "mimetype": "text/x-python",
   "name": "python",
   "nbconvert_exporter": "python",
   "pygments_lexer": "ipython3",
   "version": "3.6.5"
  }
 },
 "nbformat": 4,
 "nbformat_minor": 2
}
